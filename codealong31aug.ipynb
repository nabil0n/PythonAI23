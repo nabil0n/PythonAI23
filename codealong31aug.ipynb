{
 "cells": [
  {
   "cell_type": "markdown",
   "metadata": {},
   "source": [
    "# Data types och variabler\n",
    "\n",
    "- Data typer förklarar hur 1or och 0or ska läsas av datorn.\n",
    "- - String (text)\n",
    "- - Integer (heltal)\n",
    "- - Float (flyttal, floating point, decimaltal)\n",
    "- - Bool (boolean, True False)\n",
    "- - Finns fler,  vi tar det en annan gång"
   ]
  },
  {
   "cell_type": "code",
   "execution_count": 4,
   "metadata": {},
   "outputs": [
    {
     "name": "stdout",
     "output_type": "stream",
     "text": [
      "Isak\n",
      "8\n",
      "True\n",
      "0.3\n"
     ]
    },
    {
     "data": {
      "text/plain": [
       "bool"
      ]
     },
     "execution_count": 4,
     "metadata": {},
     "output_type": "execute_result"
    }
   ],
   "source": [
    "myVariable = \"Isak\"\n",
    "print(myVariable)\n",
    "\n",
    "(myVariable) = 8\n",
    "print(myVariable)\n",
    "\n",
    "myBool = True\n",
    "print(myBool)\n",
    "\n",
    "myFloat = 0.3\n",
    "print(myFloat)\n",
    "\n",
    "type(myBool)"
   ]
  },
  {
   "cell_type": "markdown",
   "metadata": {},
   "source": [
    "# Literal Values\n",
    "\n",
    "- Man kan se direkt på värdena vad de är\n",
    "- \"Hello\"\n",
    "- - '', \"\", case sensitive\n",
    "- 5\n",
    "- 4.5\n",
    "- True"
   ]
  },
  {
   "cell_type": "markdown",
   "metadata": {},
   "source": [
    "# Variabler\n",
    "\n",
    "- Case sensitive\n",
    "- Skapad när den är assignad, behöver inte deklareras.\n",
    "- Dynamic typing\n",
    "- - Typen kan assignas om automatiskt.\n",
    "- Cast type with str(), int(), float(), bool()\n",
    "- get type with type()\n",
    "- delete with del()"
   ]
  },
  {
   "cell_type": "code",
   "execution_count": 8,
   "metadata": {},
   "outputs": [
    {
     "name": "stdout",
     "output_type": "stream",
     "text": [
      "<class 'str'> <class 'int'>\n"
     ]
    }
   ],
   "source": [
    "myNumber = \"43\"\n",
    "myNumber2 = int(myNumber)\n",
    "\n",
    "print(type(myNumber), type(myNumber2))\n",
    "\n",
    "#del(myNumber)\n",
    "#print(myNumber) #error"
   ]
  }
 ],
 "metadata": {
  "kernelspec": {
   "display_name": "PythonAI23-Isak-Andersson-IBaVIK9C",
   "language": "python",
   "name": "python3"
  },
  "language_info": {
   "codemirror_mode": {
    "name": "ipython",
    "version": 3
   },
   "file_extension": ".py",
   "mimetype": "text/x-python",
   "name": "python",
   "nbconvert_exporter": "python",
   "pygments_lexer": "ipython3",
   "version": "3.11.4"
  },
  "orig_nbformat": 4
 },
 "nbformat": 4,
 "nbformat_minor": 2
}
