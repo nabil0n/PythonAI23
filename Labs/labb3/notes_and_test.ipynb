{
 "cells": [
  {
   "cell_type": "markdown",
   "metadata": {},
   "source": [
    "# Labb 3\n",
    "___\n",
    "\n",
    "## Uppgiften i egna ord\n",
    "\n",
    "- **Fokus:**\n",
    "    - Klasser\n",
    "    - Struktur\n",
    "    - Läsbarhet!\n",
    "\n",
    "\n",
    "1. **Skapa klasser** (i separata filer)\n",
    "- rektangel\n",
    "- cirkel \n",
    "- (VG: kub och sfär)\n",
    "\n",
    "2. **Följ listan om vad varje klass ska innehålla** (copypaste):\n",
    "- en area property\n",
    "- en omkrets property\n",
    "- en operator overload av == för att checka likhet\n",
    "- en operator overload av komparatoroperatorer <,>,<=,>= för jämförelser\n",
    "- en override av \\_\\_repr__()\n",
    "- en override av \\_\\_str__()\n",
    "- x och y som representerar mittpositionen av objektet\n",
    "- en translationsmetod som gör det möjligt att förflytta x och y\n",
    "- en metod som checkar om en viss punkt befinner sig innanför i objektet\n",
    "- felhantering\n",
    "- en metod som checkar om cirkelinstansen är en enhetscirkel\n",
    "- en metod som checkar om rektangelinstansen är en kvadrat\n",
    "\n",
    "3. **Plotta, och testa**\n",
    "- interaktivitet\n",
    "- testkommandos i labb pdf\n",
    "\n",
    "4. **Bonus** (förutom kub och sfär)\n",
    "- fundera över hur olika metoder, properties förändras ex. area, omkrets"
   ]
  },
  {
   "cell_type": "code",
   "execution_count": 1,
   "metadata": {},
   "outputs": [
    {
     "name": "stdout",
     "output_type": "stream",
     "text": [
      "16.0\n",
      "(2.0, 2.0)\n",
      "Rectangle: Center position at (x=0.5, y=2.0), width=4.0, height=4.0\n",
      "Rectangle: Center position at (x=2.0, y=2.0), width=3.5, height=4.0\n",
      "False\n",
      "False\n",
      "Rectangle\n",
      "Circle: Radius=4.0 with center position at x=2.0, y=2.0\n",
      "False\n",
      "Sphere = Sphere: Radius=2.0 with center position at x=0.0, y=0.0, z=0.0\n",
      "Cuboid = Cuboid: Center position at (x=0.0, y=0.0, z=0.0), width=2.0, height=2.0, depth=2.0\n",
      "(0.0, 0.0)\n",
      "(1, 1)\n"
     ]
    }
   ],
   "source": [
    "from Geometry import Geometry\n",
    "from Rectangle import Rectangle\n",
    "from Circle import Circle\n",
    "from Sphere import Sphere\n",
    "from Cuboid import Cuboid\n",
    "\n",
    "rektangel1 = Rectangle(0.5, 2, 4, 4)\n",
    "rektangel2 = Rectangle(2, 2, 3.5, 4)\n",
    "ring1 = Circle(2, 2, 4)\n",
    "ring2 = Circle(5, 1, 1)\n",
    "geo = Geometry(4 ,4)\n",
    "\n",
    "print(rektangel1.area())\n",
    "\n",
    "\n",
    "print(ring1.get_position())\n",
    "#print(ring1.translate(3, 3))\n",
    "#print(ring1.get_position())\n",
    "\n",
    "print(rektangel1)\n",
    "print(rektangel2)\n",
    "\n",
    "print(rektangel1 == rektangel2)\n",
    "print(ring1 == ring2)\n",
    "print(rektangel1.type)\n",
    "print(ring1)\n",
    "print(ring2.is_unit_circle())\n",
    "\n",
    "klot = Sphere(0, 0, 0, 2)\n",
    "box = Cuboid(0, 0, 0, 2, 2, 2)\n",
    "\n",
    "print(f\"Sphere = {klot}\")\n",
    "print(f\"Cuboid = {box}\")\n",
    "\n",
    "print(klot.get_position())\n",
    "klot.translate(1, 1, 1)\n",
    "print(klot.get_position())"
   ]
  }
 ],
 "metadata": {
  "kernelspec": {
   "display_name": "python-programmering-Isak-Andersson-XSmhp6s-",
   "language": "python",
   "name": "python3"
  },
  "language_info": {
   "codemirror_mode": {
    "name": "ipython",
    "version": 3
   },
   "file_extension": ".py",
   "mimetype": "text/x-python",
   "name": "python",
   "nbconvert_exporter": "python",
   "pygments_lexer": "ipython3",
   "version": "3.11.5"
  },
  "orig_nbformat": 4
 },
 "nbformat": 4,
 "nbformat_minor": 2
}
