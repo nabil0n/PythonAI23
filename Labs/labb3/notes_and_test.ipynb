{
 "cells": [
  {
   "cell_type": "markdown",
   "metadata": {},
   "source": [
    "# Labb 3\n",
    "___\n",
    "\n",
    "## Uppgiften i egna ord\n",
    "\n",
    "- **Fokus:**\n",
    "    - Klasser\n",
    "    - Struktur\n",
    "    - Läsbarhet!\n",
    "\n",
    "\n",
    "1. **Skapa klasser** (i separata filer)\n",
    "- rektangel\n",
    "- cirkel \n",
    "- (VG: kub och sfär)\n",
    "\n",
    "2. **Följ listan om vad varje klass ska innehålla** (copypaste):\n",
    "- en area property\n",
    "- en omkrets property\n",
    "- en operator overload av == för att checka likhet\n",
    "- en operator overload av komparatoroperatorer <,>,<=,>= för jämförelser\n",
    "- en override av \\_\\_repr__()\n",
    "- en override av \\_\\_str__()\n",
    "- x och y som representerar mittpositionen av objektet\n",
    "- en translationsmetod som gör det möjligt att förflytta x och y\n",
    "- en metod som checkar om en viss punkt befinner sig innanför i objektet\n",
    "- felhantering\n",
    "- en metod som checkar om cirkelinstansen är en enhetscirkel\n",
    "- en metod som checkar om rektangelinstansen är en kvadrat\n",
    "\n",
    "3. **Plotta, och testa**\n",
    "- interaktivitet\n",
    "- testkommandos i labb pdf\n",
    "\n",
    "4. **Bonus** (förutom kub och sfär)\n",
    "- fundera över hur olika metoder, properties förändras ex. area, omkrets"
   ]
  },
  {
   "cell_type": "markdown",
   "metadata": {},
   "source": [
    "## ATT GÖRA\n",
    "- felhantering (Done? iaf kanske i klasserna)\n",
    "- is_inside (snyggare, och skriv klart **inside_box_math()**) (Done, går snyggare?)\n",
    "- Dela upp och gör privat!\n",
    "    - Gör matten till egna privata @properties och sen metoder som kallar dem.\n",
    "- Skriv en main som makes sense\n",
    "- Overloada fler operatorer (Done?)\n",
    "- Plotta snygga plots (bonus) (Svårt. Ta hjälp imorgon.)\n",
    "- str vs repr overload? Varför ha båda?\n",
    "\n",
    "### GÖR FÄRDIGT UML"
   ]
  },
  {
   "cell_type": "code",
   "execution_count": 3,
   "metadata": {},
   "outputs": [],
   "source": [
    "#from Geometry import Geometry\n",
    "from Rectangle import Rectangle\n",
    "from Circle import Circle\n",
    "from Sphere import Sphere\n",
    "from Cuboid import Cuboid\n",
    "\n",
    "rektangel1 = Rectangle(0, 0, 4, 4)\n",
    "rektangel2 = Rectangle(2, 2, 3.5, 4)\n",
    "ring1 = Circle(2, 2, 4)\n",
    "ring2 = Circle(5, 1, 1)\n",
    "ring3 = Circle(6,7,8)\n",
    "#geo = Geometry(1,4)\n",
    "klot1 = Sphere(0, 0, 0, 2)\n",
    "klot2 = Sphere(-4, 3.2, 5, 1)\n",
    "box1 = Cuboid(0, 0, 0, 2, 2, 2)\n",
    "box2 = Cuboid(4.9, -1, 3, 5, 2, 2)\n"
   ]
  }
 ],
 "metadata": {
  "kernelspec": {
   "display_name": "python-programmering-Isak-Andersson-XSmhp6s-",
   "language": "python",
   "name": "python3"
  },
  "language_info": {
   "codemirror_mode": {
    "name": "ipython",
    "version": 3
   },
   "file_extension": ".py",
   "mimetype": "text/x-python",
   "name": "python",
   "nbconvert_exporter": "python",
   "pygments_lexer": "ipython3",
   "version": "3.11.5"
  },
  "orig_nbformat": 4
 },
 "nbformat": 4,
 "nbformat_minor": 2
}
