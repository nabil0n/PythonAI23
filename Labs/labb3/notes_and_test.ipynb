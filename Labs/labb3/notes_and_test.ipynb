{
 "cells": [
  {
   "cell_type": "markdown",
   "metadata": {},
   "source": [
    "# Labb 3\n",
    "___\n",
    "\n",
    "## Uppgiften i egna ord\n",
    "\n",
    "- **Fokus:**\n",
    "    - Klasser\n",
    "    - Struktur\n",
    "    - Läsbarhet!\n",
    "\n",
    "\n",
    "1. **Skapa klasser** (i separata filer)\n",
    "- rektangel **DONE**\n",
    "- cirkel  **DONE**\n",
    "- (VG: kub och sfär) **DONE**\n",
    "\n",
    "2. **Följ listan om vad varje klass ska innehålla** (copypaste):\n",
    "- en area property **DONE** ?\n",
    "- en omkrets property **DONE** ?\n",
    "- en operator overload av == för att checka likhet **DONE**\n",
    "- en operator overload av komparatoroperatorer <,>,<=,>= för jämförelser **DONE**\n",
    "- en override av \\_\\_repr__() **DONE**\n",
    "- en override av \\_\\_str__() **DONE** ?\n",
    "- x och y som representerar mittpositionen av objektet **DONE**\n",
    "- en translationsmetod som gör det möjligt att förflytta x och y **DONE**\n",
    "- en metod som checkar om en viss punkt befinner sig innanför i objektet **DONE**\n",
    "- felhantering **DONE** ?\n",
    "- en metod som checkar om cirkelinstansen är en enhetscirkel **DONE**\n",
    "- en metod som checkar om rektangelinstansen är en kvadrat **DONE**\n",
    "\n",
    "3. **Plotta, och testa**\n",
    "- interaktivitet\n",
    "- testkommandos i labb pdf\n",
    "\n",
    "4. **Bonus** (förutom kub och sfär)\n",
    "- fundera över hur olika metoder, properties förändras ex. area, omkrets"
   ]
  },
  {
   "cell_type": "markdown",
   "metadata": {},
   "source": [
    "## ATT GÖRA\n",
    "- felhantering (Done? iaf kanske i klasserna)\n",
    "- is_inside (Done, går snyggare?)\n",
    "- Dela upp och gör privat! **DONE**\n",
    "- **Skriv en main som makes sense**\n",
    "- Overloada fler operatorer (Done?)\n",
    "- **Plotta snygga plots (bonus) (Svårt. Ta hjälp imorgon.)** *Klar med 2d, 3d har jag saxat från webben men förstår inte hur det funkar*\n",
    "- str vs repr overload? Varför ha båda?\n",
    "    - gör str för användaren och repr för kodaren. så repr ska se ut typ som koden när den instansieras.\n",
    "- OVERLOADA __LT__\n",
    "\n",
    "### GÖR FÄRDIGT UML"
   ]
  },
  {
   "cell_type": "code",
   "execution_count": 1,
   "metadata": {},
   "outputs": [
    {
     "name": "stdout",
     "output_type": "stream",
     "text": [
      "Cuboid: Center position at (x=2.0, y=0.0, z=2.0), width=2.0, height=2.0, depth=2.0\n",
      "16.0\n",
      "False\n",
      "Rectangle: Center position at (x=0.0, y=0.0), width=4.0, height=4.0\n",
      "Rectangle: Center position at (x=2.0, y=2.0), width=3.5, height=4.0\n",
      "Circle: Radius=4.0 with center position at x=2.0, y=2.0\n",
      "3.141592653589793\n",
      "50.26548245743669\n",
      "None\n",
      "Sphere: Radius=2.0 with center position at x=1.0, y=2.0, z=3.0\n",
      "Sphere: Radius=1.0 with center position at x=-4.0, y=3.2, z=5.0\n",
      "False\n",
      "True\n",
      "True\n",
      "True\n",
      "True\n"
     ]
    }
   ],
   "source": [
    "#from Geometry import Geometry\n",
    "from Rectangle import Rectangle\n",
    "from Circle import Circle\n",
    "from Sphere import Sphere\n",
    "from Cuboid import Cuboid\n",
    "\n",
    "#geo = Geometry(1,4)\n",
    "rektangel1 = Rectangle(0, 0, 4, 4)\n",
    "rektangel2 = Rectangle(2, 2, 3.5, 4)\n",
    "ring1 = Circle(2, 2, 4)\n",
    "ring2 = Circle(5, 1, 1)\n",
    "ring3 = Circle(6,7,8)\n",
    "klot1 = Sphere(0, 0, 0, 2)\n",
    "klot2 = Sphere(-4, 3.2, 5, 1)\n",
    "box1 = Cuboid(2, 0, 2, 2, 2, 2)\n",
    "box2 = Cuboid(4.9, -1, 3, 5, 2, 2)\n",
    "\n",
    "print(box1)\n",
    "box1.is_inside(-1,1,1)\n",
    "\n",
    "print(rektangel1.get_area)\n",
    "x = rektangel1.get_area\n",
    "\n",
    "box1.translate(5, 3, 2)\n",
    "\n",
    "print(rektangel1.is_inside(3, 4))\n",
    "\n",
    "print(rektangel1)\n",
    "print(rektangel2)\n",
    "print(ring1)\n",
    "print(ring2.get_area)\n",
    "print(ring3.get_circumference)\n",
    "print(klot1.translate(1,2,3))\n",
    "print(klot1)\n",
    "print(klot2)\n",
    "print(box1.is_inside(1,2,3))\n",
    "print(box2 < klot1)\n",
    "print(box2 > klot1)\n",
    "print(box2 <= klot1)\n",
    "print(box2 >= klot1)"
   ]
  }
 ],
 "metadata": {
  "kernelspec": {
   "display_name": "python-programmering-Isak-Andersson-XSmhp6s-",
   "language": "python",
   "name": "python3"
  },
  "language_info": {
   "codemirror_mode": {
    "name": "ipython",
    "version": 3
   },
   "file_extension": ".py",
   "mimetype": "text/x-python",
   "name": "python",
   "nbconvert_exporter": "python",
   "pygments_lexer": "ipython3",
   "version": "3.11.5"
  },
  "orig_nbformat": 4
 },
 "nbformat": 4,
 "nbformat_minor": 2
}
