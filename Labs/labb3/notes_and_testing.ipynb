{
 "cells": [
  {
   "cell_type": "markdown",
   "metadata": {},
   "source": [
    "# Labb 3\n",
    "___\n",
    "\n",
    "## Uppgiften i egna ord\n",
    "\n",
    "- **Fokus:**\n",
    "    - Klasser\n",
    "    - Struktur\n",
    "    - Läsbarhet!\n",
    "\n",
    "\n",
    "1. **Skapa klasser** (i separata filer)\n",
    "- rektangel **DONE**\n",
    "- cirkel  **DONE**\n",
    "- (VG: kub och sfär) **DONE**\n",
    "\n",
    "2. **Följ listan om vad varje klass ska innehålla** (copypaste):\n",
    "- en area property **DONE** ?\n",
    "- en omkrets property **DONE** ?\n",
    "- en operator overload av == för att checka likhet **DONE**\n",
    "- en operator overload av komparatoroperatorer <,>,<=,>= för jämförelser **DONE**\n",
    "- en override av \\_\\_repr__() **DONE**\n",
    "- en override av \\_\\_str__() **DONE** ?\n",
    "- x och y som representerar mittpositionen av objektet **DONE**\n",
    "- en translationsmetod som gör det möjligt att förflytta x och y **DONE**\n",
    "- en metod som checkar om en viss punkt befinner sig innanför i objektet **DONE**\n",
    "- felhantering **DONE** ?\n",
    "- en metod som checkar om cirkelinstansen är en enhetscirkel **DONE**\n",
    "- en metod som checkar om rektangelinstansen är en kvadrat **DONE**\n",
    "\n",
    "3. **Plotta, och testa**\n",
    "- interaktivitet *nedprioriterat*\n",
    "- testkommandos i labb pdf **DONE** *på plats i main.py*\n",
    "\n",
    "4. **Bonus** (förutom kub och sfär) **DONE**\n",
    "- fundera över hur olika metoder, properties förändras ex. area, omkrets **DONE** tycker jag"
   ]
  },
  {
   "cell_type": "markdown",
   "metadata": {},
   "source": [
    "## ATT GÖRA\n",
    "- felhantering **DONE**\n",
    "- is_inside **DONE**\n",
    "- Dela upp och gör privat! **DONE**\n",
    "- **Skriv en main som makes sense** *nedprioriterat*\n",
    "- Overloada fler operatorer **DONE**\n",
    "- **Plotta snygga plots (bonus)** *nedprioriterat* fungerar halvt.\n",
    "- str vs repr overload **DONE**\n",
    "- SKRIV TESTER! pytest **DONE**\n",
    "    - Kan och kanske bör ha gjort många fler tester, men blev lite stressigt mot slutet då jag missade den punkten i anvisningen.\n",
    "- Docstrings! **DONE**\n",
    "    - Tänkte more is more, så kanske alldeles för mycket. Men svårt att hitta tycker jag vad som anses lagom.\n",
    "- GÖR FÄRDIGT UML **DONE**\n",
    "    - Lite samma som ovan. Jag kände att jag inte riktigt visste vad som är nödvändig och onödvändig information, så gissade i överkant."
   ]
  },
  {
   "cell_type": "code",
   "execution_count": 1,
   "metadata": {},
   "outputs": [
    {
     "name": "stdout",
     "output_type": "stream",
     "text": [
      "(1.0, 1.0, 1.0)\n"
     ]
    }
   ],
   "source": [
    "from Geometry import Geometry\n",
    "from Rectangle import Rectangle\n",
    "from Circle import Circle\n",
    "from Sphere import Sphere\n",
    "from Cuboid import Cuboid\n",
    "\n",
    "geo = Geometry(1,4)\n",
    "rektangel1 = Rectangle(0, 0, 4, 4)\n",
    "rektangel2 = Rectangle(2, 2, 3.5, 4)\n",
    "ring1 = Circle(2, 2, 4)\n",
    "ring2 = Circle(5, 1, 1)\n",
    "ring3 = Circle(6,7,8)\n",
    "klot1 = Sphere(0, 0, 0, 2)\n",
    "klot2 = Sphere(-4, 3.2, 5, 1)\n",
    "box1 = Cuboid(0, 0, 0, 2, 2, 2)\n",
    "box2 = Cuboid(4.9, -1, 3, 5, 2, 2)\n",
    "\n",
    "\n",
    "# print(box1)\n",
    "#print(box1.is_inside(1,1,-1))\n",
    "\n",
    "# print(rektangel1.get_area)\n",
    "# x = rektangel1.get_area\n",
    "\n",
    "# box1.translate(5, 3, 2)\n",
    "\n",
    "# print(rektangel1.is_inside(2, 2))\n",
    "\n",
    "# print(rektangel1.is_inside(3,3))\n",
    "# print(rektangel2)\n",
    "# print(ring1)\n",
    "# print(ring2.__repr__())\n",
    "# print(ring3.get_circumference)\n",
    "# print(klot1.translate(1,2,3))\n",
    "# print(klot1)\n",
    "# print(klot2.is_unit_sphere)\n",
    "#print(box1.top_right_far)\n",
    "# print(klot1 < klot1)\n",
    "# print(box2 > klot1)\n",
    "# print(klot2 <= klot1)\n",
    "# print(box2 >= klot1)\n",
    "# print(geo.__repr__())\n",
    "\n",
    "# print(type(x))\n",
    "#print(ring1.translate(1,1))"
   ]
  }
 ],
 "metadata": {
  "kernelspec": {
   "display_name": "python-programmering-Isak-Andersson-XSmhp6s-",
   "language": "python",
   "name": "python3"
  },
  "language_info": {
   "codemirror_mode": {
    "name": "ipython",
    "version": 3
   },
   "file_extension": ".py",
   "mimetype": "text/x-python",
   "name": "python",
   "nbconvert_exporter": "python",
   "pygments_lexer": "ipython3",
   "version": "3.11.5"
  },
  "orig_nbformat": 4
 },
 "nbformat": 4,
 "nbformat_minor": 2
}
