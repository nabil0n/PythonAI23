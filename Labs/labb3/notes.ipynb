{
 "cells": [
  {
   "cell_type": "markdown",
   "metadata": {},
   "source": [
    "# Labb 3\n",
    "___\n",
    "\n",
    "## Uppgiften i egna ord\n",
    "\n",
    "- **Fokus:**\n",
    "    - Klasser\n",
    "    - Struktur\n",
    "    - Läsbarhet!\n",
    "\n",
    "1. Skapa klasser\n",
    "    - rektangel\n",
    "    - cirkel \n",
    "    - (VG: kub och sfär)\n",
    "2. Följ listan om vad varje klass ska innehålla (copypaste):\n",
    "    - en area property\n",
    "    - en omkrets property\n",
    "    - en operator overload av == för att checka likhet\n",
    "    - en operator overload av komparatoroperatorer <,>,<=,>= för jämförelser\n",
    "    - en override av \\_\\_repr__()\n",
    "    - en override av \\_\\_str__()\n",
    "    - x och y som representerar mittpositionen av objektet\n",
    "    - en translationsmetod som gör det möjligt att förflytta x och y\n",
    "    - en metod som checkar om en viss punkt befinner sig innanför i objektet\n",
    "    - felhantering\n",
    "    - en metod som checkar om cirkelinstansen är en enhetscirkel\n",
    "    - en metod som checkar om rektangelinstansen är en kvadrat"
   ]
  },
  {
   "cell_type": "code",
   "execution_count": null,
   "metadata": {},
   "outputs": [],
   "source": []
  }
 ],
 "metadata": {
  "language_info": {
   "name": "python"
  },
  "orig_nbformat": 4
 },
 "nbformat": 4,
 "nbformat_minor": 2
}
