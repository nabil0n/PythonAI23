{
 "cells": [
  {
   "cell_type": "markdown",
   "metadata": {},
   "source": [
    "# Labb 2\n",
    "## Pichu vs Pikachu\n",
    "---\n",
    "Syftet med den här laborationen är att använda verktygen du lärt dig i Python för att implementera en förenklad maskininlärningsalgoritm. I den här laborationen finns (simulerad) data på Pichus och Pikachus längder och bredder. Du ska skapa en algoritm som baserat på den givna datan kunna avgöra om en ny datapunkt ska klassificeras som Pichu eller Pikachu.\n",
    "\n",
    "### Grunduppgift\n",
    "Följ detta flödesschema för att bygga den grundläggande algoritmen\n",
    "\n",
    "![flödesschema](pikapichuflodesschema.png)\n",
    "\n",
    "- (25,32), (24.2,31.5), (22,34), (20.5,34)\n",
    "\n",
    "Facit på givna testdatan:\n",
    "- Sample with (width, height): (25, 32) classified as Pikachu\n",
    "- Sample with (width, height): (24.2, 31.5) classified as Pikachu\n",
    "- Sample with (width, height): (22, 34) classified as Pikachu\n",
    "- Sample with (width, height): (20.5, 34) classified as Pichu\n",
    "\n",
    "### Uppgifter\n",
    "Gör dessa uppgifter när du klassificerat testdatan korrekt.\n",
    "- Låt användaren mata in en testpunkt och låt algoritmen avgöra dess klass. Ta med felhanteringen som tar hand om negativa tal och icke-numeriska inputs. Se till att ha användarvänliga felmeddelanden.\n",
    "- Den approachen vi använt med närmaste punkten kan klassificera fel när punkterna för respektive klass går in i varandra. Nu ska du istället välja de tio närmaste punkterna till din testpunkt. Den klass testpunkten tillhör avgörs av majoritetsröstning av de närmaste punkterna.\n"
   ]
  },
  {
   "cell_type": "code",
   "execution_count": 51,
   "metadata": {},
   "outputs": [
    {
     "name": "stdout",
     "output_type": "stream",
     "text": [
      "pikaWIDTHS: [23.63591632187622, 21.78020031891186, 25.20630552859312, 24.73645685241186, 23.79257560586339, 24.557612968127465, 25.813562951888365, 24.923378667802954, 25.311244044578427, 22.819091361866796, 22.723629043769336, 25.82936770950206, 24.385289647525166, 26.525412887538252, 22.980962976720388, 25.17676132371397, 24.68867147060795, 23.02865997158701, 23.868174335146136, 26.388368121945867, 25.567802785102412, 23.99071038023876, 23.792145242488125, 24.111063562798908, 24.587154114074174, 21.65956855815321, 24.87225986527509, 22.121125492746756, 26.517189386365075, 23.388322747322558, 20.240420339246214, 24.59096971887165, 25.116586706562245, 25.557501503948984, 24.387651550868913, 22.826788929142136, 24.609041154081922, 23.619820901736276, 25.15076144887497, 24.47796159427686, 24.004087953898246, 22.493387946548573, 22.42591934771403, 22.15365577923418, 24.991105175469915, 25.5491811833759, 20.216002852334192, 25.922634453956498, 26.5173046073707, 21.23487155577698, 21.735098682375444, 24.686621418656394, 27.194383786280955, 22.943474306364404, 23.506242342727596, 23.982852691650397, 22.69081372502663, 25.23472228644244, 25.094170820930774, 25.102866296361412, 25.276930013476704, 25.31359693611633, 23.729020953235672, 24.77859198674412, 24.601954468608902, 23.10295249458573, 23.846379201803554, 23.783158802270272, 24.961373776424374, 25.023623126719983, 23.062887108583702, 23.114574183632723, 23.64067859798334, 23.631672104136165, 21.989953947825015]\n",
      "pikaHEIGHTS: [36.46821490673444, 33.213397759738264, 36.558816149350534, 35.33291181124776, 38.10372825362463, 36.73144402805611, 35.561029988644336, 34.463907946680294, 34.117212558131975, 34.25516433025548, 34.83845262048311, 33.16210202637511, 37.335669057387726, 35.2192205449002, 35.3191819848619, 34.393601274285054, 35.363481550256644, 35.4082866561793, 35.449698119416254, 35.62090746957761, 35.66631613405574, 35.06411342600334, 35.107650004447365, 31.418267572382227, 35.61397200548726, 36.81907508404582, 36.149522366845794, 34.690328304537594, 34.7011323493234, 36.769999842308025, 33.87654102727224, 33.61859674823029, 36.20121874558056, 36.39246631338593, 33.2827564295772, 37.16482263385777, 36.104823979389685, 36.98566859418098, 33.89409391341271, 35.32146634770389, 35.618803262029324, 36.78517041843648, 34.789785253591695, 37.131777154514445, 34.10979431232785, 33.52624549604696, 33.41610156154373, 35.2215760062586, 35.18452932633369, 36.5105588800243, 36.51127780882874, 33.104763826036056, 36.267507265697255, 37.07911595862419, 34.65976495915212, 36.01635437187656, 35.561787418827784, 32.641361593924174, 34.58523945069137, 33.30022994232253, 35.131360854176535, 35.516462459726284, 40.1471703193656, 34.15166673260206, 32.78817486174627, 34.771846982043876, 36.1414458257896, 36.043496466883504, 33.9228476372155, 34.28266788814326, 35.04075442599907, 35.530813208835745, 38.192278809575996, 34.52980905331491, 33.64590281447322]\n",
      "Test points:\n",
      "1. (25, 32)\n",
      "2. (24.2, 31.5)\n",
      "3. (22, 34)\n",
      "4. (20.5, 34)\n",
      "\n"
     ]
    },
    {
     "data": {
      "image/png": "[encoded data removed]",
      "text/plain": [
       "<Figure size 640x480 with 1 Axes>"
      ]
     },
     "metadata": {},
     "output_type": "display_data"
    }
   ],
   "source": [
    "import matplotlib.pyplot as plt\n",
    "import numpy as np\n",
    "\n",
    "# 1. LÄS IN DATAN I LÄMPLIG DATASTRUKTUR\n",
    "\n",
    "with open(\"datapoints.txt\", \"r\") as file:\n",
    "    datapoints = file.read()\n",
    "#print(content)\n",
    "\n",
    "removed_lines = datapoints.replace('\\n', ', ')\n",
    "splitted = removed_lines.split(', ')\n",
    "all_samples = splitted[4:]\n",
    "\n",
    "while(\"\") in all_samples:\n",
    "    all_samples.remove(\"\")\n",
    "\n",
    "widths = []\n",
    "heights = []\n",
    "pikachus = []\n",
    "pichus = []\n",
    "pichuwidths = []\n",
    "pichuheights = []\n",
    "pikawidths = []\n",
    "pikaheights = []\n",
    "\n",
    "for index in range(0, len(all_samples)):\n",
    "    if index % 3 == 0:\n",
    "        #widths.append(all_samples[index])\n",
    "        #heights.append(all_samples[index+1])\n",
    "        if all_samples[index+2] == '0':\n",
    "            pichuwidths.append(float(all_samples[index]))\n",
    "            pichuheights.append(float(all_samples[index+1]))\n",
    "            pichus.append(all_samples[index:index+2])\n",
    "        else:\n",
    "            pikawidths.append(float(all_samples[index]))\n",
    "            pikaheights.append(float(all_samples[index+1]))\n",
    "            pikachus.append(all_samples[index:index+2])\n",
    "        \n",
    "# print(f\"pikachus: {len(pikachus)}\")\n",
    "# print(f\"pichus: {len(pichus)}\")\n",
    "# print(f\"ALL: {all_samples}\")\n",
    "# print(f\"PICHUS: {pichus}\")\n",
    "# print(f\"PIKACHUS: {pikachus}\")\n",
    "# print(f\"pikaWIDTHS: {pikawidths}\")\n",
    "# print(f\"pikaHEIGHTS: {pikaheights}\")\n",
    "\n",
    "plt.title(\"Pichu vs Pikachu scatter plot\")\n",
    "plt.xlabel(\"Width\")\n",
    "plt.ylabel(\"Height\")\n",
    "plt.scatter(pikawidths, pikaheights, c='b')\n",
    "plt.scatter(pichuwidths, pichuheights, c='r')\n",
    "\n",
    "# with open(\"testpoints.txt\", \"r\") as file:\n",
    "#     testpoints = file.read()\n",
    "# print(testpoints)\n",
    "\n",
    "def pikchunary(testwidth, testheight):\n",
    "    pass\n",
    "\n",
    "pikchunary(25, 32)\n",
    "pikchunary(24.2, 31.5)\n",
    "pikchunary(22, 34)\n",
    "pikchunary(20.5, 34)"
   ]
  },
  {
   "cell_type": "markdown",
   "metadata": {},
   "source": [
    "---\n",
    "### Bonusuppgifter (frivilliga)\n",
    "Dela in ursprungsdatan slumpmässigt så att:\n",
    "- 100 är träningsdata (50 Pikachu, 50 Pichu)\n",
    "- 50 är testdata (25 Pikachu, 25 Pichu)\n",
    "- Beräkna noggranheten genom följande formel:\n",
    "accuracy = (#TP+#TN)/(total)\n",
    "där\n",
    "\n",
    "![confusion matrix](labb2confmatrix.png)\n",
    "\n",
    "Här har vi låtit Pikachu vara positiv och Pichu vara \"icke-Pikachu\" dvs negativ.\n",
    "**Notera:** För varje testpunkt beräknar vi distansen till träningspunkterna\n",
    "- Upprepa uppgift 3 och 4 tio gånger, plotta en graf över accuracy och rapportera medelaccuracy.\n"
   ]
  },
  {
   "cell_type": "code",
   "execution_count": null,
   "metadata": {},
   "outputs": [],
   "source": []
  },
  {
   "cell_type": "markdown",
   "metadata": {},
   "source": [
    "---\n",
    "### Bedömning\n",
    "Om du har fått någon kodsnutt från någon annan eller hittat i någon sida är det viktigt att du källhänvisar.\n",
    "Skriv en kommentar bredvid koden som du har tagit.\n",
    "\n",
    "**Godkänt**\n",
    "- löst grunduppgift, samt övriga uppgifter på korrekt sätt\n",
    "- koden är kommenterad med relevanta kommentarer\n",
    "- variabelnamnen är bra valda\n",
    "- gjort flera relevanta git commits\n",
    "\n",
    "**Väl Godkänt**\n",
    "- koden är enkel att följa\n",
    "- koden är effektiv\n",
    "- koden är välstrukturerad med lämpliga funktioner\n",
    "- kommentarerna är datavetenskapligt korrekta\n",
    "- löst samtliga uppgifter"
   ]
  }
 ],
 "metadata": {
  "kernelspec": {
   "display_name": "PythonAI23-Isak-Andersson-IBaVIK9C",
   "language": "python",
   "name": "python3"
  },
  "language_info": {
   "codemirror_mode": {
    "name": "ipython",
    "version": 3
   },
   "file_extension": ".py",
   "mimetype": "text/x-python",
   "name": "python",
   "nbconvert_exporter": "python",
   "pygments_lexer": "ipython3",
   "version": "3.11.5"
  },
  "orig_nbformat": 4
 },
 "nbformat": 4,
 "nbformat_minor": 2
}
