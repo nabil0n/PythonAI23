{
 "cells": [
  {
   "cell_type": "markdown",
   "metadata": {},
   "source": [
    "# Labb 2\n",
    "## Pichu vs Pikachu\n",
    "---\n",
    "Syftet med den här laborationen är att använda verktygen du lärt dig i Python för att implementera en förenklad maskininlärningsalgoritm. I den här laborationen finns (simulerad) data på Pichus och Pikachus längder och bredder. Du ska skapa en algoritm som baserat på den givna datan kunna avgöra om en ny datapunkt ska klassificeras som Pichu eller Pikachu.\n",
    "\n",
    "### Grunduppgift\n",
    "Följ detta flödesschema för att bygga den grundläggande algoritmen\n",
    "\n",
    "![flödesschema](pikapichuflodesschema.png)\n",
    "\n",
    "- (25,32), (24.2,31.5), (22,34), (20.5,34)\n",
    "\n",
    "Facit på givna testdatan:\n",
    "- Sample with (width, height): (25, 32) classified as Pikachu\n",
    "- Sample with (width, height): (24.2, 31.5) classified as Pikachu\n",
    "- Sample with (width, height): (22, 34) classified as Pikachu\n",
    "- Sample with (width, height): (20.5, 34) classified as Pichu\n",
    "\n",
    "### Uppgifter\n",
    "Gör dessa uppgifter när du klassificerat testdatan korrekt.\n",
    "- Låt användaren mata in en testpunkt och låt algoritmen avgöra dess klass. Ta med felhanteringen som tar hand om negativa tal och icke-numeriska inputs. Se till att ha användarvänliga felmeddelanden.\n",
    "- Den approachen vi använt med närmaste punkten kan klassificera fel när punkterna för respektive klass går in i varandra. Nu ska du istället välja de tio närmaste punkterna till din testpunkt. Den klass testpunkten tillhör avgörs av majoritetsröstning av de närmaste punkterna.\n"
   ]
  },
  {
   "cell_type": "code",
   "execution_count": 14,
   "metadata": {},
   "outputs": [
    {
     "name": "stdout",
     "output_type": "stream",
     "text": [
      "Welcome to PikChunary!\n",
      "Please input width and height to see if it's a pichu or a pikachu.\n"
     ]
    },
    {
     "name": "stdout",
     "output_type": "stream",
     "text": [
      "The dimensions (22.0, 33.0) you entered suggests that...   ...It's a pichu!\n"
     ]
    },
    {
     "data": {
      "image/png": "[encoded data removed]",
      "text/plain": [
       "<Figure size 640x480 with 1 Axes>"
      ]
     },
     "metadata": {},
     "output_type": "display_data"
    }
   ],
   "source": [
    "import matplotlib.pyplot as plt\n",
    "import numpy as np\n",
    "\n",
    "# 1. LÄS IN DATAN I LÄMPLIG DATASTRUKTUR\n",
    "\n",
    "with open(\"datapoints.txt\", \"r\") as file:\n",
    "    datapoints = file.read()\n",
    "#print(content)\n",
    "\n",
    "removed_lines = datapoints.replace('\\n', ', ')\n",
    "splitted = removed_lines.split(', ')\n",
    "all_samples = splitted[4:]\n",
    "\n",
    "while(\"\") in all_samples:\n",
    "    all_samples.remove(\"\")\n",
    "\n",
    "pikachus = []\n",
    "pichus = []\n",
    "pichuwidths = []\n",
    "pichuheights = []\n",
    "pikawidths = []\n",
    "pikaheights = []\n",
    "\n",
    "for index in range(0, len(all_samples)):\n",
    "    if index % 3 == 0:\n",
    "        if all_samples[index+2] == '0':\n",
    "            pichuwidths.append(float(all_samples[index]))\n",
    "            pichuheights.append(float(all_samples[index+1]))\n",
    "            pichus.append(all_samples[index:index+2])\n",
    "        else:\n",
    "            pikawidths.append(float(all_samples[index]))\n",
    "            pikaheights.append(float(all_samples[index+1]))\n",
    "            pikachus.append(all_samples[index:index+2])\n",
    "\n",
    "# 2. PLOTTA DATA\n",
    "\n",
    "plt.title(\"Pichu vs Pikachu scatter plot\")\n",
    "plt.xlabel(\"Width\")\n",
    "plt.ylabel(\"Height\")\n",
    "plt.scatter(pikawidths, pikaheights, c='b')\n",
    "plt.scatter(pichuwidths, pichuheights, c='r')\n",
    "\n",
    "# 3. LÄS IN TESTDATA (gör senare)\n",
    "\n",
    "# with open(\"testpoints.txt\", \"r\") as file:\n",
    "#     testpoints = file.readlines()\n",
    "# print(testpoints[1:])\n",
    "\n",
    "# clean_tests = []\n",
    "# for index in testpoints[1:]:\n",
    "#     counter = 1\n",
    "#     testpoints[index].remove('1')\n",
    "#     #testpoints.remove(')\\n')\n",
    "#     counter += 1\n",
    "# print(clean_tests)\n",
    "\n",
    "# 4. BERÄKNA AVSTÅND och HITTA NÄRMSTA POKEMON\n",
    "\n",
    "def pikchunary(testwidth, testheight): # distance = sqrt((x2-x1)^2 + (y2-y1)^2) MEN: SE NEDAN\n",
    "    pika_closest = []\n",
    "    pichu_closest = []\n",
    "    for pair in pikachus:\n",
    "        x = float(pair[0])\n",
    "        y = float(pair[1])\n",
    "        distance = np.sqrt((testwidth-x)**2 + (testheight-y)**2) # (HÄR KAN VI SPARA CPU-KRAFT GENOM ATT INTE GÖRA SQRT())\n",
    "        pika_closest.append(distance)\n",
    "    for pair in pichus:\n",
    "        x = float(pair[0])\n",
    "        y = float(pair[1])\n",
    "        distance = np.sqrt((testwidth-x)**2 + (testheight-y)**2) # (SAMMA HÄR, sqrt kommer inte förändra vikten av värdet när de ska jämföras, och ingenstans i uppgiften önskas vetas det faktiska värdet på avståndet.)\n",
    "        pichu_closest.append(distance)\n",
    "    counter = 0\n",
    "    for distances in range(0, 11):\n",
    "        if pika_closest[distances] < pichu_closest[distances]:\n",
    "            counter += 1\n",
    "    plt.scatter(testwidth, testheight, c='g')\n",
    "    if counter > 5:\n",
    "        return(\"It's a pikachu!\")\n",
    "    else:\n",
    "        return(\"It's a pichu!\")\n",
    "\n",
    "# pikchunary(25, 32)\n",
    "# pikchunary(24.2, 31.5)\n",
    "# pikchunary(22, 34)\n",
    "# pikchunary(20.5, 34)\n",
    "\n",
    "# 5. GÖR DEN TILL ANVÄNDARVÄNLIGT PROGRAM\n",
    "\n",
    "print(\"Welcome to PikChunary!\")\n",
    "print(\"Please input width and height to see if it\\'s a pichu or a pikachu.\")\n",
    "while True:\n",
    "    try:\n",
    "        input_width = float(input(\"Width: \"))\n",
    "        input_height = float(input(\"Height: \"))\n",
    "        print(f\"The dimensions ({input_width}, {input_height}) you entered suggests that...   ...{pikchunary(input_width, input_height)}\")\n",
    "        break\n",
    "    except:\n",
    "        print(\"Please enter only numbers.\")"
   ]
  },
  {
   "cell_type": "markdown",
   "metadata": {},
   "source": [
    "---\n",
    "### Bonusuppgifter (frivilliga)\n",
    "Dela in ursprungsdatan slumpmässigt så att:\n",
    "- 100 är träningsdata (50 Pikachu, 50 Pichu)\n",
    "- 50 är testdata (25 Pikachu, 25 Pichu)\n",
    "- Beräkna noggranheten genom följande formel:\n",
    "accuracy = (#TP+#TN)/(total)\n",
    "där\n",
    "\n",
    "![confusion matrix](labb2confmatrix.png)\n",
    "\n",
    "Här har vi låtit Pikachu vara positiv och Pichu vara \"icke-Pikachu\" dvs negativ.\n",
    "**Notera:** För varje testpunkt beräknar vi distansen till träningspunkterna\n",
    "- Upprepa uppgift 3 och 4 tio gånger, plotta en graf över accuracy och rapportera medelaccuracy.\n"
   ]
  },
  {
   "cell_type": "code",
   "execution_count": null,
   "metadata": {},
   "outputs": [],
   "source": []
  },
  {
   "cell_type": "markdown",
   "metadata": {},
   "source": [
    "---\n",
    "### Bedömning\n",
    "Om du har fått någon kodsnutt från någon annan eller hittat i någon sida är det viktigt att du källhänvisar.\n",
    "Skriv en kommentar bredvid koden som du har tagit.\n",
    "\n",
    "**Godkänt**\n",
    "- löst grunduppgift, samt övriga uppgifter på korrekt sätt\n",
    "- koden är kommenterad med relevanta kommentarer\n",
    "- variabelnamnen är bra valda\n",
    "- gjort flera relevanta git commits\n",
    "\n",
    "**Väl Godkänt**\n",
    "- koden är enkel att följa\n",
    "- koden är effektiv\n",
    "- koden är välstrukturerad med lämpliga funktioner\n",
    "- kommentarerna är datavetenskapligt korrekta\n",
    "- löst samtliga uppgifter"
   ]
  }
 ],
 "metadata": {
  "kernelspec": {
   "display_name": "PythonAI23-Isak-Andersson-IBaVIK9C",
   "language": "python",
   "name": "python3"
  },
  "language_info": {
   "codemirror_mode": {
    "name": "ipython",
    "version": 3
   },
   "file_extension": ".py",
   "mimetype": "text/x-python",
   "name": "python",
   "nbconvert_exporter": "python",
   "pygments_lexer": "ipython3",
   "version": "3.11.5"
  },
  "orig_nbformat": 4
 },
 "nbformat": 4,
 "nbformat_minor": 2
}
