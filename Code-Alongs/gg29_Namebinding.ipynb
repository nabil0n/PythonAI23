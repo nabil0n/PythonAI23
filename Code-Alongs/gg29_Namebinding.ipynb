{
 "cells": [
  {
   "cell_type": "markdown",
   "metadata": {},
   "source": [
    "# Name binding\n",
    "\n",
    "- Allt i python är ett objekt! ( Alltså allt har metadata och tillhörande metoder)\n",
    "- Namn kan bindas till vilket objekt som helst. (Name binding)"
   ]
  },
  {
   "cell_type": "markdown",
   "metadata": {},
   "source": [
    "### Muteable vs immutable\n",
    "\n",
    "- Mutable kan ändras. Nästan allt.\n",
    "- Immutable kan inte. (Numerics, Strings och Tuples)"
   ]
  },
  {
   "cell_type": "code",
   "execution_count": 2,
   "metadata": {},
   "outputs": [
    {
     "name": "stdout",
     "output_type": "stream",
     "text": [
      "1 140724783342376\n",
      "2 140724783342408\n"
     ]
    }
   ],
   "source": [
    "a = 1           # 1 blir en plats i minnet, och namnet a pekar på den platsen\n",
    "print(a, id(a))\n",
    "\n",
    "a = 2           # 2 blir en annan plats i minnet, och a byter bara vart den pekar\n",
    "print(a, id(a))\n",
    "\n",
    "# I andra språk fungerar det annorlunda!\n",
    "# Men detta är alltså name binding OCH rebinding."
   ]
  },
  {
   "cell_type": "markdown",
   "metadata": {},
   "source": [
    "- Alltså det ovan: Namnet \"a\" (mutable) men pekar bara om från 1 (immutable) till 2 (immutable)\n",
    "\n",
    "Ett till exempel:"
   ]
  },
  {
   "cell_type": "code",
   "execution_count": 5,
   "metadata": {},
   "outputs": [
    {
     "name": "stdout",
     "output_type": "stream",
     "text": [
      "a: (1, 140724783342376)\n",
      "b: (1, 140724783342376)\n",
      "\n",
      "b: (2, 140724783342408)\n",
      "c: (1, 140724783342376)\n"
     ]
    }
   ],
   "source": [
    "a = 1\n",
    "b = a\n",
    "\n",
    "print(f\"a: {a, id(a)}\")\n",
    "print(f\"b: {b, id(b)}\")\n",
    "print()\n",
    "b = 2\n",
    "print(f\"b: {b, id(b)}\")\n",
    "c = 1\n",
    "print(f\"c: {c, id(c)}\")"
   ]
  },
  {
   "cell_type": "code",
   "execution_count": 18,
   "metadata": {},
   "outputs": [
    {
     "name": "stdout",
     "output_type": "stream",
     "text": [
      "cat_a = <__main__.Cat object at 0x000002216B03A2D0> 2342552191216\n",
      "cat_b = <__main__.Cat object at 0x000002216B03A2D0> 2342552191216\n",
      "\n",
      "Kitty cat_a = <__main__.Cat object at 0x000002216B03A2D0> 2342552576720\n",
      "Kitty cat_b = <__main__.Cat object at 0x000002216B03A2D0> 2342552576720\n",
      "\n",
      "Hans cat_a = <__main__.Cat object at 0x000002216B03A910> 2342552578320\n",
      "Kitty cat_b = <__main__.Cat object at 0x000002216B03A2D0> 2342552576720\n"
     ]
    }
   ],
   "source": [
    "class Cat:\n",
    "    def __init__(self, name):\n",
    "        self.name = name\n",
    "\n",
    "cat_a = Cat(\"Garfield\")\n",
    "print(f\"{cat_a = }\", id(cat_a.name))\n",
    "\n",
    "cat_b = cat_a\n",
    "print(f\"{cat_b = }\", id(cat_b.name))\n",
    "\n",
    "print()\n",
    "\n",
    "cat_b.name = \"Kitty\"\n",
    "print(f\"{cat_a.name} {cat_a = }\", id(cat_a))\n",
    "print(f\"{cat_b.name} {cat_b = }\", id(cat_b))\n",
    "\n",
    "print()\n",
    "\n",
    "cat_a = Cat(\"Hans\")\n",
    "print(f\"{cat_a.name} {cat_a = }\", id(cat_a))\n",
    "print(f\"{cat_b.name} {cat_b = }\", id(cat_b))\n"
   ]
  },
  {
   "cell_type": "markdown",
   "metadata": {},
   "source": [
    "KOLLA FREDRIKS ANTECKNINGAR: Names and values\n",
    "\n",
    "Fler exempel:"
   ]
  },
  {
   "cell_type": "code",
   "execution_count": 21,
   "metadata": {},
   "outputs": [
    {
     "name": "stdout",
     "output_type": "stream",
     "text": [
      "2342552348592\n",
      "2342552348592\n",
      "2342552348592\n"
     ]
    }
   ],
   "source": [
    "a = \"Peppe\"\n",
    "b = [\"Måns\", \"Peppe\", \"Hans\", \"Sara\"] # Listan är en lista av referenser till objekt\n",
    "c = Cat(\"Peppe\")\n",
    "\n",
    "print(id(a))\n",
    "print(id(b[1]))\n",
    "print(id(c.name))"
   ]
  },
  {
   "cell_type": "code",
   "execution_count": 29,
   "metadata": {},
   "outputs": [
    {
     "name": "stdout",
     "output_type": "stream",
     "text": [
      "2342552292992 2342552292992\n",
      "2342552292992 2342552139584\n"
     ]
    }
   ],
   "source": [
    "a = [1, 2, 3]\n",
    "b = a\n",
    "b.append(4)\n",
    "print(id(a), id(b))\n",
    "\n",
    "# Nu vill vi att b blir annorlunda än a:\n",
    "\n",
    "b = a.copy()\n",
    "print(id(a), id(b))"
   ]
  },
  {
   "cell_type": "code",
   "execution_count": 31,
   "metadata": {},
   "outputs": [
    {
     "name": "stdout",
     "output_type": "stream",
     "text": [
      "a == b = True\n",
      "a is b = False\n"
     ]
    }
   ],
   "source": [
    "print(f\"{a == b = }\")\n",
    "print(f\"{a is b = }\")"
   ]
  },
  {
   "cell_type": "code",
   "execution_count": 45,
   "metadata": {},
   "outputs": [
    {
     "name": "stdout",
     "output_type": "stream",
     "text": [
      "cat_t.friends = ['Bill', 'Bull']\n",
      "cat_s.friends = ['Bill', 'Bull']\n",
      "2342558244224 2342558244224\n",
      "\n",
      "cat_t.friends = ['Bill', 'Bull', 'Klara']\n",
      "cat_s.friends = ['Bill', 'Bull', 'Klara']\n",
      "2342558244224 2342558244224\n",
      "\n",
      "cat_t.friends = ['Bill', 'Bull', 'Klara']\n",
      "cat_s.friends = ['Bill', 'Bull', 'Klara']\n",
      "cat_x.friends = ['Bill', 'Bull', 'Klara', 'Kalle']\n",
      "2342558244224 2342558244224 2342558248128\n"
     ]
    }
   ],
   "source": [
    "import copy\n",
    "\n",
    "cat_t = Cat(\"Ture\")\n",
    "cat_t.friends = [\"Bill\", \"Bull\"]\n",
    "\n",
    "cat_s = cat_t\n",
    "\n",
    "print(f\"{cat_t.friends = }\")\n",
    "print(f\"{cat_s.friends = }\")\n",
    "print(id(cat_t.friends), id(cat_s.friends))\n",
    "\n",
    "print()\n",
    "\n",
    "cat_s = copy.copy(cat_t)   # SHALLOW COPY\n",
    "\n",
    "cat_t.friends.append(\"Klara\")\n",
    "\n",
    "print(f\"{cat_t.friends = }\")\n",
    "print(f\"{cat_s.friends = }\")\n",
    "print(id(cat_t.friends), id(cat_s.friends))\n",
    "\n",
    "print()\n",
    "\n",
    "cat_x = copy.deepcopy(cat_t) # DEEP COPY\n",
    "\n",
    "cat_x.friends.append(\"Kalle\")\n",
    "\n",
    "print(f\"{cat_t.friends = }\")\n",
    "print(f\"{cat_s.friends = }\")\n",
    "print(f\"{cat_x.friends = }\")\n",
    "print(id(cat_t.friends), id(cat_s.friends), id(cat_x.friends))"
   ]
  },
  {
   "cell_type": "code",
   "execution_count": 53,
   "metadata": {},
   "outputs": [
    {
     "name": "stdout",
     "output_type": "stream",
     "text": [
      "True\n",
      "This is FU NK Y!\n",
      "This is FU NK Y!\n",
      "This is __ALSO__ FU NK Y!\n",
      "This is FU NK Y!\n"
     ]
    }
   ],
   "source": [
    "def my_func():\n",
    "    print(\"This is FU NK Y!\")\n",
    "\n",
    "print(callable(my_func))\n",
    "\n",
    "my_func()\n",
    "\n",
    "also_my_func = my_func # INGA PARENTESER NÄR VI BARA ÄR UTE EFTER NAMNET\n",
    "\n",
    "also_my_func()\n",
    "\n",
    "def my_func():\n",
    "    print(\"This is __ALSO__ FU NK Y!\")\n",
    "\n",
    "my_func()\n",
    "also_my_func()"
   ]
  },
  {
   "cell_type": "markdown",
   "metadata": {},
   "source": [
    "# Se fredriks genomgång för många liknande exempel"
   ]
  }
 ],
 "metadata": {
  "kernelspec": {
   "display_name": "python-programmering-Isak-Andersson-XSmhp6s-",
   "language": "python",
   "name": "python3"
  },
  "language_info": {
   "codemirror_mode": {
    "name": "ipython",
    "version": 3
   },
   "file_extension": ".py",
   "mimetype": "text/x-python",
   "name": "python",
   "nbconvert_exporter": "python",
   "pygments_lexer": "ipython3",
   "version": "3.11.5"
  },
  "orig_nbformat": 4
 },
 "nbformat": 4,
 "nbformat_minor": 2
}
