{
 "cells": [
  {
   "cell_type": "markdown",
   "metadata": {},
   "source": [
    "# Egna anteckningar UML genomgång\n",
    "\n",
    "- används för att kommunicera med andra utvecklare.\n",
    "\n",
    "- draw.io | bra sida för att göra detta\n",
    "- Cheatsheet https://khalilstemmler.com/articles/uml-cheatsheet/\n",
    "\n",
    "- superklass högst upp\n",
    "    - subklasser har pilar MOT superklass\n",
    "- **+** publika ting\n",
    "- **-** privata ting\n"
   ]
  },
  {
   "cell_type": "code",
   "execution_count": null,
   "metadata": {},
   "outputs": [],
   "source": []
  }
 ],
 "metadata": {
  "language_info": {
   "name": "python"
  },
  "orig_nbformat": 4
 },
 "nbformat": 4,
 "nbformat_minor": 2
}
