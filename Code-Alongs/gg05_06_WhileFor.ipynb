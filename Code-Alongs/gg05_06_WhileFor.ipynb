{
 "cells": [
  {
   "attachments": {},
   "cell_type": "markdown",
   "metadata": {},
   "source": [
    "# Loops\n",
    "\n",
    "- while \n",
    "- for \n",
    "\n",
    "- break (stannar loopen)\n",
    "- continue (stoppa loopen vid en iteration och fortsätt, oftast med if)\n",
    "- else (finns även här, används för att köra ett block kod när loopen är slut. KOMMER INTE KÖRAS om loopen stannas!)"
   ]
  },
  {
   "attachments": {},
   "cell_type": "markdown",
   "metadata": {},
   "source": [
    "## While\n",
    "\n",
    "- så länge något är sant eller falskt\n"
   ]
  },
  {
   "cell_type": "code",
   "execution_count": 18,
   "metadata": {},
   "outputs": [
    {
     "name": "stdout",
     "output_type": "stream",
     "text": [
      "Print this.\n",
      "Print this.\n",
      "Print this.\n",
      "Print this.\n",
      "Print this.\n",
      "Halvvägs!\n",
      "Print this.\n",
      "Print this.\n",
      "Print this.\n",
      "Print this.\n",
      "Print this.\n",
      "Halvvägs!\n",
      "End.\n"
     ]
    }
   ],
   "source": [
    "count = 10\n",
    "\n",
    "# while count > 0:\n",
    "#     print(f\"{count:2d}: Hello World\")\n",
    "#     count -= 1\n",
    "# print(\"End.\")\n",
    "\n",
    "# while True:\n",
    "#     print(\"Hej\")\n",
    "#     count -= 1\n",
    "#     if count <= 0: break\n",
    "\n",
    "while count > 0:\n",
    "    count -= 1\n",
    "    print(\"Print this.\")\n",
    "    if count % 5:\n",
    "        continue\n",
    "    print(\"Halvvägs!\")\n",
    "print(\"End.\")\n",
    "\n",
    "# while count > 0:\n",
    "#     count -= 1\n",
    "#     print(\"Print this.\")\n",
    "# else:\n",
    "#     print(\"Nu är det slut\")\n",
    "# print(\"End.\")\n"
   ]
  },
  {
   "attachments": {},
   "cell_type": "markdown",
   "metadata": {},
   "source": [
    "## For\n",
    "\n",
    "- Itererar över en sekvens, typ list, string, dict, range, mm\n",
    "- inte som for i andra språk, typ c# foreach-loop"
   ]
  },
  {
   "cell_type": "code",
   "execution_count": 33,
   "metadata": {},
   "outputs": [
    {
     "name": "stdout",
     "output_type": "stream",
     "text": [
      "ArithmeticError\n",
      "divisionError\n",
      "error\n",
      "logicalError\n",
      "keyError\n",
      "\n",
      "\n",
      "10\n",
      "12\n",
      "14\n",
      "16\n",
      "18\n",
      "\n",
      "\n",
      "0\n",
      "1\n",
      "2\n",
      "3\n",
      "4\n"
     ]
    }
   ],
   "source": [
    "# items in list\n",
    "errnames = [\"ArithmeticError\", \"divisionError\", \"error\", \"logicalError\", \"keyError\",]\n",
    "\n",
    "for name in errnames:\n",
    "    print(name)\n",
    "\n",
    "print(\"\\n\")\n",
    "# index in range (range(start, stop, step))\n",
    "for i in range(10, 20, 2):\n",
    "    print(i)\n",
    "\n",
    "print(\"\\n\")\n",
    "\n",
    "for i in range(len(errnames)):\n",
    "    print(i)\n"
   ]
  },
  {
   "attachments": {},
   "cell_type": "markdown",
   "metadata": {},
   "source": [
    "## Nested loops\n",
    "\n",
    "- loopar i loopar"
   ]
  },
  {
   "cell_type": "code",
   "execution_count": 36,
   "metadata": {},
   "outputs": [
    {
     "name": "stdout",
     "output_type": "stream",
     "text": [
      "00000\n",
      "11111\n",
      "22222\n"
     ]
    }
   ],
   "source": [
    "# Exempel\n",
    "for y in range(3):\n",
    "    for x in range(5):\n",
    "        print(y, end=\"\")\n",
    "    print()"
   ]
  }
 ],
 "metadata": {
  "kernelspec": {
   "display_name": "Python 3",
   "language": "python",
   "name": "python3"
  },
  "language_info": {
   "codemirror_mode": {
    "name": "ipython",
    "version": 3
   },
   "file_extension": ".py",
   "mimetype": "text/x-python",
   "name": "python",
   "nbconvert_exporter": "python",
   "pygments_lexer": "ipython3",
   "version": "3.11.5"
  },
  "orig_nbformat": 4
 },
 "nbformat": 4,
 "nbformat_minor": 2
}
