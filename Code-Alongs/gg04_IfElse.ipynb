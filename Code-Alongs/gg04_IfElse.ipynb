{
 "cells": [
  {
   "attachments": {},
   "cell_type": "markdown",
   "metadata": {},
   "source": [
    "# Branching programming\n",
    "## If- Elif- Else\n",
    "\n",
    "- if (grundläggande)\n",
    "- elif (zero, one or more)\n",
    "- else (zero, eller en)"
   ]
  },
  {
   "cell_type": "code",
   "execution_count": 11,
   "metadata": {},
   "outputs": [
    {
     "name": "stdout",
     "output_type": "stream",
     "text": [
      "No\n"
     ]
    }
   ],
   "source": [
    "x = \"Krösus\"\n",
    "\n",
    "if x == \"Alfred\":\n",
    "    print(\"Yes\")\n",
    "elif x == \"Isak\":\n",
    "    print(\"wierd\")\n",
    "elif x == \"Jonas\":\n",
    "    print(\"wierd\")\n",
    "elif x == \"Hans\":\n",
    "    print(\"wierd\")\n",
    "else:\n",
    "    print(\"No\")\n"
   ]
  },
  {
   "attachments": {},
   "cell_type": "markdown",
   "metadata": {},
   "source": [
    "## Ternery operator (treställig operatör)\n",
    "variabel = **något** om **något annat** är **detta** annars **detta**"
   ]
  },
  {
   "cell_type": "code",
   "execution_count": 14,
   "metadata": {},
   "outputs": [
    {
     "name": "stdout",
     "output_type": "stream",
     "text": [
      "Frida Krösus\n",
      "Please wait 1 second\n"
     ]
    }
   ],
   "source": [
    "name = \"Frida\" if x == \"Krösus\" else \"???\"\n",
    "print(f\"{name} {x}\")\n",
    "\n",
    "\n",
    "# BRA GREJ\n",
    "seconds = 1\n",
    "print(f\"Please wait {seconds} second{'s' if seconds != 1 else ''}\")"
   ]
  }
 ],
 "metadata": {
  "kernelspec": {
   "display_name": "Python 3",
   "language": "python",
   "name": "python3"
  },
  "language_info": {
   "codemirror_mode": {
    "name": "ipython",
    "version": 3
   },
   "file_extension": ".py",
   "mimetype": "text/x-python",
   "name": "python",
   "nbconvert_exporter": "python",
   "pygments_lexer": "ipython3",
   "version": "3.11.5"
  },
  "orig_nbformat": 4
 },
 "nbformat": 4,
 "nbformat_minor": 2
}
