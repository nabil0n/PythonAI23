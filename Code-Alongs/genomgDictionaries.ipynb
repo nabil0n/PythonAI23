{
 "cells": [
  {
   "attachments": {},
   "cell_type": "markdown",
   "metadata": {},
   "source": [
    "# Dictionaries\n",
    "- En av de fyra sätten att samla data. (De andra är List, Set, Tuple)\n",
    "- {key: value}\n",
    "- lägg till: dict[key] = value\n",
    "- ta bort (men spara det borttagna): removed_value = dict.pop[value]\n",
    "- ta bort: del(dict[value])\n",
    "- keys måste vara unika\n",
    "- keys måste vara immutable (string, int, float bool mm)\n",
    "- kom åt values i en 2d lista: dict[list][index]\n",
    "- gör dicts i dicts, kom åt dessa med {dict[2Ddict][key]}\n",
    "- dicts är ordnad och förändringsbar"
   ]
  },
  {
   "cell_type": "code",
   "execution_count": 8,
   "metadata": {},
   "outputs": [
    {
     "name": "stdout",
     "output_type": "stream",
     "text": [
      "JavaScript\n",
      "{'something': 'något'}\n",
      "{}\n"
     ]
    }
   ],
   "source": [
    "teacher = {\n",
    "    \"firstname\": \"Fredrik\", \n",
    "    \"lastname\": \"Johansson\", \n",
    "    \"age\": 42,\n",
    "    \"languages\": [\"Python\", \"C#\", \"JavaScript\"],\n",
    "    \"contact_info\": {\n",
    "        \"phone\": \"0702345678\",\n",
    "        \"email\": [\n",
    "            \"fredrik@everyloop.com\", \n",
    "            \"blaha@everyloop.com\", \n",
    "            \"blahej@everyloop.com\"\n",
    "        ]\n",
    "    }\n",
    "}\n",
    "print(teacher[\"languages\"][-1])\n",
    "\n",
    "empty_dict = {}\n",
    "empty_dict[\"something\"] = \"något\"\n",
    "print(empty_dict)\n",
    "\n",
    "del(empty_dict[\"something\"])\n",
    "print(empty_dict)"
   ]
  }
 ],
 "metadata": {
  "kernelspec": {
   "display_name": "Python 3",
   "language": "python",
   "name": "python3"
  },
  "language_info": {
   "codemirror_mode": {
    "name": "ipython",
    "version": 3
   },
   "file_extension": ".py",
   "mimetype": "text/x-python",
   "name": "python",
   "nbconvert_exporter": "python",
   "pygments_lexer": "ipython3",
   "version": "3.11.5"
  },
  "orig_nbformat": 4
 },
 "nbformat": 4,
 "nbformat_minor": 2
}
