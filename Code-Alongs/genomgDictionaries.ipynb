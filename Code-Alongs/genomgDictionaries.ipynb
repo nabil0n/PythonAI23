{
 "cells": [
  {
   "attachments": {},
   "cell_type": "markdown",
   "metadata": {},
   "source": [
    "# Dictionaries\n",
    "- En av de fyra sätten att samla data. (De andra är List, Set, Tuple)\n",
    "- {key: value}\n",
    "- lägg till: dict[key] = value\n",
    "- ta bort (men spara det borttagna): removed_value = dict.pop[value]\n",
    "- ta bort: del(dict[value])\n",
    "- keys måste vara unika\n",
    "- keys måste vara immutable (string, int, float bool mm)\n",
    "- values kan vara vad som helst\n",
    "- kom åt values i en 2d lista: dict[list][index]\n",
    "- gör dicts i dicts, kom åt dessa med {dict[2Ddict][key]}\n",
    "- dicts är ordnad och förändringsbar\n",
    "\n",
    "---\n",
    "\n",
    "- hämta ett värde: dict.get(key) eller \"if key/value in dict\"\n",
    "- loopa igenom med: for key in dict // eller: for value in dict.values() // dict.items()"
   ]
  },
  {
   "cell_type": "code",
   "execution_count": 23,
   "metadata": {},
   "outputs": [
    {
     "name": "stdout",
     "output_type": "stream",
     "text": [
      "firstname Fredrik\n",
      "lastname Johansson\n",
      "age 42\n",
      "languages ['Python', 'C#', 'JavaScript']\n",
      "contact_info {'phone': '0702345678', 'email': ['fredrik@everyloop.com', 'blaha@everyloop.com', 'blahej@everyloop.com']}\n"
     ]
    }
   ],
   "source": [
    "teacher = {\n",
    "    \"firstname\": \"Fredrik\", \n",
    "    \"lastname\": \"Johansson\", \n",
    "    \"age\": 42,\n",
    "    \"languages\": [\"Python\", \"C#\", \"JavaScript\"],\n",
    "    \"contact_info\": {\n",
    "        \"phone\": \"0702345678\",\n",
    "        \"email\": [\n",
    "            \"fredrik@everyloop.com\", \n",
    "            \"blaha@everyloop.com\", \n",
    "            \"blahej@everyloop.com\",\n",
    "        ],\n",
    "    },\n",
    "}\n",
    "#print(teacher[\"languages\"][-1])\n",
    "\n",
    "empty_dict = {}\n",
    "empty_dict[\"something\"] = \"något\"\n",
    "#print(empty_dict)\n",
    "\n",
    "del(empty_dict[\"something\"])\n",
    "#print(empty_dict)\n",
    "\n",
    "# for key in teacher:\n",
    "#     print(key)\n",
    "# for value in teacher.values():\n",
    "#     print(value)\n",
    "    \n",
    "for key, value in teacher.items():\n",
    "    print(key, value)"
   ]
  }
 ],
 "metadata": {
  "kernelspec": {
   "display_name": "Python 3",
   "language": "python",
   "name": "python3"
  },
  "language_info": {
   "name": "python",
   "version": "3.11.5"
  },
  "orig_nbformat": 4
 },
 "nbformat": 4,
 "nbformat_minor": 2
}
