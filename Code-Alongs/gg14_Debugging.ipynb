{
 "cells": [
  {
   "attachments": {},
   "cell_type": "markdown",
   "metadata": {},
   "source": [
    "# Debugging\n",
    "\n",
    "- Felsökning och rättning av kod\n",
    "- IDE står för Integrated Development Environment\n",
    "\n",
    "## Breakpoint\n",
    "\n",
    "- I alla IDE finns ett debuggmode där modet går igenom instruktionerna steg för steg och kollar på interna värden (minne/variabler) för varje steg.\n",
    "\n",
    "- sätt breakpoint genom den röda punkten vid sidan av raden\n",
    "\n",
    "- Använd Transportfältet som kommer upp när du debuggar för att gå till nästa steg eller hoppa in i funktioner mm. (i Jupyter måste du starta debugging för varje cell, och restarta kernel emellan)."
   ]
  },
  {
   "cell_type": "code",
   "execution_count": 1,
   "metadata": {},
   "outputs": [
    {
     "name": "stdout",
     "output_type": "stream",
     "text": [
      "8\n",
      "Hello!\n",
      "Hello!\n",
      "Hello!\n",
      "Hello!\n",
      "Hello!\n",
      "Hello!\n",
      "Hello!\n",
      "Hello!\n"
     ]
    }
   ],
   "source": [
    "def greet(n):\n",
    "    for i in range(n):\n",
    "        print(\"Hello!\")\n",
    "a = 3\n",
    "b = 5\n",
    "c = a+b\n",
    "\n",
    "print(c)\n",
    "\n",
    "        \n",
    "greet(c)"
   ]
  }
 ],
 "metadata": {
  "kernelspec": {
   "display_name": "Python 3",
   "language": "python",
   "name": "python3"
  },
  "language_info": {
   "codemirror_mode": {
    "name": "ipython",
    "version": 3
   },
   "file_extension": ".py",
   "mimetype": "text/x-python",
   "name": "python",
   "nbconvert_exporter": "python",
   "pygments_lexer": "ipython3",
   "version": "3.11.4"
  },
  "orig_nbformat": 4
 },
 "nbformat": 4,
 "nbformat_minor": 2
}
