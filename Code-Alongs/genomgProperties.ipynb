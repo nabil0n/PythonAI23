{
 "cells": [
  {
   "cell_type": "markdown",
   "metadata": {},
   "source": [
    "# Properties (egenskaper)\n",
    "\n",
    "- Privata vs publika conventions: **Skriv snyggt med att göra variablen privat med \"_variabel\"**\n",
    "- Privata ska inte ändras utanför klassen, publika kan ändras varsom.\n",
    "- **@något** är en decorator\n",
    "\n",
    "### LÄS FREDRIKS ANTECKNINGAR!!!"
   ]
  },
  {
   "cell_type": "code",
   "execution_count": 17,
   "metadata": {},
   "outputs": [],
   "source": [
    "class Employee():\n",
    "    \n",
    "    def __init__(self, name, salary):\n",
    "        self.name = name\n",
    "        self.salary = salary\n",
    "    \n",
    "    @property\n",
    "    def salary(self):\n",
    "        return self._salary\n",
    "    \n",
    "    @salary.setter              # .setter är en inbyggd decorator-funktion\n",
    "    def salary(self, salary):\n",
    "        self._salary = 0 if salary < 0 else salary\n"
   ]
  },
  {
   "cell_type": "code",
   "execution_count": 20,
   "metadata": {},
   "outputs": [
    {
     "name": "stdout",
     "output_type": "stream",
     "text": [
      "90001\n",
      "90002\n",
      "5000\n"
     ]
    }
   ],
   "source": [
    "employee = Employee(\"Isak\", 90001)\n",
    "print(employee.salary)\n",
    "\n",
    "employee.salary = 90002\n",
    "print(employee.salary)\n",
    "\n",
    "employee2 = Employee(\"Pelle\", 5000)\n",
    "print(employee2.salary)\n"
   ]
  },
  {
   "cell_type": "code",
   "execution_count": 26,
   "metadata": {},
   "outputs": [
    {
     "name": "stdout",
     "output_type": "stream",
     "text": [
      "Isak, Andersson\n",
      "Isak Andersson\n",
      "34\n"
     ]
    }
   ],
   "source": [
    "class Person:\n",
    "    def __init__(self, firstname, lastname):\n",
    "        self.firstname = firstname\n",
    "        self.lastname = lastname\n",
    "    \n",
    "    @property\n",
    "    def fullname(self):\n",
    "        return f\"{self.firstname} {self.lastname}\"\n",
    "\n",
    "    @property\n",
    "    def age(self):\n",
    "        return self._age\n",
    "    \n",
    "    @age.setter\n",
    "    def age(self, age):\n",
    "        if age < 0:\n",
    "            self._age = 0\n",
    "        elif age > 100:\n",
    "            self._age = 100\n",
    "        else:\n",
    "            self._age = age\n",
    "        \n",
    "person = Person(\"Isak\", \"Andersson\")\n",
    "person.age = 34\n",
    "print(person.firstname, person.lastname, sep=\", \")\n",
    "print(person.fullname)\n",
    "print(person.age)"
   ]
  }
 ],
 "metadata": {
  "kernelspec": {
   "display_name": "python-programmering-Isak-Andersson-dnxZmePr",
   "language": "python",
   "name": "python3"
  },
  "language_info": {
   "codemirror_mode": {
    "name": "ipython",
    "version": 3
   },
   "file_extension": ".py",
   "mimetype": "text/x-python",
   "name": "python",
   "nbconvert_exporter": "python",
   "pygments_lexer": "ipython3",
   "version": "3.11.5"
  },
  "orig_nbformat": 4
 },
 "nbformat": 4,
 "nbformat_minor": 2
}
