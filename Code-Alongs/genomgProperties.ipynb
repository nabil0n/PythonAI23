{
 "cells": [
  {
   "cell_type": "markdown",
   "metadata": {},
   "source": [
    "# Properties (egenskaper)\n",
    "\n",
    "- Privata vs publika conventions: **Skriv snyggt med att göra variablen privat med \"_variabel\"**\n",
    "- Privata ska inte ändras utanför klassen, publika kan ändras varsom.\n",
    "- **@något** är en decorator\n",
    "\n",
    "### LÄS FREDRIKS ANTECKNINGAR!!!"
   ]
  },
  {
   "cell_type": "code",
   "execution_count": 17,
   "metadata": {},
   "outputs": [],
   "source": [
    "class Employee():\n",
    "    \n",
    "    def __init__(self, name, salary):\n",
    "        self.name = name\n",
    "        self.salary = salary\n",
    "    \n",
    "    @property\n",
    "    def salary(self):\n",
    "        return self._salary\n",
    "    \n",
    "    @salary.setter              # .setter är en inbyggd decorator-funktion\n",
    "    def salary(self, salary):\n",
    "        self._salary = 0 if salary < 0 else salary\n"
   ]
  },
  {
   "cell_type": "code",
   "execution_count": 20,
   "metadata": {},
   "outputs": [
    {
     "name": "stdout",
     "output_type": "stream",
     "text": [
      "90001\n",
      "90002\n",
      "5000\n"
     ]
    }
   ],
   "source": [
    "employee = Employee(\"Isak\", 90001)\n",
    "print(employee.salary)\n",
    "\n",
    "employee.salary = 90002\n",
    "print(employee.salary)\n",
    "\n",
    "employee2 = Employee(\"Pelle\", 5000)\n",
    "print(employee2.salary)\n"
   ]
  }
 ],
 "metadata": {
  "kernelspec": {
   "display_name": "python-programmering-Isak-Andersson-dnxZmePr",
   "language": "python",
   "name": "python3"
  },
  "language_info": {
   "codemirror_mode": {
    "name": "ipython",
    "version": 3
   },
   "file_extension": ".py",
   "mimetype": "text/x-python",
   "name": "python",
   "nbconvert_exporter": "python",
   "pygments_lexer": "ipython3",
   "version": "3.11.5"
  },
  "orig_nbformat": 4
 },
 "nbformat": 4,
 "nbformat_minor": 2
}
