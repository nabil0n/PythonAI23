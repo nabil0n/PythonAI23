{
 "cells": [
  {
   "attachments": {},
   "cell_type": "markdown",
   "metadata": {},
   "source": [
    "# Sets\n",
    "**VISAS MED {} men görs en \"empty\" kommer IDE tro att det är en dict**\n",
    "- Oordnade, oförändringsbara och tillåter inte duplicerade värden.\n",
    "- Man kan inte använda sig av indexeringslösningar ( [0:-1] etc)\n",
    "- kan vara vilken datatype som helst och kan vara en blandning\n",
    "- set = {1, 2, 3, 4, 5, 6, 7} (alltså inte som dict med kolon)\n",
    "- .add() lägger till\n",
    "- .clear() tar bort allt\n",
    "- .update() lägger till ett annat set men ignorerar dubletter\n",
    "\n",
    "---\n",
    "- om man vill ha bort dubletter i en lista, gör det till ett set! // variabel = set(lista)\n",
    "---\n",
    "- .union lägger ihop set\n",
    "- .intersection visar vilka dubletter som finns mellan två set\n",
    "- .difference visar vilka olikheter setten har\n",
    "- .symmetric_difference returnar ett set som tar med alla som finns i båda förutom values som finns i båda"
   ]
  },
  {
   "cell_type": "code",
   "execution_count": 4,
   "metadata": {},
   "outputs": [
    {
     "name": "stdout",
     "output_type": "stream",
     "text": [
      "{1, 2, 3, 4, 5, 6, 7, 101, 9, 10, 66, 99, 88, 27, -3}\n",
      "{1, 2, 4, 5, 7}\n",
      "{3, 6, 9, 10, -3}\n",
      "{3, 101, 6, 9, 10, 27, -3}\n"
     ]
    }
   ],
   "source": [
    "a = {1, 2, 3, 4, 5, 6}\n",
    "#print(len(a))\n",
    "#print(a)\n",
    "a.add(7)\n",
    "#print(a)\n",
    "\n",
    "a.update({1, 2, 3, 9, 10, -3})\n",
    "#print(a)\n",
    "\n",
    "lista = [1, 1, 2, 2, 4, 5, 1, 1, 5, 7, 27, 101]\n",
    "#print(lista)\n",
    "myset = set(lista)\n",
    "#print(myset)\n",
    "\n",
    "print(a.union(myset, {99, 88, 66}))\n",
    "print(a.intersection(myset))\n",
    "print(a.difference(myset))\n",
    "print(a.symmetric_difference(myset))"
   ]
  }
 ],
 "metadata": {
  "kernelspec": {
   "display_name": "Python 3",
   "language": "python",
   "name": "python3"
  },
  "language_info": {
   "codemirror_mode": {
    "name": "ipython",
    "version": 3
   },
   "file_extension": ".py",
   "mimetype": "text/x-python",
   "name": "python",
   "nbconvert_exporter": "python",
   "pygments_lexer": "ipython3",
   "version": "3.11.5"
  },
  "orig_nbformat": 4
 },
 "nbformat": 4,
 "nbformat_minor": 2
}
