{
 "cells": [
  {
   "cell_type": "markdown",
   "metadata": {},
   "source": [
    "# Scope\n",
    "- Livslängd på en variabel\n",
    "- Local scope: bara tillgänglig lokalt i en funktion\n",
    "- Global scope: tillgänglig genom hela programmet\n",
    "- **detta är de enda två i Python**\n",
    "\n",
    "- i andra språk används också block scope. Där en variabel bara lever i blocket den är i.\n",
    "- I Python så lever även typ \"i\" i en for-loop även när loopblocket är slut."
   ]
  },
  {
   "cell_type": "code",
   "execution_count": null,
   "metadata": {},
   "outputs": [],
   "source": []
  },
  {
   "cell_type": "markdown",
   "metadata": {},
   "source": [
    "# Recursion\n",
    "- Anropa funktionen i samma funktion\n",
    "- Fredrik rekommenderar att det oftast är onödigt! (jag säger meneh! kul ju!)\n",
    "\n",
    "- skrev inte ner alla exempel nedan. Se Fredriks dokument istället.\n"
   ]
  },
  {
   "cell_type": "code",
   "execution_count": 2,
   "metadata": {},
   "outputs": [
    {
     "name": "stdout",
     "output_type": "stream",
     "text": [
      "main() called\n",
      "func_a() called\n",
      "func_b() called\n",
      "func_b() ended\n",
      "func_a() ended\n",
      "main() ended\n"
     ]
    }
   ],
   "source": [
    "def main():\n",
    "    print(\"main() called\")\n",
    "    \n",
    "    func_a()\n",
    "    \n",
    "    print(\"main() ended\")\n",
    "\n",
    "def func_a():\n",
    "    print(\"func_a() called\")\n",
    "    \n",
    "    func_b()\n",
    "    \n",
    "    print(\"func_a() ended\")\n",
    "\n",
    "def func_b():\n",
    "    print(\"func_b() called\")\n",
    "    print(\"func_b() ended\")\n",
    "\n",
    "main()"
   ]
  }
 ],
 "metadata": {
  "kernelspec": {
   "display_name": "python-programmering-Isak-Andersson-dnxZmePr",
   "language": "python",
   "name": "python3"
  },
  "language_info": {
   "codemirror_mode": {
    "name": "ipython",
    "version": 3
   },
   "file_extension": ".py",
   "mimetype": "text/x-python",
   "name": "python",
   "nbconvert_exporter": "python",
   "pygments_lexer": "ipython3",
   "version": "3.11.5"
  },
  "orig_nbformat": 4
 },
 "nbformat": 4,
 "nbformat_minor": 2
}
