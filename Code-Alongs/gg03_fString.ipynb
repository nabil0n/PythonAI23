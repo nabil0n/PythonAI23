{
 "cells": [
  {
   "attachments": {},
   "cell_type": "markdown",
   "metadata": {},
   "source": [
    "# Fredagen den 1 september\n",
    "\n",
    "## fString\n",
    "\n",
    "Formatted string literals\n",
    "\n",
    "--mycket du redan kan....."
   ]
  },
  {
   "cell_type": "code",
   "execution_count": 1,
   "metadata": {},
   "outputs": [
    {
     "name": "stdout",
     "output_type": "stream",
     "text": [
      "Detta är en fString där du kan skriva Isak och Hej Isak! på detta vis.\n"
     ]
    }
   ],
   "source": [
    "a = \"Isak\"\n",
    "b = f\"Hej {a}!\"\n",
    "\n",
    "print(f\"Detta är en fString där du kan skriva {a} och {b} på detta vis.\")"
   ]
  },
  {
   "attachments": {},
   "cell_type": "markdown",
   "metadata": {},
   "source": [
    "### padding and allignment\n",
    "\n",
    ":{padding char}{width}{alignment}\n",
    "\n",
    "print(f\"{3.124987:<.2e}\") exponentform\n",
    "print(f\"{3.124987:<.2f}\") hur många decimaler\n",
    "print(f\"{3.124987:<.2%}\") procent (default precision 6 decimals)\n",
    "print(f\"{100000000:,.2f}\") kommatecken upp stora tal\n",
    "FORMATERING BÖRJAR EFTER :\n"
   ]
  },
  {
   "cell_type": "code",
   "execution_count": 13,
   "metadata": {},
   "outputs": [
    {
     "name": "stdout",
     "output_type": "stream",
     "text": [
      "namn1               namn2\n",
      "Isak                Andersson\n",
      "12.50%\n",
      "100,000,000.00\n"
     ]
    }
   ],
   "source": [
    "\n",
    "namn1 = \"Isak\"\n",
    "namn2 = \"Andersson\"\n",
    "print(f\"{'namn1':20}{'namn2'}\")\n",
    "print(f\"{namn1:20}{namn2}\")\n",
    "\n",
    "print(f\"{0.124987:<.2%}\")\n",
    "print(f\"{100000000:,.2f}\")\n"
   ]
  }
 ],
 "metadata": {
  "kernelspec": {
   "display_name": "Python 3",
   "language": "python",
   "name": "python3"
  },
  "language_info": {
   "codemirror_mode": {
    "name": "ipython",
    "version": 3
   },
   "file_extension": ".py",
   "mimetype": "text/x-python",
   "name": "python",
   "nbconvert_exporter": "python",
   "pygments_lexer": "ipython3",
   "version": "3.11.5"
  },
  "orig_nbformat": 4
 },
 "nbformat": 4,
 "nbformat_minor": 2
}
