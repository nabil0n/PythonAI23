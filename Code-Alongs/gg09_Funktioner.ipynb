{
 "cells": [
  {
   "attachments": {},
   "cell_type": "markdown",
   "metadata": {},
   "source": [
    "# Funktioner!\n",
    "- DRY = Dont repeat yourself\n",
    "- Funktioner gör att vi kan återanvända oss av kod\n",
    "- Funktionen körs inte automatiskt, den måste bli called\n",
    "- Call måste ske efter definitionen.\n"
   ]
  },
  {
   "cell_type": "code",
   "execution_count": 6,
   "metadata": {},
   "outputs": [
    {
     "name": "stdout",
     "output_type": "stream",
     "text": [
      "Hej, Isak!\n",
      "Hej, Gabriel!\n",
      "Hej, Ester!\n",
      "Hej, Sara!\n"
     ]
    }
   ],
   "source": [
    "def hej(namn):\n",
    "    print(\"Hej, \"+namn+\"!\")\n",
    "\n",
    "def greeter(people):\n",
    "    for name in people:\n",
    "        hej(name)\n",
    "\n",
    "lista = [\"Isak\", \"Gabriel\", \"Ester\", \"Sara\"]\n",
    "greeter(lista)"
   ]
  },
  {
   "attachments": {},
   "cell_type": "markdown",
   "metadata": {},
   "source": [
    "## Abstraction levels\n",
    "- Hur många \"lager\" av information och instruktioner som döljs bakom olika kod, synlig som osynlig.\n",
    "- Fredriks genomgångsdokument förklarar bättre."
   ]
  }
 ],
 "metadata": {
  "kernelspec": {
   "display_name": "Python 3",
   "language": "python",
   "name": "python3"
  },
  "language_info": {
   "codemirror_mode": {
    "name": "ipython",
    "version": 3
   },
   "file_extension": ".py",
   "mimetype": "text/x-python",
   "name": "python",
   "nbconvert_exporter": "python",
   "pygments_lexer": "ipython3",
   "version": "3.11.5"
  },
  "orig_nbformat": 4
 },
 "nbformat": 4,
 "nbformat_minor": 2
}
