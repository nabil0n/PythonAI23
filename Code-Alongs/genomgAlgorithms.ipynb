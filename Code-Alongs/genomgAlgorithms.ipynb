{
 "cells": [
  {
   "attachments": {},
   "cell_type": "markdown",
   "metadata": {},
   "source": [
    "# Algotritmer \n",
    "\n",
    "## Linear search\n",
    "- går steg för steg. snabbt om man ska hitta något tidigt men segt om man ska hitta något i slutet\n",
    "\n",
    "## Binary search\n",
    "- Börjar på mitten och eliminerar allt ovan eller under beroende på om det vi sökter äver över eller under. Oftast snabbare än linear.\n",
    "\n",
    "## Route-finding / Path-finding\n",
    "- hur är Elizabeth II släkt med William III?\n",
    "- 1. Börja på målet, hur långt från målet är målet? Vi börjar alltså med siffran 0.\n",
    "- 2. Markera alla steg som är 1 steg från målet.\n",
    "- 3. Markera alla steg som är 1 steg från de som är ett steg från målet.\n",
    "- osv\n",
    "\n",
    "Allt ovan i denna länk: https://www.khanacademy.org/computing/computer-science/algorithms\n",
    "___\n",
    "### Kolla gärna lite på sorteringsalgorithmer\n",
    "- Python har inbyggda funktioner för detta också, som är bra\n",
    "- I arbetslivet brukar också färdiga algorithmer användas, uppfinn inte hjulet på nytt.\n",
    "____\n",
    "### Övning\n",
    "- https://www.ithsdistans.se/pluginfile.php/84772/mod_resource/content/0/Hitta_tal.pdf\n",
    "- https://www.ithsdistans.se/pluginfile.php/84771/mod_resource/content/0/Probleml%C3%B6sning.pdf\n",
    "\n",
    "- Hitta alla strängar som börjar och slutar på samma siffra i 29535123p48723487597645723645\n",
    "\n",
    "- Egna tankar, ordning:\n",
    "1. gå steg för steg i indexen av strängen\n",
    "2. hitta nästa index av samma värde, återigen genom att gå steg för steg\n",
    "3. slicea ut den delen av strängen om det hittas\n",
    "4. printa INTE ut iterationen om slicen innehåller en bokstav\n",
    "5. printa något för varje godkänd iteration som ser ut typ BÖRJAN:HITTAD_STRÄNG_I_FÄRG:SLUTET\n"
   ]
  },
  {
   "cell_type": "code",
   "execution_count": 8,
   "metadata": {},
   "outputs": [
    {
     "name": "stdout",
     "output_type": "stream",
     "text": [
      "\u001b[0m\u001b[31m2953512\u001b[0m3p48723487597645723645\n",
      "\u001b[0m29\u001b[31m535\u001b[0m123p48723487597645723645\n",
      "\u001b[0m295\u001b[31m35123\u001b[0mp48723487597645723645\n",
      "\u001b[0m29535123p\u001b[31m487234\u001b[0m87597645723645\n",
      "\u001b[0m29535123p4\u001b[31m872348\u001b[0m7597645723645\n",
      "\u001b[0m29535123p48\u001b[31m723487\u001b[0m597645723645\n",
      "\u001b[0m29535123p487\u001b[31m2348759764572\u001b[0m3645\n",
      "\u001b[0m29535123p4872\u001b[31m3487597645723\u001b[0m645\n",
      "\u001b[0m29535123p48723\u001b[31m48759764\u001b[0m5723645\n",
      "\u001b[0m29535123p4872348\u001b[31m7597\u001b[0m645723645\n",
      "\u001b[0m29535123p48723487\u001b[31m597645\u001b[0m723645\n",
      "\u001b[0m29535123p4872348759\u001b[31m76457\u001b[0m23645\n",
      "\u001b[0m29535123p48723487597\u001b[31m6457236\u001b[0m45\n",
      "\u001b[0m29535123p487234875976\u001b[31m4572364\u001b[0m5\n",
      "\u001b[0m29535123p4872348759764\u001b[31m5723645\u001b[0m\n"
     ]
    }
   ],
   "source": [
    "\n",
    "from colorama import Fore, Back, Style\n",
    "\n",
    "def string_searcher(str):\n",
    "    for start_index in range(len(str)):\n",
    "        left_string = \"\"\n",
    "        new_string = \"\"\n",
    "        right_string = \"\"\n",
    "        start_value = str[start_index]\n",
    "        for search_index in range(start_index, len(str)):\n",
    "            search_value = str[search_index]\n",
    "            if search_value == start_value and str[start_index+1:search_index].isdigit() and new_string == \"\":\n",
    "                new_string += str[start_index:search_index+1]\n",
    "                left_string += str[0:start_index]\n",
    "                right_string += str[search_index+1:len(str)]\n",
    "                print(f\"{Style.RESET_ALL + left_string}{Fore.RED + new_string}{Style.RESET_ALL + right_string}\")\n",
    "\n",
    "string_searcher(\"29535123p48723487597645723645\")\n"
   ]
  }
 ],
 "metadata": {
  "kernelspec": {
   "display_name": "Python 3",
   "language": "python",
   "name": "python3"
  },
  "language_info": {
   "codemirror_mode": {
    "name": "ipython",
    "version": 3
   },
   "file_extension": ".py",
   "mimetype": "text/x-python",
   "name": "python",
   "nbconvert_exporter": "python",
   "pygments_lexer": "ipython3",
   "version": "3.11.5"
  },
  "orig_nbformat": 4
 },
 "nbformat": 4,
 "nbformat_minor": 2
}
