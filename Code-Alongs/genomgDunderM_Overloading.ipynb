{
 "cells": [
  {
   "cell_type": "markdown",
   "metadata": {},
   "source": [
    "# Dunder metoder! (double underscore)\n",
    "\n",
    "- \\_\\_init__()  : Initiera klassen med färdiga värden\n",
    "- \\_\\_repr__()  :  Används för att representera, blir tytp samma som str men används i högre prio av Python. För utvecklarens ögon.\n",
    "- \\_\\_str__()  :  Används för att konvertera till string. För användarens ögon.\n",
    "\n",
    "- mfl"
   ]
  },
  {
   "cell_type": "code",
   "execution_count": 5,
   "metadata": {},
   "outputs": [
    {
     "name": "stdout",
     "output_type": "stream",
     "text": [
      "Musse\n",
      "Cat(\"Musse\")\n"
     ]
    }
   ],
   "source": [
    "# class Cat:\n",
    "#     def __init__(self, name, age):\n",
    "#         self.name = name\n",
    "#         self.age = age\n",
    "    \n",
    "#     def __str__(self):\n",
    "#         return self.name\n",
    "    \n",
    "#     def __repr__(self):\n",
    "#         return f'Cat(\"{self.name}\")'\n",
    "\n",
    "# my_cat = Cat(\"Musse\", 14)\n",
    "\n",
    "# my_string = str(my_cat)\n",
    "\n",
    "# print(str(my_cat))\n",
    "# print(repr(my_cat))"
   ]
  },
  {
   "cell_type": "markdown",
   "metadata": {},
   "source": [
    "# Operator Overloading\n",
    "- bestäm vad en operator ska göra"
   ]
  },
  {
   "cell_type": "code",
   "execution_count": 3,
   "metadata": {},
   "outputs": [
    {
     "data": {
      "text/plain": [
       "['Kiwi', 'Banana', 'Apple', 'Orange']"
      ]
     },
     "execution_count": 3,
     "metadata": {},
     "output_type": "execute_result"
    }
   ],
   "source": [
    "5 + 3\n",
    "\"Hello\" + \"World\"\n",
    "[\"Kiwi\", \"Banana\"] + [\"Apple\", \"Orange\"]"
   ]
  },
  {
   "cell_type": "code",
   "execution_count": 10,
   "metadata": {},
   "outputs": [],
   "source": [
    "class Cat:\n",
    "    def __init__(self, name, age):\n",
    "        self.name = name\n",
    "        self.age = age\n",
    "    \n",
    "    def __add__(self, other):\n",
    "        return self.name + other.name\n",
    "\n",
    "my_cat = Cat(\"Musse\", 14)\n",
    "\n"
   ]
  },
  {
   "cell_type": "code",
   "execution_count": 11,
   "metadata": {},
   "outputs": [
    {
     "data": {
      "text/plain": [
       "'PelleMaja'"
      ]
     },
     "execution_count": 11,
     "metadata": {},
     "output_type": "execute_result"
    }
   ],
   "source": [
    "cat_a = Cat(\"Pelle\", 5)\n",
    "cat_b = Cat(\"Maja\", 3)\n",
    "\n",
    "cat_a + cat_b"
   ]
  }
 ],
 "metadata": {
  "kernelspec": {
   "display_name": "python-programmering-Isak-Andersson-XSmhp6s-",
   "language": "python",
   "name": "python3"
  },
  "language_info": {
   "codemirror_mode": {
    "name": "ipython",
    "version": 3
   },
   "file_extension": ".py",
   "mimetype": "text/x-python",
   "name": "python",
   "nbconvert_exporter": "python",
   "pygments_lexer": "ipython3",
   "version": "3.11.5"
  },
  "orig_nbformat": 4
 },
 "nbformat": 4,
 "nbformat_minor": 2
}
