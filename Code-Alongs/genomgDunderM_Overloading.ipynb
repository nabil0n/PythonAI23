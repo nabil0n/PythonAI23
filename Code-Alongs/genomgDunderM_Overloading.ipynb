{
 "cells": [
  {
   "cell_type": "markdown",
   "metadata": {},
   "source": [
    "# Dunder metoder! (double underscore)\n",
    "\n",
    "- \\_\\_init__()  : Initiera klassen med färdiga värden\n",
    "- \\_\\_repr__()  :  Används för att representera, blir tytp samma som str men används i högre prio av Python. För utvecklarens ögon.\n",
    "- \\_\\_str__()  :  Används för att konvertera till string. För användarens ögon. Är inte str skrivet används repr.\n",
    "\n",
    "- mfl"
   ]
  },
  {
   "cell_type": "code",
   "execution_count": 5,
   "metadata": {},
   "outputs": [
    {
     "name": "stdout",
     "output_type": "stream",
     "text": [
      "Musse\n",
      "Cat(\"Musse\")\n"
     ]
    }
   ],
   "source": [
    "# class Cat:\n",
    "#     def __init__(self, name, age):\n",
    "#         self.name = name\n",
    "#         self.age = age\n",
    "    \n",
    "#     def __str__(self):\n",
    "#         return self.name\n",
    "    \n",
    "#     def __repr__(self):\n",
    "#         return f'Cat(\"{self.name}\")'\n",
    "\n",
    "# my_cat = Cat(\"Musse\", 14)\n",
    "\n",
    "# my_string = str(my_cat)\n",
    "\n",
    "# print(str(my_cat))\n",
    "# print(repr(my_cat))"
   ]
  },
  {
   "cell_type": "markdown",
   "metadata": {},
   "source": [
    "# Operator Overloading\n",
    "- bestäm vad en operator ska göra\n",
    "- \\_\\_add__() för + osv\n",
    "- något1 + något2 + något3 räknas i ordning ( något 1 + 2, något 1,2 + 3)"
   ]
  },
  {
   "cell_type": "code",
   "execution_count": 3,
   "metadata": {},
   "outputs": [
    {
     "data": {
      "text/plain": [
       "['Kiwi', 'Banana', 'Apple', 'Orange']"
      ]
     },
     "execution_count": 3,
     "metadata": {},
     "output_type": "execute_result"
    }
   ],
   "source": [
    "5 + 3\n",
    "\"Hello\" + \"World\"\n",
    "[\"Kiwi\", \"Banana\"] + [\"Apple\", \"Orange\"]"
   ]
  },
  {
   "cell_type": "code",
   "execution_count": 10,
   "metadata": {},
   "outputs": [],
   "source": [
    "class Cat:\n",
    "    def __init__(self, name, age):\n",
    "        self.name = name\n",
    "        self.age = age\n",
    "    \n",
    "    def __add__(self, other):\n",
    "        return self.name + other # Nu funkar cat_a = cat_b, men inte \"Hej\" + cat_a + cat_b\n",
    "\n",
    "my_cat = Cat(\"Musse\", 14)\n",
    "\n"
   ]
  },
  {
   "cell_type": "code",
   "execution_count": 11,
   "metadata": {},
   "outputs": [
    {
     "data": {
      "text/plain": [
       "'PelleMaja'"
      ]
     },
     "execution_count": 11,
     "metadata": {},
     "output_type": "execute_result"
    }
   ],
   "source": [
    "cat_a = Cat(\"Pelle\", 5)\n",
    "cat_b = Cat(\"Maja\", 3)\n",
    "\n",
    "cat_a + cat_b"
   ]
  },
  {
   "cell_type": "code",
   "execution_count": 47,
   "metadata": {},
   "outputs": [
    {
     "name": "stdout",
     "output_type": "stream",
     "text": [
      "Kelvin = 7, Celsius = -266.15.\n",
      "Kelvin = 7, Celsius = -266.15.\n"
     ]
    }
   ],
   "source": [
    "class Temperature:\n",
    "    def __init__(self, kelvin=None, celsius=None):\n",
    "        if kelvin is not None:\n",
    "            self.kelvin = kelvin\n",
    "        else:\n",
    "            self.celsius = celsius\n",
    "    \n",
    "    def __repr__(self):\n",
    "        return f\"Kelvin = {self.kelvin}, Celsius = {self.celsius}.\"\n",
    "    \n",
    "    def __add__(self, other):\n",
    "        if type(other) not in [float, int, Temperature]:\n",
    "            raise TypeError(f\"Can't add {type(self)} and {type(other)}\")\n",
    "        if type(other) in [float, int]:\n",
    "            return Temperature(kelvin=self.kelvin + other)\n",
    "        else:\n",
    "            return Temperature(kelvin=self.kelvin + other.kelvin)\n",
    "    \n",
    "    def __radd__(self, other):\n",
    "        return self.__add__(other)\n",
    "    \n",
    "    @property\n",
    "    def kelvin(self):\n",
    "        return self._kelvin\n",
    "    \n",
    "    @kelvin.setter\n",
    "    def kelvin(self, kelvin):\n",
    "        self._kelvin = kelvin\n",
    "        \n",
    "    @property\n",
    "    def celsius(self):\n",
    "        return self._kelvin - 273.15\n",
    "    \n",
    "    @celsius.setter\n",
    "    def celsius(self, celsius):\n",
    "        self._kelvin = celsius + 273.15\n",
    "    \n",
    "t1 = Temperature(kelvin=5)\n",
    "t2 = Temperature(celsius=5)\n",
    "t3 = Temperature(kelvin=2)\n",
    "\n",
    "t1 + t2 + t3 + 5.0 + 4\n",
    "print(t1 + 2)\n",
    "print(2 + t1)"
   ]
  }
 ],
 "metadata": {
  "kernelspec": {
   "display_name": "python-programmering-Isak-Andersson-XSmhp6s-",
   "language": "python",
   "name": "python3"
  },
  "language_info": {
   "codemirror_mode": {
    "name": "ipython",
    "version": 3
   },
   "file_extension": ".py",
   "mimetype": "text/x-python",
   "name": "python",
   "nbconvert_exporter": "python",
   "pygments_lexer": "ipython3",
   "version": "3.11.5"
  },
  "orig_nbformat": 4
 },
 "nbformat": 4,
 "nbformat_minor": 2
}
