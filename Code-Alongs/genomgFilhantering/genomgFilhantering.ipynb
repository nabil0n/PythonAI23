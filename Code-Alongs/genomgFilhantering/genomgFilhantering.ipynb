{
 "cells": [
  {
   "cell_type": "markdown",
   "metadata": {},
   "source": [
    "# Filhantering!\n",
    "- I denna genomgång: .txt, .csv, .json\n",
    "- Filer kan lite överdrivet räknas till två större paraplygrupper: Textfiler och binära filer\n",
    "## Filnamn och fil-path\n",
    "- filnamn har ett namn och en extension (NAMN.EXTENSION)\n",
    "- path kan vara relativ (börjar från current active folder, som nu i code-alongs) eller absolut (c:\\path\\path\\path\\file.ext)\n",
    "## Öppna och **STÄNG**\n",
    "- "
   ]
  },
  {
   "cell_type": "code",
   "execution_count": 1,
   "metadata": {},
   "outputs": [],
   "source": [
    "file = open(\"hello.txt\") #På detta sätt letar den efter filen i samma mapp som pythonkoden.\n",
    "# file = open(\"..\\hello.txt\") # Om den låg i mappen över."
   ]
  }
 ],
 "metadata": {
  "kernelspec": {
   "display_name": "PythonAI23-Isak-Andersson-IBaVIK9C",
   "language": "python",
   "name": "python3"
  },
  "language_info": {
   "codemirror_mode": {
    "name": "ipython",
    "version": 3
   },
   "file_extension": ".py",
   "mimetype": "text/x-python",
   "name": "python",
   "nbconvert_exporter": "python",
   "pygments_lexer": "ipython3",
   "version": "3.11.4"
  },
  "orig_nbformat": 4
 },
 "nbformat": 4,
 "nbformat_minor": 2
}
