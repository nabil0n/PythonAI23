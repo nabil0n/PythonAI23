{
 "cells": [
  {
   "cell_type": "markdown",
   "metadata": {},
   "source": [
    "# Filhantering!\n",
    "- I denna genomgång: .txt, .csv, .json\n",
    "- Filer kan lite överdrivet räknas till två större paraplygrupper: Textfiler och binära filer\n",
    "## Filnamn och fil-path\n",
    "- filnamn har ett namn och en extension (NAMN.EXTENSION)\n",
    "- path kan vara relativ (börjar från current active folder, som nu i code-alongs) eller absolut (c:\\path\\path\\path\\file.ext)\n",
    "## Öppna och **STÄNG**\n",
    "- Sålänge filen är öppen är den \"stängd\" för annat än det du öppnade den för...\n",
    "## Läs och editera\n",
    "- , \"w\" (write)\n",
    "- , \"r\" (read)\n",
    "- , \"a\" (append)\n",
    "- , \"x\" (create)"
   ]
  },
  {
   "cell_type": "code",
   "execution_count": 13,
   "metadata": {},
   "outputs": [
    {
     "name": "stdout",
     "output_type": "stream",
     "text": [
      "Nu da?\n",
      "\n"
     ]
    }
   ],
   "source": [
    "#file = open(\"hello.txt\", \"a\") #På detta sätt letar den efter filen i samma mapp som pythonkoden.\n",
    "# file = open(\"..\\hello.txt\") # Om den låg i mappen över.\n",
    "#content = file.read()\n",
    "\n",
    "#new_content = input(\"Skriv något som ska sparas: \")+\"\\n\"\n",
    "#file.write(new_content)\n",
    "#file.close()\n",
    "\n",
    "#print(file.read())\n",
    "\n",
    "# ___________________________________________________________________\n",
    "\n",
    "# Snyggare lösning (då den autostänger):\n",
    "with open(\"hello.txt\", \"a\") as file:\n",
    "    new_content = input(\"Skriv något som ska sparas: \")+\"\\n\"\n",
    "    file.write(new_content)\n",
    "    print(new_content)\n"
   ]
  },
  {
   "cell_type": "markdown",
   "metadata": {},
   "source": [
    "## mini-uppgift\n",
    "- Skapa ett program som har en tom lista. När programmet körs får användaren mata in namn i en loop, tills användaren matar in en tom rad.\n",
    "- När den är klar så sparas listan till en fil (med ett namn på varje rad i filen)\n",
    "- Nästa gång man startar programmet så läser programmet in de befintliga namnen.\n",
    "- När programmet är klart så skrivs alla nman ut på skärmen."
   ]
  },
  {
   "cell_type": "code",
   "execution_count": 27,
   "metadata": {},
   "outputs": [
    {
     "name": "stdout",
     "output_type": "stream",
     "text": [
      "Welcome to the list of names!\n",
      "\n",
      "Current names on our list:\n",
      "isak\n",
      "isak\n",
      "hans\n",
      "oskar\n",
      "klas\n",
      "fredrik\n",
      "Lisa\n",
      "Johanna\n",
      "greta\n",
      "\n",
      "You entered ['Onyxia', 'Ragnaros'].\n",
      "The updated list of names is now: \n",
      "isak\n",
      "isak\n",
      "hans\n",
      "oskar\n",
      "klas\n",
      "fredrik\n",
      "Lisa\n",
      "Johanna\n",
      "greta\n",
      "Onyxia\n",
      "Ragnaros\n",
      "\n"
     ]
    }
   ],
   "source": [
    "print(\"Welcome to the list of names!\\n\\nCurrent names on our list:\")\n",
    "with open(\"miniupg.txt\", \"r\") as namesfile:\n",
    "    content = namesfile.read()\n",
    "    print(content)\n",
    "\n",
    "new_names = []\n",
    "while True:\n",
    "    user_input = str(input(\"please enter more names: (or just press enter to quit)\"))\n",
    "    if not user_input:\n",
    "        break\n",
    "    new_names.append(user_input)\n",
    "\n",
    "print(f\"You entered {new_names}.\")\n",
    "\n",
    "with open(\"miniupg.txt\", \"a\") as namesfile:\n",
    "    for name in new_names:\n",
    "        namesfile.write(name+\"\\n\")\n",
    "        \n",
    "print(f\"The updated list of names is now: \")\n",
    "with open(\"miniupg.txt\", \"r\") as namesfile:\n",
    "    content = namesfile.read()\n",
    "    print(content)"
   ]
  },
  {
   "cell_type": "markdown",
   "metadata": {},
   "source": [
    "## .csv\n",
    "- \n"
   ]
  },
  {
   "cell_type": "code",
   "execution_count": 49,
   "metadata": {},
   "outputs": [],
   "source": [
    "lista = [\n",
    "    {\"name\": \"name\", \"class\": \"class\", \"email\": \"email\"},\n",
    "    {\"name\": \"adam\", \"class\": \"AI23\", \"email\": \"123@123.com\"},\n",
    "    {\"name\": \"klas\", \"class\": \"AI23\", \"email\": \"guthenberg@123.com\"},\n",
    "    {\"name\": \"henrik\", \"class\": \"AI23\", \"email\": \"bajs@123.com\"},\n",
    "    {\"name\": \"madhumita\", \"class\": \"AI23\", \"email\": \"posd@123.com\"},\n",
    "]\n",
    "\n",
    "with open(\"exempel.csv\", \"w\") as file:\n",
    "    for student in lista:\n",
    "        file.write(f\"{student['name'].capitalize()}, {student['class']}, {student['email']}\\n\")"
   ]
  },
  {
   "cell_type": "code",
   "execution_count": 53,
   "metadata": {},
   "outputs": [
    {
     "name": "stdout",
     "output_type": "stream",
     "text": [
      "{'Name': 'Adam', ' class': ' AI23', ' email': ' 123@123.com'}\n",
      "{'Name': 'Klas', ' class': ' AI23', ' email': ' guthenberg@123.com'}\n",
      "{'Name': 'Henrik', ' class': ' AI23', ' email': ' bajs@123.com'}\n",
      "{'Name': 'Madhumita', ' class': ' AI23', ' email': ' posd@123.com'}\n",
      "[]\n"
     ]
    }
   ],
   "source": [
    "import csv\n",
    "\n",
    "students = []\n",
    "with open(\"exempel.csv\") as file:\n",
    "    reader = csv.DictReader(file)\n",
    "    for row in reader:\n",
    "        print(row)\n",
    "        #students.append({\"name\": row[\"name\"], \"class\": row[\"class\"], \"email\": row[\"email\"]}) # Vad är fel?!\n",
    "\n",
    "print(students)"
   ]
  },
  {
   "cell_type": "markdown",
   "metadata": {},
   "source": [
    "## .json\n",
    "- mycket likt python på några sätt. dictionary heter object, men samma syntax etc\n",
    "- tar hand om färdiga listor och dicts mycket bättre än csv.\n",
    "---\n",
    "- json.dumps(variabel, parametrar) \"s\" i dump**s** gör det till en sträng\n",
    "- json.loads(variabel)"
   ]
  },
  {
   "cell_type": "code",
   "execution_count": 58,
   "metadata": {},
   "outputs": [
    {
     "name": "stdout",
     "output_type": "stream",
     "text": [
      "{\n",
      "   \"firstname\": \"Fredrik\",\n",
      "   \"lastname\": \"Johansson\",\n",
      "   \"age\": 42,\n",
      "   \"languages\": [\n",
      "      \"Python\",\n",
      "      \"C#\",\n",
      "      \"JavaScript\"\n",
      "   ],\n",
      "   \"contact_info\": {\n",
      "      \"phone\": \"0702345678\",\n",
      "      \"email\": [\n",
      "         \"fredrik@everyloop.com\",\n",
      "         \"blaha@everyloop.com\",\n",
      "         \"blahej@everyloop.com\"\n",
      "      ]\n",
      "   }\n",
      "}\n"
     ]
    }
   ],
   "source": [
    "import json\n",
    "\n",
    "teacher = {\n",
    "    \"firstname\": \"Fredrik\", \n",
    "    \"lastname\": \"Johansson\", \n",
    "    \"age\": 42,\n",
    "    \"languages\": [\"Python\", \"C#\", \"JavaScript\"],\n",
    "    \"contact_info\": {\n",
    "        \"phone\": \"0702345678\",\n",
    "        \"email\": [\n",
    "            \"fredrik@everyloop.com\", \n",
    "            \"blaha@everyloop.com\", \n",
    "            \"blahej@everyloop.com\",\n",
    "        ],\n",
    "    },\n",
    "}\n",
    "\n",
    "serialized_data = json.dumps(teacher, indent=3)\n",
    "print(serialized_data)\n",
    "\n",
    "with open(\"test.json\", \"w\") as file:\n",
    "    file.write(serialized_data)"
   ]
  },
  {
   "cell_type": "code",
   "execution_count": 62,
   "metadata": {},
   "outputs": [
    {
     "name": "stdout",
     "output_type": "stream",
     "text": [
      "{'firstname': 'Fredrik', 'lastname': 'Johansson', 'age': 42, 'languages': ['Python', 'C#', 'JavaScript'], 'contact_info': {'phone': '0702345678', 'email': ['fredrik@everyloop.com', 'blaha@everyloop.com', 'blahej@everyloop.com']}}\n"
     ]
    }
   ],
   "source": [
    "with open(\"test.json\", \"r\") as file:\n",
    "    content = file.read()\n",
    "    print(json.loads(content))"
   ]
  }
 ],
 "metadata": {
  "kernelspec": {
   "display_name": "PythonAI23-Isak-Andersson-IBaVIK9C",
   "language": "python",
   "name": "python3"
  },
  "language_info": {
   "codemirror_mode": {
    "name": "ipython",
    "version": 3
   },
   "file_extension": ".py",
   "mimetype": "text/x-python",
   "name": "python",
   "nbconvert_exporter": "python",
   "pygments_lexer": "ipython3",
   "version": "3.11.4"
  },
  "orig_nbformat": 4
 },
 "nbformat": 4,
 "nbformat_minor": 2
}
