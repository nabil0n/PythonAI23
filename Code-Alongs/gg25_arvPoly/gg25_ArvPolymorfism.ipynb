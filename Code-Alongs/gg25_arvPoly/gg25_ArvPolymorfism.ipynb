{
 "cells": [
  {
   "cell_type": "markdown",
   "metadata": {},
   "source": [
    "### OOP 10e oktober\n",
    "___\n",
    "# Arv och Polymorfism\n",
    "___\n",
    "## grundläggande principer\n",
    "- Inkapsling\n",
    "    - Gruppera ihop info, istället för att göra en massa variabler. Sätt allting en Cat() är och kan göra i samma klass.\n",
    "- Abstraktion\n",
    "    - Gömma information i abstraktionsnivåer; hur detaljrik koden är när den körs typ. (Gömma återkommande grejer i funktioner mm) (den enda av dess som också sker utanför OOP)\n",
    "- **Arv**\n",
    "    - Dela information, mellan objekt och klasser. Som när vi gjorde Cat(), om vi också skulle gjort en Dog() så skulle vi kunna \"ärva\" metoder mm från kanske en \"superklass\", *Animal()*, som kan sköta alla gemensamma metoder.\n",
    "- **Polymorfism**\n",
    "    - Omdefiniera information. Säg att vi gjort en Animal(), där Cat() och Dog() kan använda .walk() på samma sätt, men sen läger vi till en Bird() och då behövs en ny form av .walk() så vi kan göra om den så att den passar typ.\n",
    "    - Override\n",
    "        - Man kan skriva om en metod från parentklassen i childklassen vid behov. Om child har children så ärvs overriden till alla nedåt i ledet.\n",
    "\n",
    "![fredrikbild](arv_gg_25.png)\n",
    "___\n",
    "- Private och Public properties\n",
    "    - i Python gör vi det med ***_namn***. **Detta är snyggt och best practice, gör så**\n",
    "    - i andra språk måste det deklareras\n",
    "    - Både metoder och attribut kan vara privata eller publika\n",
    "___\n",
    "- Några begrepp och sätt\n",
    "    - Parent-class, child | Super-klass, sub-klass\n",
    "    - DEKLARERA FÖRÄLDERN så här: ny_sak = Child(Parent)\n",
    "    - En Class är ett objekt. Så även superklassen du skapar är alltid en subklass till klassen Object.\n",
    "    - Du kan anropa superklassen genom super().METOD(). Den anropar då endast sin egen parent, alltså steget ovanför."
   ]
  },
  {
   "cell_type": "code",
   "execution_count": 26,
   "metadata": {},
   "outputs": [
    {
     "name": "stdout",
     "output_type": "stream",
     "text": [
      "Pelle is running.\n",
      "\n",
      "Fido is running.\n",
      "Fido is barking: WOOF!\n",
      "\n",
      "Sixten is running.\n",
      "Sixten is barking: ..vov..\n",
      "\n",
      "Nemo is running.\n",
      "Nemo is swimming.\n",
      "\n"
     ]
    }
   ],
   "source": [
    "class Animal:\n",
    "    \n",
    "    def __init__(self, name):\n",
    "        self.name = name\n",
    "\n",
    "    def __repr__(self):\n",
    "        return f\"My name is {self.name} and I'm a {type(self)}.\"\n",
    "    \n",
    "    def move(self):\n",
    "        print(f\"{self.name} is running.\")\n",
    "\n",
    "class Cat(Animal):                                                          # Exempel på child(parent)\n",
    "    pass\n",
    "\n",
    "class Dog(Animal):\n",
    "    \n",
    "    def __init__(self, name, is_loud=True):                                 # Exempel på override\n",
    "        super().__init__(name)                                              # Exempel på super()\n",
    "        self._is_loud = is_loud\n",
    "        \n",
    "    def bark(self):\n",
    "        print(f\"{self.name} is barking: {self._get_voff()}\")\n",
    "\n",
    "    \n",
    "    def _get_voff(self):                                                    # Exempel på privat metod\n",
    "        return \"WOOF!\" if self._is_loud else \"..vov..\"\n",
    "\n",
    "class Fish(Animal):\n",
    "    \n",
    "    def move(self):                                                         # Exempel på override\n",
    "        super().move()                                                      # Exempel på super()\n",
    "        print(f\"{self.name} is swimming.\")\n",
    "\n",
    "animals =[\n",
    "    Cat(\"Pelle\"),\n",
    "    Dog(\"Fido\", is_loud=True),\n",
    "    Dog(\"Sixten\", is_loud=False),\n",
    "    Fish(\"Nemo\"),\n",
    "]\n",
    "\n",
    "for animal in animals:\n",
    "    animal.move()\n",
    "    #animal.bark() if animal.__class__ == Dog else None                     # Exempel på olika sätt att skriva samma sak\n",
    "    animal.bark() if hasattr(animal, \"bark\") else None\n",
    "    #animal.bark() if type(animal) == Dog else None\n",
    "    #animal.bark() if isinstance(animal, Dog) else None\n",
    "    print()"
   ]
  },
  {
   "cell_type": "code",
   "execution_count": 37,
   "metadata": {},
   "outputs": [
    {
     "name": "stdout",
     "output_type": "stream",
     "text": [
      "isinstance(my_cat, Cat) = True\n",
      "isinstance(my_cat, Dog) = False\n",
      "isinstance(my_cat, Animal) = True\n",
      "isinstance(my_cat, object) = True\n"
     ]
    }
   ],
   "source": [
    "my_cat = Cat(\"Misse\")\n",
    "print(f\"{isinstance(my_cat, Cat) = }\")\n",
    "print(f\"{isinstance(my_cat, Dog) = }\")\n",
    "print(f\"{isinstance(my_cat, Animal) = }\")\n",
    "print(f\"{isinstance(my_cat, object) = }\")"
   ]
  },
  {
   "cell_type": "code",
   "execution_count": 46,
   "metadata": {},
   "outputs": [
    {
     "name": "stdout",
     "output_type": "stream",
     "text": [
      "issubclass(Cat, Dog) = False\n",
      "issubclass(Cat, Animal) = True\n",
      "issubclass(Cat, object) = True\n",
      "issubclass(Animal, Cat) = False\n"
     ]
    }
   ],
   "source": [
    "print(f\"{issubclass(Cat, Dog) = }\")\n",
    "print(f\"{issubclass(Cat, Animal) = }\")\n",
    "print(f\"{issubclass(Cat, object) = }\")\n",
    "print(f\"{issubclass(Animal, Cat) = }\")"
   ]
  },
  {
   "cell_type": "code",
   "execution_count": 45,
   "metadata": {},
   "outputs": [
    {
     "name": "stdout",
     "output_type": "stream",
     "text": [
      "hasattr(Dog, 'name') = False\n",
      "hasattr(my_dog, 'name') = True\n",
      "hasattr(Dog, 'age') = False\n",
      "hasattr(Dog, 'bark') = True\n",
      "hasattr(my_dog, '__init__') = True\n"
     ]
    }
   ],
   "source": [
    "my_dog = Dog(\"Fido\")\n",
    "print(f\"{hasattr(Dog, 'name') = }\")\n",
    "print(f\"{hasattr(my_dog, 'name') = }\")\n",
    "print(f\"{hasattr(Dog, 'age') = }\")\n",
    "print(f\"{hasattr(Dog, 'bark') = }\")\n",
    "print(f\"{hasattr(my_dog, '__init__') = }\")"
   ]
  },
  {
   "cell_type": "code",
   "execution_count": 36,
   "metadata": {},
   "outputs": [
    {
     "name": "stdout",
     "output_type": "stream",
     "text": [
      "<__main__.Robot object at 0x000002098245DCD0>\n"
     ]
    }
   ],
   "source": [
    "# Missade lite vad som gicks igenom här, men tror det vara upprepning och/eller svar på en fråga.\n",
    "\n",
    "class Robot:\n",
    "    pass\n",
    "\n",
    "my_robot = Robot()\n",
    "print(my_robot)"
   ]
  }
 ],
 "metadata": {
  "kernelspec": {
   "display_name": "python-programmering-Isak-Andersson-XSmhp6s-",
   "language": "python",
   "name": "python3"
  },
  "language_info": {
   "codemirror_mode": {
    "name": "ipython",
    "version": 3
   },
   "file_extension": ".py",
   "mimetype": "text/x-python",
   "name": "python",
   "nbconvert_exporter": "python",
   "pygments_lexer": "ipython3",
   "version": "3.11.5"
  },
  "orig_nbformat": 4
 },
 "nbformat": 4,
 "nbformat_minor": 2
}
