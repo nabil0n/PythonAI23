{
 "cells": [
  {
   "cell_type": "markdown",
   "metadata": {},
   "source": [
    "### OOP 10e oktober\n",
    "___\n",
    "# Arv och Polymorfism\n",
    "___\n",
    "## grundläggande principer\n",
    "- Inkapsling\n",
    "    - Gruppera ihop info, istället för att göra en massa variabler. Sätt allting en Cat() är och kan göra i samma klass.\n",
    "- Abstraktion\n",
    "    - Gömma information i abstraktionsnivåer; hur detaljrik koden är när den körs typ. (Gömma återkommande grejer i funktioner mm) (den enda av dess som också sker utanför OOP)\n",
    "- **Arv**\n",
    "    - Dela information, mellan objekt och klasser. Som när vi gjorde Cat(), om vi också skulle gjort en Dog() så skulle vi kunna \"ärva\" metoder mm från kanske en \"superklass\", *Animal()*, som kan sköta alla gemensamma metoder.\n",
    "- **Polymorfism**\n",
    "    - Omdefiniera information. Säg att vi gjort en Animal(), där Cat() och Dog() kan använda .walk() på samma sätt, men sen läger vi till en Bird() och då behövs en ny form av .walk() så vi kan göra om den så att den passar typ.\n",
    "    - Override\n",
    "        - Man kan skriva om en metod från parentklassen i childklassen vid behov. Om child har children så ärvs overriden till alla nedåt i ledet.\n",
    "    - Virtual\n",
    "        - ??\n",
    "\n",
    "![fredrikbild](arv_gg_25.png)\n",
    "___\n",
    "- Private och Public properties\n",
    "    - i Python gör vi det med *_namn*. **Detta är snyggt och best practice, gör så**\n",
    "    - i andra språk måste det deklareras\n",
    "    - Både metoder och attribut kan vara privata eller publika\n",
    "___\n",
    "- Några begrepp\n",
    "    - Parent-class, child | Super-klass, sub-klass"
   ]
  },
  {
   "cell_type": "code",
   "execution_count": null,
   "metadata": {},
   "outputs": [],
   "source": []
  }
 ],
 "metadata": {
  "kernelspec": {
   "display_name": "python-programmering-Isak-Andersson-XSmhp6s-",
   "language": "python",
   "name": "python3"
  },
  "language_info": {
   "name": "python",
   "version": "3.11.5"
  },
  "orig_nbformat": 4
 },
 "nbformat": 4,
 "nbformat_minor": 2
}
