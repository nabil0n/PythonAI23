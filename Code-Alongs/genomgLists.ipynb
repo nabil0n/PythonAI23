{
 "cells": [
  {
   "cell_type": "markdown",
   "metadata": {},
   "source": [
    "# Lists\n",
    "\n",
    "- För detaljer, se Fredriks genomgångsdokument\n",
    "\n",
    "----\n",
    "\n",
    "## good practices\n",
    "- DRY = Dont repeat yourself\n",
    "- använd snake_case\n",
    "- kommentera för dig själv, men inte på stora företag kanske (det blir otydligt)\n",
    "- Maintainability: Att hålla koden så läsbar som möjligt så det är enkelt att läsa vad som kanske behövs läggas till och tas bort.\n",
    "- Det ska funka. (De tre felen: SyntaxError, logiska fel, runtimeError) "
   ]
  },
  {
   "cell_type": "code",
   "execution_count": 17,
   "metadata": {},
   "outputs": [
    {
     "name": "stdout",
     "output_type": "stream",
     "text": [
      "myList = ['noll', 'ett', 'två', 'tre', 'fyra', 'noll']\n",
      "0\n",
      "1\n",
      "2\n",
      "3\n",
      "4\n",
      "5\n",
      "myList.count('noll') = 2\n",
      "myList = ['noll', 'ett', 'två', 'tre', 'fyra', 'noll', 'tjugosex']\n",
      "['noll', 'ett', 'två', 'tre', 'fyra', 'noll', 'tjugosex', 'gröt', 'Johan', 'boomerang']\n"
     ]
    }
   ],
   "source": [
    "my_list = [\"noll\", \"ett\", \"två\", \"tre\", \"fyra\", \"noll\"]\n",
    "my_other_list = [\"gröt\", \"Johan\", \"boomerang\"]\n",
    "\n",
    "\n",
    "print(f\"{my_list = }\") # snygg fString grej!\n",
    "\n",
    "for i in range(len(my_list)): # len är antalet i listan\n",
    "    print(i)\n",
    "    \n",
    "print(f\"{my_list.count('noll') = }\")\n",
    "\n",
    "my_list.append(\"tjugosex\")\n",
    "print(f\"{my_list = }\")\n",
    "\n",
    "my_list += my_other_list\n",
    "print(f\"{my_list}\")"
   ]
  },
  {
   "cell_type": "code",
   "execution_count": 52,
   "metadata": {},
   "outputs": [
    {
     "name": "stdout",
     "output_type": "stream",
     "text": [
      "Your 'colors' are: ['gul', 'blå', 'grön'] and is3 long.\n"
     ]
    }
   ],
   "source": [
    "colors = []\n",
    "while True:\n",
    "    color = input(\"Please input color: \")\n",
    "    if color:\n",
    "        colors.append(color)\n",
    "    else:\n",
    "        break\n",
    "print(f\"Your 'colors' are: {colors} and is {len(colors)} colors long.\")"
   ]
  },
  {
   "cell_type": "code",
   "execution_count": null,
   "metadata": {},
   "outputs": [],
   "source": []
  }
 ],
 "metadata": {
  "kernelspec": {
   "display_name": "PythonAI23-Isak-Andersson-IBaVIK9C",
   "language": "python",
   "name": "python3"
  },
  "language_info": {
   "codemirror_mode": {
    "name": "ipython",
    "version": 3
   },
   "file_extension": ".py",
   "mimetype": "text/x-python",
   "name": "python",
   "nbconvert_exporter": "python",
   "pygments_lexer": "ipython3",
   "version": "3.11.4"
  },
  "orig_nbformat": 4
 },
 "nbformat": 4,
 "nbformat_minor": 2
}
