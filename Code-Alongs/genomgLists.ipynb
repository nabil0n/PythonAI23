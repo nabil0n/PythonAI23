{
 "cells": [
  {
   "cell_type": "markdown",
   "metadata": {},
   "source": [
    "# Lists\n",
    "\n",
    "- För detaljer, se Fredriks genomgångsdokument\n",
    "\n",
    "----\n",
    "\n",
    "## good practices\n",
    "- DRY = Dont repeat yourself\n",
    "- använd snake_case\n",
    "- kommentera för dig själv, men inte på stora företag kanske (det blir otydligt)\n",
    "- Maintainability: Att hålla koden så läsbar som möjligt så det är enkelt att läsa vad som kanske behövs läggas till och tas bort.\n",
    "- Det ska funka. (De tre felen: SyntaxError, logiska fel, runtimeError) "
   ]
  },
  {
   "cell_type": "code",
   "execution_count": 54,
   "metadata": {},
   "outputs": [
    {
     "name": "stdout",
     "output_type": "stream",
     "text": [
      "my_list = ['noll', 'ett', 'två', 'tre', 'fyra', 'noll']\n",
      "0\n",
      "1\n",
      "2\n",
      "3\n",
      "4\n",
      "5\n",
      "my_list.count('noll') = 2\n",
      "my_list = ['noll', 'ett', 'två', 'tre', 'fyra', 'noll', 'tjugosex']\n",
      "['noll', 'ett', 'två', 'tre', 'fyra', 'noll', 'tjugosex', 'gröt', 'Johan', 'boomerang']\n"
     ]
    }
   ],
   "source": [
    "my_list = [\"noll\", \"ett\", \"två\", \"tre\", \"fyra\", \"noll\"]\n",
    "my_other_list = [\"gröt\", \"Johan\", \"boomerang\"]\n",
    "\n",
    "\n",
    "print(f\"{my_list = }\") # snygg fString grej! myList = ['noll', 'ett', 'två', 'tre', 'fyra', 'noll']\n",
    "\n",
    "for i in range(len(my_list)): # len är antalet i listan\n",
    "    print(i)\n",
    "    \n",
    "print(f\"{my_list.count('noll') = }\")\n",
    "\n",
    "my_list.append(\"tjugosex\")\n",
    "print(f\"{my_list = }\")\n",
    "\n",
    "my_list += my_other_list\n",
    "print(f\"{my_list}\")"
   ]
  },
  {
   "cell_type": "code",
   "execution_count": 53,
   "metadata": {},
   "outputs": [
    {
     "name": "stdout",
     "output_type": "stream",
     "text": [
      "Your 'colors' are: ['gul', 'blå', 'röd'] and is 3 colors long.\n"
     ]
    }
   ],
   "source": [
    "colors = []\n",
    "while True:\n",
    "    color = input(\"Please input color: \")\n",
    "    if color:\n",
    "        colors.append(color)\n",
    "    else:\n",
    "        break\n",
    "print(f\"Your 'colors' are: {colors} and is {len(colors)} colors long.\")"
   ]
  },
  {
   "cell_type": "markdown",
   "metadata": {},
   "source": [
    "- Listor kan ha olika datatypes i sig, däribland även listor\n",
    "- Använd VS codes inbyggda \".\" som ger dig en rull-lista med möjliga grejer du kan göra med din variabel. (Typ .pop, .count osv)\n",
    "---\n",
    "\n",
    "## Indexing och slicing\n",
    "- index visas med [] och börjar alltid med 0\n",
    "- [-1] är sista värdet i listan\n",
    "- [ **start** : **stop** : **step** (optional)]\n",
    "- [:4] visar alla items fram till fjärde\n",
    "- [4:] visar alla items från 4 till slut\n",
    "- [2:8] visar värdena mellan 2 och 8\n",
    "- [::-1] visar hela baklänges\n",
    "- [8:2:-1] går baklänges från åttonde till andra"
   ]
  },
  {
   "cell_type": "code",
   "execution_count": 72,
   "metadata": {},
   "outputs": [
    {
     "name": "stdout",
     "output_type": "stream",
     "text": [
      "['Johan', 'gröt', 'tjugosex', 'noll', 'fyra', 'tre']\n"
     ]
    }
   ],
   "source": [
    "print(my_list[8:2:-1])"
   ]
  },
  {
   "cell_type": "markdown",
   "metadata": {},
   "source": [
    "## loopa genom listor\n",
    "- Se överst på sidan för enklelt exempel\n",
    "- for item **in** list (kollar om något finnns i listan)\n",
    "\n",
    "- enumerate. Börjar autom på 0, förändra annars som nedan"
   ]
  },
  {
   "cell_type": "code",
   "execution_count": 75,
   "metadata": {},
   "outputs": [
    {
     "name": "stdout",
     "output_type": "stream",
     "text": [
      "1. noll\n",
      "2. ett\n",
      "3. två\n",
      "4. tre\n",
      "5. fyra\n",
      "6. noll\n",
      "7. tjugosex\n",
      "8. gröt\n",
      "9. Johan\n",
      "10. boomerang\n"
     ]
    }
   ],
   "source": [
    "for i, item in enumerate(my_list, 1):\n",
    "    print(f\"{i}. {item}\")"
   ]
  },
  {
   "cell_type": "markdown",
   "metadata": {},
   "source": [
    "## list-comprehensions\n",
    "- Skapa en ny lista baserat på värdet av en annan lista\n",
    "- nylista = [item for item in gammallista if item conditiona else item]"
   ]
  },
  {
   "cell_type": "code",
   "execution_count": 87,
   "metadata": {},
   "outputs": [
    {
     "name": "stdout",
     "output_type": "stream",
     "text": [
      "['fyra', 'Johan', 'boomerang']\n"
     ]
    }
   ],
   "source": [
    "# Istället för att skriva\n",
    "\n",
    "# new_list = []\n",
    "# for i in my_list:\n",
    "#     if \"a\" in i:\n",
    "#         new_list.append(i)\n",
    "# print(new_list)\n",
    "\n",
    "# kan man istället skriva\n",
    "\n",
    "new_list = [i for i in my_list if \"a\" in i]\n",
    "print(new_list)"
   ]
  },
  {
   "cell_type": "markdown",
   "metadata": {},
   "source": [
    "## mini-uppgift 2\n",
    "- skapa manuellt en lista i koden med fem frukter.\n",
    "- använd comprehension för att skapa en ny lista med samma frukter men med ett utropstecken efter varje frukt."
   ]
  },
  {
   "cell_type": "code",
   "execution_count": 88,
   "metadata": {},
   "outputs": [
    {
     "name": "stdout",
     "output_type": "stream",
     "text": [
      "['äpple!', 'banan!', 'kiwi!', 'ananas!', 'mango!']\n"
     ]
    }
   ],
   "source": [
    "frukter = [\"äpple\", \"banan\", \"kiwi\", \"ananas\", \"mango\"]\n",
    "utropade_frukter = [frukt+\"!\" for frukt in frukter]\n",
    "print(utropade_frukter)"
   ]
  },
  {
   "cell_type": "markdown",
   "metadata": {},
   "source": [
    "## mini-uppgift 3\n",
    "- A) skapa en lista med frukter från din tidigare fruktlista som tar ut frukter med 5 bokstäver.\n",
    "- B) Skapa en lista med alla heltal 0-100. Skapa med list comprehension en ny lista med alla jämna tal."
   ]
  },
  {
   "cell_type": "code",
   "execution_count": 95,
   "metadata": {},
   "outputs": [
    {
     "name": "stdout",
     "output_type": "stream",
     "text": [
      "['äpple', 'banan', 'mango']\n",
      "[0, 2, 4, 6, 8, 10, 12, 14, 16, 18, 20, 22, 24, 26, 28, 30, 32, 34, 36, 38, 40, 42, 44, 46, 48, 50, 52, 54, 56, 58, 60, 62, 64, 66, 68, 70, 72, 74, 76, 78, 80, 82, 84, 86, 88, 90, 92, 94, 96, 98, 100]\n"
     ]
    }
   ],
   "source": [
    "# a)\n",
    "five_letter_fruit = [fruit for fruit in frukter if len(fruit) == 5]\n",
    "print(five_letter_fruit)\n",
    "\n",
    "# b)\n",
    "zero_to_hundred = [number for number in range(101)]\n",
    "#print(zero_to_hundred)\n",
    "even_list = [number for number in zero_to_hundred if number % 2 == 0]\n",
    "print(even_list)"
   ]
  }
 ],
 "metadata": {
  "kernelspec": {
   "display_name": "PythonAI23-Isak-Andersson-IBaVIK9C",
   "language": "python",
   "name": "python3"
  },
  "language_info": {
   "codemirror_mode": {
    "name": "ipython",
    "version": 3
   },
   "file_extension": ".py",
   "mimetype": "text/x-python",
   "name": "python",
   "nbconvert_exporter": "python",
   "pygments_lexer": "ipython3",
   "version": "3.11.4"
  },
  "orig_nbformat": 4
 },
 "nbformat": 4,
 "nbformat_minor": 2
}
