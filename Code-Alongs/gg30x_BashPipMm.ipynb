{
 "cells": [
  {
   "cell_type": "markdown",
   "metadata": {},
   "source": [
    "# Bashcommands\n",
    "\n",
    "- bash och powershell commandon\n",
    "    - dir eller ls (visa directory)\n",
    "    - cd (change dir, .. är att backa)\n",
    "    - mkdir (make dir)\n",
    "    - ni ( new item) *ni filename.end*\n",
    "    - cp (copy) *cp file.txt ..* lägger en kopia i foldern över\n",
    "    - rm (remove)\n",
    "    - mv (move eller rename)\n",
    "    - echo (print())\n",
    "    - cat (skriv ut innehållet i en fil)\n",
    "    - "
   ]
  },
  {
   "cell_type": "markdown",
   "metadata": {},
   "source": [
    "# PIP\n",
    "\n",
    "- pypi.org (Här finns alla bibliotek mm)\n",
    "- skriv bara pip i bash för hjälp\n",
    "- pip \\<command\\> [options]\n",
    "- pip list (visar alla installerade paket)\n",
    "- pip show ___ (visar info om paket)\n",
    "- pip uninstall (gissa en gång)\n",
    "___\n",
    "\n",
    "## pipenv\n",
    "- skriv bara pipenv i bash för att få upp kommandoförklaringar osv\n",
    "- pipenv graph (visar ett träd hur allt är installerat)"
   ]
  },
  {
   "cell_type": "markdown",
   "metadata": {},
   "source": [
    "### Semantic Versioning\n",
    "\n",
    "- 0.0.0\n",
    "- Major.Minor.Patch\n",
    "- mer info: semver.org"
   ]
  }
 ],
 "metadata": {
  "language_info": {
   "name": "python"
  }
 },
 "nbformat": 4,
 "nbformat_minor": 2
}
