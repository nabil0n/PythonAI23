{
 "cells": [
  {
   "cell_type": "markdown",
   "metadata": {},
   "source": [
    "# Object Oriented Programming (Basics)\n",
    "---\n",
    "- Class | En \"blue print\" för att skapa objekt.\n",
    "- Instance | Det faktiska objektet som innehåller data och methods.\n"
   ]
  },
  {
   "cell_type": "code",
   "execution_count": null,
   "metadata": {},
   "outputs": [],
   "source": [
    "# tidigare lösning:\n",
    "\n",
    "# lists\n",
    "student_a = [\"Isak\", \"Andersson\", 34, 3.4]\n",
    "student_b = [\"Pelle\", \"Svanslös\", 14, 2.4]\n",
    "\n",
    "students = [student_a, student_b]\n",
    "\n",
    "def set_grade(student, grade):\n",
    "    student[3] = grade\n",
    "    \n",
    "def get_name(student):\n",
    "    return(f\"{student['Firstname']} {student['Lastname']}\")\n",
    "\n",
    "# dicts\n",
    "student_a = {\"Firstname\": \"Isak\", \"Lastname\": \"Andersson\", \"Age\": 34, \"Grade\": 3.4}\n",
    "student_a = {\"Firstname\": \"Pelle\", \"Lastname\": \"Svanslös\", \"Age\": 24, \"Grade\": 2.4}\n",
    "\n",
    "students = [student_a, student_b]\n",
    "\n",
    "for student in students:\n",
    "    set_grade(student, 3.0)"
   ]
  },
  {
   "cell_type": "code",
   "execution_count": 11,
   "metadata": {},
   "outputs": [],
   "source": [
    "# OOP\n",
    "class Student:\n",
    "    def __init__(self):\n",
    "        self.grade = 0.0\n",
    "        \n",
    "    def set_grade(self, grade):\n",
    "        self.grade = grade"
   ]
  },
  {
   "cell_type": "code",
   "execution_count": 12,
   "metadata": {},
   "outputs": [
    {
     "name": "stdout",
     "output_type": "stream",
     "text": [
      "Isak\n",
      "{'grade': 0.0, 'name': 'Isak', 'age': 34}\n",
      "{'grade': 4.0, 'name': 'Isak', 'age': 34}\n"
     ]
    }
   ],
   "source": [
    "student_a = Student()\n",
    "student_b = Student()\n",
    "\n",
    "student_a.name = \"Isak\"\n",
    "student_a.age = 34\n",
    "student_b.name = \"Pelle\"\n",
    "student_b.age = 24\n",
    "\n",
    "print(student_a.name)\n",
    "print(student_a.__dict__)\n",
    "\n",
    "student_a.set_grade(4.0)\n",
    "\n",
    "print(student_a.__dict__)"
   ]
  },
  {
   "cell_type": "code",
   "execution_count": 2,
   "metadata": {},
   "outputs": [
    {
     "name": "stdout",
     "output_type": "stream",
     "text": [
      "Hello, I'm Misse and I'm 3 years old.\n",
      "Hello, I'm Kisse and I'm 2 years old.\n",
      "Hello Kisse, I'm Misse, and I'm 1 years older than you.\n",
      "Hello Mjau, I'm Misse, and I'm 2 years younger than you.\n",
      "Hello Hasse, I'm Misse, and we're the same age!\n",
      "My name is Misse, and Mjau is my best friend!\n",
      "My name is Kisse, and Hasse is my best friend!\n",
      "My name is Mjau, and Misse is my best friend!\n",
      "My name is Hasse, and Kisse is my best friend!\n"
     ]
    }
   ],
   "source": [
    "class Cat:\n",
    "    def __init__(self, name, age, best_friend=None):\n",
    "        self.name = name\n",
    "        self.age = age\n",
    "        \n",
    "    def greet(self, other_cat=None):\n",
    "        if not other_cat:\n",
    "            print(f\"Hello, I'm {self.name} and I'm {self.age} years old.\")\n",
    "        else:\n",
    "            if other_cat.age < self.age:\n",
    "                print(f\"Hello {other_cat.name}, I'm {self.name}, and I'm {(self.age-other_cat.age)} years older than you.\")\n",
    "            elif self.age < other_cat.age:\n",
    "                print(f\"Hello {other_cat.name}, I'm {self.name}, and I'm {(other_cat.age-self.age)} years younger than you.\")\n",
    "            else:\n",
    "                print(f\"Hello {other_cat.name}, I'm {self.name}, and we're the same age!\")\n",
    "\n",
    "    def print_best_friend(self):\n",
    "        if self.best_friend:\n",
    "            print(f\"My name is {self.name}, and {self.best_friend.name} is my best friend!\")\n",
    "        else:\n",
    "            print(f\"My name is {self.name}, and I dont have a best friend :( \")\n",
    "\n",
    "\n",
    "my_cat = Cat(\"Misse\", 3)\n",
    "my_other_cat = Cat(\"Kisse\", 2)\n",
    "my_third_cat = Cat(\"Mjau\", 5)\n",
    "my_neighbours_cat = Cat(\"Hasse\", 3)\n",
    "\n",
    "my_cat.best_friend = my_third_cat\n",
    "my_third_cat.best_friend = my_cat\n",
    "my_other_cat.best_friend = my_neighbours_cat\n",
    "my_neighbours_cat.best_friend = my_other_cat\n",
    "\n",
    "my_cat.greet()\n",
    "my_other_cat.greet()\n",
    "my_cat.greet(my_other_cat)\n",
    "my_cat.greet(my_third_cat)\n",
    "my_cat.greet(my_neighbours_cat)\n",
    "\n",
    "cats = [my_cat, my_other_cat, my_third_cat, my_neighbours_cat]\n",
    "\n",
    "for cat in cats:\n",
    "    cat.print_best_friend()"
   ]
  }
 ],
 "metadata": {
  "kernelspec": {
   "display_name": "python-programmering-Isak-Andersson-dnxZmePr",
   "language": "python",
   "name": "python3"
  },
  "language_info": {
   "codemirror_mode": {
    "name": "ipython",
    "version": 3
   },
   "file_extension": ".py",
   "mimetype": "text/x-python",
   "name": "python",
   "nbconvert_exporter": "python",
   "pygments_lexer": "ipython3",
   "version": "3.11.5"
  },
  "orig_nbformat": 4
 },
 "nbformat": 4,
 "nbformat_minor": 2
}
