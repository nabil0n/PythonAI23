{
 "cells": [
  {
   "attachments": {},
   "cell_type": "markdown",
   "metadata": {},
   "source": [
    "# Strings\n",
    "- lagrar text\n",
    "- kan använda både '' och \"\"\n",
    "- concatenate = använd + för att sätta ihop satrings. Inte lika snyggt som fString, men använbart ibland\n",
    "- Multiline = \"\"\" + \"\"\" funkar för flera linjer string utan EOL error. Detta tar även med intabbningar! Är det inte satt till något så blir det kommenterat.\n",
    "- Indexing och slicing = select stringinnehåll mm\n",
    "---\n",
    "- strings are imutable. De kan inte ändra värde."
   ]
  },
  {
   "cell_type": "code",
   "execution_count": 2,
   "metadata": {},
   "outputs": [
    {
     "name": "stdout",
     "output_type": "stream",
     "text": [
      "Detta är\n"
     ]
    }
   ],
   "source": [
    "text = \"Detta är en bit text!\"\n",
    "print(text[0:8])"
   ]
  },
  {
   "attachments": {},
   "cell_type": "markdown",
   "metadata": {},
   "source": [
    "- Loopa genom en string"
   ]
  },
  {
   "cell_type": "code",
   "execution_count": 4,
   "metadata": {},
   "outputs": [
    {
     "name": "stdout",
     "output_type": "stream",
     "text": [
      "Detta är en bit text!"
     ]
    }
   ],
   "source": [
    "for char in text:\n",
    "    print(char, end=\"\")"
   ]
  },
  {
   "attachments": {},
   "cell_type": "markdown",
   "metadata": {},
   "source": [
    "- membership operator = in, not in. Hitta något i något annat."
   ]
  },
  {
   "cell_type": "code",
   "execution_count": 5,
   "metadata": {},
   "outputs": [
    {
     "name": "stdout",
     "output_type": "stream",
     "text": [
      "There's an a!\n"
     ]
    }
   ],
   "source": [
    "if \"a\" in text:\n",
    "    print(\"There's an a!\")"
   ]
  },
  {
   "attachments": {},
   "cell_type": "markdown",
   "metadata": {},
   "source": [
    "- escape character\n",
    "- \\n \n",
    "- \\\"\n",
    "- \\'\n",
    "- \\\\\\\n",
    "- \\t - tab"
   ]
  },
  {
   "cell_type": "code",
   "execution_count": 8,
   "metadata": {},
   "outputs": [
    {
     "name": "stdout",
     "output_type": "stream",
     "text": [
      "ArithmeticError, \n",
      "please, try \\ again, \n",
      "and try again, \u0007nd try again\n"
     ]
    }
   ],
   "source": [
    "long_text = \"ArithmeticError, \\nplease, try \\\\ again, \\nand try again, \\and try again\"\n",
    "print(long_text)"
   ]
  },
  {
   "attachments": {},
   "cell_type": "markdown",
   "metadata": {},
   "source": [
    "# String methods\n",
    "## googla...\n",
    "- Få upp dem genom att skriva punkt.\n",
    "- variabeln som håller strängen förbilr oförändrad.\n",
    "---\n",
    "- några vanliga:"
   ]
  },
  {
   "cell_type": "code",
   "execution_count": 32,
   "metadata": {},
   "outputs": [
    {
     "name": "stdout",
     "output_type": "stream",
     "text": [
      "DETTA ÄR EN BIT TEXT!\n",
      "detta är en bit text!\n",
      "Detta Är En Bit Text!\n",
      "Detta är en bit text!\n",
      "True\n",
      "True\n",
      "Detta är en bit text\n",
      "etta är en bit text!\n",
      "Detta är en bit text\n",
      "1Detta är en bit text! Detta är en bit text!2Detta är en bit text! Detta är en bit text!3Detta är en bit text! \n",
      "['Detta', 'är', 'en', 'bit', 'text!']\n",
      "Detta är en annan bit text!\n",
      "12\n"
     ]
    }
   ],
   "source": [
    "print(text.upper())\n",
    "print(text.lower())\n",
    "print(text.title())\n",
    "print(text.capitalize())\n",
    "\n",
    "print(text.endswith(\"text!\"))\n",
    "print(text.startswith(\"Detta\"))\n",
    "\n",
    "print(text.strip(\"!\"))\n",
    "print(text.lstrip(\"D\")) # Bra tillsammans med input()\n",
    "print(text.rstrip(\"!\"))\n",
    "\n",
    "print(text.join(\"1 2 3 \"))\n",
    "print(text.split())\n",
    "\n",
    "print(text.replace(\"en\", \"en annan\"))\n",
    "\n",
    "print(text.find(\"bit\"))"
   ]
  }
 ],
 "metadata": {
  "kernelspec": {
   "display_name": "Python 3",
   "language": "python",
   "name": "python3"
  },
  "language_info": {
   "codemirror_mode": {
    "name": "ipython",
    "version": 3
   },
   "file_extension": ".py",
   "mimetype": "text/x-python",
   "name": "python",
   "nbconvert_exporter": "python",
   "pygments_lexer": "ipython3",
   "version": "3.11.5"
  },
  "orig_nbformat": 4
 },
 "nbformat": 4,
 "nbformat_minor": 2
}
