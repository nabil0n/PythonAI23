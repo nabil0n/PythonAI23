{
 "cells": [
  {
   "attachments": {},
   "cell_type": "markdown",
   "metadata": {},
   "source": [
    "# Algotritmer \n",
    "\n",
    "## Linear search\n",
    "- går steg för steg. snabbt om man ska hitta något tidigt men segt om man ska hitta något i slutet\n",
    "\n",
    "## Binary search\n",
    "- Börjar på mitten och eliminerar allt ovan eller under beroende på om det vi sökter äver över eller under. Oftast snabbare än linear.\n",
    "\n",
    "## Route-finding / Path-finding\n",
    "- hur är Elizabeth II släkt med William III?\n",
    "- 1. Börja på målet, hur långt från målet är målet? Vi börjar alltså med siffran 0.\n",
    "- 2. Markera alla steg som är 1 steg från målet.\n",
    "- 3. Markera alla steg som är 1 steg från de som är ett steg från målet.\n",
    "- osv\n",
    "\n",
    "Allt ovan i denna länk: https://www.khanacademy.org/computing/computer-science/algorithms\n",
    "___\n",
    "### Kolla gärna lite på sorteringsalgorithmer\n",
    "- Python har inbyggda funktioner för detta också, som är bra\n",
    "- I arbetslivet brukar också färdiga algorithmer användas, uppfinn inte hjulet på nytt.\n",
    "____\n",
    "### Övning\n",
    "- https://www.ithsdistans.se/pluginfile.php/84772/mod_resource/content/0/Hitta_tal.pdf\n",
    "- https://www.ithsdistans.se/pluginfile.php/84771/mod_resource/content/0/Probleml%C3%B6sning.pdf\n",
    "\n",
    "- Hitta alla strängar som börjar och slutar på samma siffra i 29535123p48723487597645723645\n",
    "\n",
    "- Egna tankar, ordning:\n",
    "1. gå steg för steg i indexen av strängen\n",
    "2. hitta nästa index av samma värde, återigen genom att gå steg för steg\n",
    "3. slicea ut den delen av strängen om det hittas\n",
    "4. printa INTE ut iterationen om slicen innehåller en bokstav\n",
    "5. printa något för varje godkänd iteration som ser ut typ BÖRJAN:HITTAD_STRÄNG_I_FÄRG:SLUTET\n"
   ]
  },
  {
   "cell_type": "code",
   "execution_count": 8,
   "metadata": {},
   "outputs": [
    {
     "name": "stdout",
     "output_type": "stream",
     "text": [
      "\u001b[0m445\u001b[31m6789876\u001b[0m6j87345sd45678900978654889dfhj345678989\n",
      "\u001b[0m4456\u001b[31m78987\u001b[0m66j87345sd45678900978654889dfhj345678989\n",
      "\u001b[0m44567\u001b[31m898\u001b[0m766j87345sd45678900978654889dfhj345678989\n",
      "\u001b[0m44567898766j87345s\u001b[31md45678900978654889d\u001b[0mfhj345678989\n",
      "\u001b[0m44567898766j87345sd\u001b[31m45678900978654\u001b[0m889dfhj345678989\n",
      "\u001b[0m44567898766j87345sd4\u001b[31m567890097865\u001b[0m4889dfhj345678989\n",
      "\u001b[0m44567898766j87345sd45\u001b[31m6789009786\u001b[0m54889dfhj345678989\n",
      "\u001b[0m44567898766j87345sd456\u001b[31m7890097\u001b[0m8654889dfhj345678989\n",
      "\u001b[0m44567898766j87345sd4567\u001b[31m8900978\u001b[0m654889dfhj345678989\n",
      "\u001b[0m44567898766j87345sd45678\u001b[31m9009\u001b[0m78654889dfhj345678989\n",
      "\u001b[0m44567898766j87345sd45678900\u001b[31m978654889\u001b[0mdfhj345678989\n",
      "\u001b[0m44567898766j87345sd4567890097\u001b[31m86548\u001b[0m89dfhj345678989\n",
      "\u001b[0m44567898766j87345sd45678900978654889dfhj34567\u001b[31m898\u001b[0m9\n",
      "\u001b[0m44567898766j87345sd45678900978654889dfhj345678\u001b[31m989\u001b[0m\n"
     ]
    }
   ],
   "source": [
    "# 29535123p48723487597645723645\n",
    "\n",
    "from colorama import Fore, Back, Style\n",
    "\n",
    "def string_searcher(str):\n",
    "    \n",
    "    for start_index in range(len(str)):\n",
    "        left_string = \"\"\n",
    "        new_string = \"\"\n",
    "        right_string = \"\"\n",
    "        start_value = str[start_index]\n",
    "        \n",
    "        for search_index in range(start_index, len(str)):\n",
    "            search_value = str[search_index]\n",
    "            \n",
    "            if search_value == start_value and str[start_index+1:search_index].isdigit() and new_string == \"\":\n",
    "                new_string += str[start_index:search_index+1]\n",
    "                left_string += str[0:start_index]\n",
    "                right_string += str[search_index+1:len(str)]\n",
    "                print(f\"{Style.RESET_ALL + left_string}{Fore.RED + new_string}{Style.RESET_ALL + right_string}\")\n",
    "\n",
    "string_searcher(\"44567898766j87345sd45678900978654889dfhj345678989\")\n"
   ]
  }
 ],
 "metadata": {
  "kernelspec": {
   "display_name": "Python 3",
   "language": "python",
   "name": "python3"
  },
  "language_info": {
   "codemirror_mode": {
    "name": "ipython",
    "version": 3
   },
   "file_extension": ".py",
   "mimetype": "text/x-python",
   "name": "python",
   "nbconvert_exporter": "python",
   "pygments_lexer": "ipython3",
   "version": "3.11.5"
  },
  "orig_nbformat": 4
 },
 "nbformat": 4,
 "nbformat_minor": 2
}
