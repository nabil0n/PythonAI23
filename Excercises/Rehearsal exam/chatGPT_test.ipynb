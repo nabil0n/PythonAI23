{
 "cells": [
  {
   "cell_type": "markdown",
   "metadata": {},
   "source": [
    "Uppgift 1 (3p)\n",
    "\n",
    "Beskriv vad koden gör och vad som skrivs ut:\n",
    "\n",
    "maträtter = [\"lasagne\", \"sushi\", \"hamburgare\"]\n",
    "favoritmat = maträtter[0]\n",
    "print(favoritmat[3])\n",
    "\n",
    "Skriv en kort kommentar för varje rad."
   ]
  },
  {
   "cell_type": "code",
   "execution_count": null,
   "metadata": {},
   "outputs": [],
   "source": []
  },
  {
   "cell_type": "markdown",
   "metadata": {},
   "source": [
    "Uppgift 2 (3p)\n",
    "\n",
    "Skriv en funktion som tar in en bas och en höjd som inparametrar och som returnerar ytan av en\n",
    "triangel.\n",
    "Formeln för en triangels yta är:\n",
    "A = 1/2 × bas × höjd\n",
    "Låt användaren mata in en bas och en höjd och kör funktionen. Tänk på att ta med lämplig\n",
    "felhantering"
   ]
  },
  {
   "cell_type": "code",
   "execution_count": 4,
   "metadata": {},
   "outputs": [
    {
     "name": "stdout",
     "output_type": "stream",
     "text": [
      "Arean för din införda data är 0.5.\n"
     ]
    }
   ],
   "source": [
    "def triangle_area(bas, höjd):\n",
    "    return 0.5 * bas * höjd\n",
    "\n",
    "while True:\n",
    "    try:\n",
    "        bas = int(input(\"Skriv in önskad bas: \")) >= 0\n",
    "        höjd = int(input(\"Skriv in önskad höjd: \")) >= 0\n",
    "        print(f\"Arean för din införda data är {triangle_area(bas, höjd)}.\")\n",
    "        break\n",
    "    \n",
    "    except ValueError:\n",
    "        print(\"ValueError: Var god för in endast positiva tal.\")"
   ]
  },
  {
   "cell_type": "markdown",
   "metadata": {},
   "source": [
    "Uppgift 3 (3p)\n",
    "\n",
    "Simulera väderförhållandena för varje dag i ett år (365 dagar). Vädertyperna är \"soligt\",\n",
    "\"molnigt\", \"regnigt\", \"snöigt\", och \"stormigt\".\n",
    "Spara resultaten i en lämplig datastruktur och beräkna sedan antalet dagar för varje vädertyp"
   ]
  },
  {
   "cell_type": "code",
   "execution_count": 10,
   "metadata": {},
   "outputs": [
    {
     "name": "stdout",
     "output_type": "stream",
     "text": [
      "{'soligt': 71, 'molnigt': 88, 'regnigt': 73, 'snöigt': 71, 'stormigt': 62}\n"
     ]
    }
   ],
   "source": [
    "import random\n",
    "\n",
    "weathers = {\"soligt\": 0, \"molnigt\": 0, \"regnigt\": 0, \"snöigt\": 0, \"stormigt\": 0}\n",
    "\n",
    "for i in range(365):\n",
    "    weathers[random.choice(list(weathers.keys()))] += 1\n",
    "\n",
    "print(weathers)"
   ]
  },
  {
   "cell_type": "markdown",
   "metadata": {},
   "source": [
    "Uppgift 4 (3p)\n",
    "\n",
    "Skapa en funktion som tar in ett heltal n som parameter och skriver ut följande mönster, där 'x'\n",
    "representerar en cell i den diagonala linjen och 'o' representerar en tom cell.\n",
    "\n",
    "Exempel när n = 5:\n",
    "x o o o o\n",
    "o x o o o\n",
    "o o x o o\n",
    "o o o x o\n",
    "o o o o x"
   ]
  },
  {
   "cell_type": "code",
   "execution_count": 13,
   "metadata": {},
   "outputs": [
    {
     "name": "stdout",
     "output_type": "stream",
     "text": [
      "x o o o o \n",
      "o x o o o \n",
      "o o x o o \n",
      "o o o x o \n",
      "o o o o x \n"
     ]
    }
   ],
   "source": [
    "def xo(n):\n",
    "\n",
    "    count = 0\n",
    "\n",
    "    for y in range(n):\n",
    "        for x in range(n):\n",
    "            print(\"x \", end=\"\") if x == count else print(\"o \", end=\"\")\n",
    "        \n",
    "        count += 1\n",
    "\n",
    "        print()\n",
    "\n",
    "xo(5)"
   ]
  },
  {
   "cell_type": "code",
   "execution_count": 14,
   "metadata": {},
   "outputs": [
    {
     "name": "stdout",
     "output_type": "stream",
     "text": [
      "orit\n"
     ]
    }
   ],
   "source": [
    "ordlista = [\"algoritm\", \"kompilera\", \"variabel\"]\n",
    "valt_ord = ordlista[ordlista.index(\"kompilera\") - 1]\n",
    "print(valt_ord[3:7])"
   ]
  }
 ],
 "metadata": {
  "kernelspec": {
   "display_name": "python-programmering-Isak-Andersson-XSmhp6s-",
   "language": "python",
   "name": "python3"
  },
  "language_info": {
   "codemirror_mode": {
    "name": "ipython",
    "version": 3
   },
   "file_extension": ".py",
   "mimetype": "text/x-python",
   "name": "python",
   "nbconvert_exporter": "python",
   "pygments_lexer": "ipython3",
   "version": "3.11.5"
  }
 },
 "nbformat": 4,
 "nbformat_minor": 2
}
