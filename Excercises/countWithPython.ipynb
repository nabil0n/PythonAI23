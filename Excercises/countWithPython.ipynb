{
 "cells": [
  {
   "cell_type": "markdown",
   "metadata": {},
   "source": [
    "# Count With Python\n",
    "## Isak Andersson AI23\n",
    "\n",
    "### 1. Pythagoran Theorem"
   ]
  },
  {
   "cell_type": "code",
   "execution_count": 10,
   "metadata": {},
   "outputs": [
    {
     "name": "stdout",
     "output_type": "stream",
     "text": [
      "The hypothenuse is 5.0.\n"
     ]
    }
   ],
   "source": [
    "a = 3\n",
    "b = 4\n",
    "\n",
    "csqrd = (a**2) + (b**2)\n",
    "hypothenuse = csqrd**0.5\n",
    "print(f\"The hypothenuse is {hypothenuse}.\")"
   ]
  },
  {
   "cell_type": "markdown",
   "metadata": {},
   "source": [
    "### 2. Classification Accuracy"
   ]
  },
  {
   "cell_type": "code",
   "execution_count": 14,
   "metadata": {},
   "outputs": [
    {
     "name": "stdout",
     "output_type": "stream",
     "text": [
      "The accuracy for this model is 0.822.\n"
     ]
    }
   ],
   "source": [
    "accuracy = 300/365\n",
    "print(f\"The accuracy for this model is {round(accuracy, 3)}.\")"
   ]
  },
  {
   "cell_type": "markdown",
   "metadata": {},
   "source": [
    "### 3. Classification Accuracy"
   ]
  },
  {
   "cell_type": "code",
   "execution_count": 12,
   "metadata": {},
   "outputs": [
    {
     "name": "stdout",
     "output_type": "stream",
     "text": [
      "The accuracy of the model is 0.987.\n"
     ]
    }
   ],
   "source": [
    "accuracy2 = (2 + 985)/(2 + 985 + 2 + 11)\n",
    "print(f\"The accuracy of the model is {accuracy2}.\")"
   ]
  },
  {
   "cell_type": "markdown",
   "metadata": {},
   "source": [
    "### 4. Line"
   ]
  },
  {
   "cell_type": "code",
   "execution_count": 18,
   "metadata": {},
   "outputs": [
    {
     "name": "stdout",
     "output_type": "stream",
     "text": [
      "Since 'B' is (0,1) 'm' has to be 1 and the 'k' value is 0.75. So the function could be written as y = 0.75x + 1.\n"
     ]
    }
   ],
   "source": [
    "k = (1-4)/(-4)\n",
    "m = 1\n",
    "print(f\"Since 'B' is (0,1) 'm' has to be {m} and the 'k' value is {k}. So the function could be written as y = {k}x + {m}.\")"
   ]
  },
  {
   "cell_type": "markdown",
   "metadata": {},
   "source": [
    "### 5. Euclidean distance"
   ]
  },
  {
   "cell_type": "code",
   "execution_count": 20,
   "metadata": {},
   "outputs": [
    {
     "name": "stdout",
     "output_type": "stream",
     "text": [
      "The distance between P1 and P2 is 5.1.\n"
     ]
    }
   ],
   "source": [
    "import math\n",
    "distance1 = math.sqrt(((-2-3)**2)+((4-5)**2))\n",
    "print(f\"The distance between P1 and P2 is {round(distance1, 1)}.\")"
   ]
  },
  {
   "cell_type": "markdown",
   "metadata": {},
   "source": [
    "### 6. Euclidean distance 3D"
   ]
  },
  {
   "cell_type": "code",
   "execution_count": 22,
   "metadata": {},
   "outputs": [
    {
     "name": "stdout",
     "output_type": "stream",
     "text": [
      "The distance between P1 and P2 is 4.12.\n"
     ]
    }
   ],
   "source": [
    "distance2 = math.sqrt(((2-3)**2)+(1-1)**2+(4-0)**2)\n",
    "print(f\"The distance between P1 and P2 is {round(distance2, 2)}.\")"
   ]
  }
 ],
 "metadata": {
  "kernelspec": {
   "display_name": "PythonAI23-Isak-Andersson-IBaVIK9C",
   "language": "python",
   "name": "python3"
  },
  "language_info": {
   "codemirror_mode": {
    "name": "ipython",
    "version": 3
   },
   "file_extension": ".py",
   "mimetype": "text/x-python",
   "name": "python",
   "nbconvert_exporter": "python",
   "pygments_lexer": "ipython3",
   "version": "3.11.4"
  },
  "orig_nbformat": 4
 },
 "nbformat": 4,
 "nbformat_minor": 2
}
