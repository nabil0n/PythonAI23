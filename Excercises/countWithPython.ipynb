{
 "cells": [
  {
   "cell_type": "markdown",
   "metadata": {},
   "source": [
    "# Count With Python\n",
    "## Isak Andersson AI23\n",
    "\n",
    "### 1. Pythagoran Theorem"
   ]
  },
  {
   "cell_type": "code",
   "execution_count": 7,
   "metadata": {},
   "outputs": [
    {
     "name": "stdout",
     "output_type": "stream",
     "text": [
      "The hypothenuse is 5.0.\n",
      "Cathetus B is 4.9.\n"
     ]
    }
   ],
   "source": [
    "import math\n",
    "\n",
    "# a)\n",
    "\n",
    "a = 3\n",
    "b = 4\n",
    "c = (a**2) + (b**2)\n",
    "hypothenuse = math.sqrt(c)\n",
    "print(f\"The hypothenuse is {hypothenuse}.\")\n",
    "\n",
    "# b) (missade denna uppgift, så gjorde den vid genomgångstillfället)\n",
    "\n",
    "c2 = 7\n",
    "a2 = 5\n",
    "b2 = (c2**2 - a2**2)**0.5\n",
    "print(f\"Cathetus B is {round(b2, 1)}.\")"
   ]
  },
  {
   "cell_type": "markdown",
   "metadata": {},
   "source": [
    "### 2. Classification Accuracy"
   ]
  },
  {
   "cell_type": "code",
   "execution_count": 43,
   "metadata": {},
   "outputs": [
    {
     "name": "stdout",
     "output_type": "stream",
     "text": [
      "The accuracy for this model is 0.822.\n"
     ]
    }
   ],
   "source": [
    "predictions = 365\n",
    "accurate_pred = 300\n",
    "accuracy = accurate_pred/predictions\n",
    "print(f\"The accuracy for this model is {round(accuracy, 3)}.\")"
   ]
  },
  {
   "cell_type": "markdown",
   "metadata": {},
   "source": [
    "### 3. Classification Accuracy"
   ]
  },
  {
   "cell_type": "code",
   "execution_count": 44,
   "metadata": {},
   "outputs": [
    {
     "name": "stdout",
     "output_type": "stream",
     "text": [
      "The accuracy of the model is 0.987.\n"
     ]
    }
   ],
   "source": [
    "TP = 2\n",
    "FP = 2\n",
    "FN = 11\n",
    "TN = 985\n",
    "accuracy2 = (TP + TN)/(TP + TN + FP + FN)\n",
    "print(f\"The accuracy of the model is {accuracy2}.\")"
   ]
  },
  {
   "cell_type": "markdown",
   "metadata": {},
   "source": [
    "### 4. Line"
   ]
  },
  {
   "cell_type": "code",
   "execution_count": 45,
   "metadata": {},
   "outputs": [
    {
     "name": "stdout",
     "output_type": "stream",
     "text": [
      "Since 'B' is (0,1) 'm' has to be 1 and the 'k' value is 0.75. So the function could be written as y = 0.75x + 1.\n"
     ]
    }
   ],
   "source": [
    "ax = 4\n",
    "ay = 4\n",
    "bx = 0\n",
    "by = 1\n",
    "\n",
    "k = (by-ay)/(bx-ax)\n",
    "m = 1\n",
    "print(f\"Since 'B' is ({bx},{by}) 'm' has to be {m} and the 'k' value is {k}. So the function could be written as y = {k}x + {m}.\")"
   ]
  },
  {
   "cell_type": "markdown",
   "metadata": {},
   "source": [
    "### 5. Euclidean distance"
   ]
  },
  {
   "cell_type": "code",
   "execution_count": 46,
   "metadata": {},
   "outputs": [
    {
     "name": "stdout",
     "output_type": "stream",
     "text": [
      "The distance between P1 and P2 is 5.1.\n"
     ]
    }
   ],
   "source": [
    "p1x = 3\n",
    "p1y = 5\n",
    "p2x = -2\n",
    "p2y = 4\n",
    "distance1 = math.sqrt(((p2x-p1x)**2)+((p2y-p1y)**2))\n",
    "print(f\"The distance between P1 and P2 is {round(distance1, 1)}.\")"
   ]
  },
  {
   "cell_type": "markdown",
   "metadata": {},
   "source": [
    "### 6. Euclidean distance 3D"
   ]
  },
  {
   "cell_type": "code",
   "execution_count": 47,
   "metadata": {},
   "outputs": [
    {
     "name": "stdout",
     "output_type": "stream",
     "text": [
      "The distance between P1 and P2 is 4.12.\n"
     ]
    }
   ],
   "source": [
    "px = 2\n",
    "py = 1\n",
    "pz = 4\n",
    "qx = 3\n",
    "qy = 1\n",
    "qz = 0\n",
    "distance2 = math.sqrt(((px-qx)**2)+(py-qy)**2+(pz-qz)**2)\n",
    "print(f\"The distance between P1 and P2 is {round(distance2, 2)}.\")"
   ]
  }
 ],
 "metadata": {
  "kernelspec": {
   "display_name": "PythonAI23-Isak-Andersson-IBaVIK9C",
   "language": "python",
   "name": "python3"
  },
  "language_info": {
   "codemirror_mode": {
    "name": "ipython",
    "version": 3
   },
   "file_extension": ".py",
   "mimetype": "text/x-python",
   "name": "python",
   "nbconvert_exporter": "python",
   "pygments_lexer": "ipython3",
   "version": "3.11.4"
  },
  "orig_nbformat": 4
 },
 "nbformat": 4,
 "nbformat_minor": 2
}
