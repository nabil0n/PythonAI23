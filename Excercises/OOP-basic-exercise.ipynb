{
 "cells": [
  {
   "cell_type": "markdown",
   "metadata": {},
   "source": [
    "\n",
    "<a href=\"https://colab.research.google.com/github/kokchun/Python-course-AI22/blob/main/Exercises/E11-OOP-basic-exercise.ipynb\" target=\"_parent\"><img align=\"left\" src=\"https://colab.research.google.com/assets/colab-badge.svg\" alt=\"Open In Colab\"/></a> &nbsp; to see hints and answers."
   ]
  },
  {
   "cell_type": "markdown",
   "metadata": {},
   "source": [
    "# OOP introductory exercises\n",
    "\n",
    "---\n",
    "These are introductory exercises in Python with focus in **Object oriented programming**.\n",
    "\n",
    "<p class = \"alert alert-info\" role=\"alert\"><b>Remember</b> to use <b>descriptive variable, function and class names</b> in order to get readable code </p>\n",
    "\n",
    "<p class = \"alert alert-info\" role=\"alert\"><b>Remember</b> to format your answers in a neat way using <b>f-strings</b></p>\n",
    "\n",
    "The number of stars (\\*), (\\*\\*), (\\*\\*\\*) denotes the difficulty level of the task\n",
    "\n",
    "---"
   ]
  },
  {
   "cell_type": "markdown",
   "metadata": {},
   "source": [
    "## 1. Step tracker\n",
    "\n",
    "Create a class that can be used as a step tracker. It should have a property \"steps\" that is read only; a method step() that increases \"steps\" by 1 each time it is called; and a method reset() that resets the counter.\n",
    "\n",
    "Instantiate the class, and write a loop that simulates walking 1000 steps. Then print the value of \"steps\"."
   ]
  },
  {
   "cell_type": "code",
   "execution_count": 1,
   "metadata": {},
   "outputs": [
    {
     "name": "stdout",
     "output_type": "stream",
     "text": [
      "1000\n"
     ]
    }
   ],
   "source": [
    "class Step_count():\n",
    "    \n",
    "    def __init__(self, steps=0):\n",
    "        self.steps = steps\n",
    "    \n",
    "    def step(self):\n",
    "        self.steps += 1\n",
    "    \n",
    "    def reset(self):\n",
    "        self.steps = 0\n",
    "\n",
    "walker = Step_count()\n",
    "\n",
    "for step in range(1000):\n",
    "    walker.step()\n",
    "\n",
    "print(walker.steps)"
   ]
  },
  {
   "cell_type": "markdown",
   "metadata": {},
   "source": [
    "---\n",
    "## 2. Empty/full glass simulator (*)\n",
    "\n",
    "Create a class that represents a glass of water. It should have a method for filling the glass, and another method for emptying the glass. Also, there needs to be an internal/private attribute that keeps track of if the glass is empty or full. Depending on the current state (empty/full), the method that fills the glass should print either \"Filling the glass with water\" or \"The glass is already full\". The other method should print either \"Emptying the glass\" or \"The glass is already empty\".\n",
    "\n",
    "**Additional exercise:** Add another method to break the glass. Every glass (instance) keeps track of it's internal state, and prints what happens when the different methods are executed. Eg. \"The glass breaks. Now there is water all over the floor\", or \"The glass can not be filled, since it's broken\", etc."
   ]
  },
  {
   "cell_type": "code",
   "execution_count": 2,
   "metadata": {},
   "outputs": [
    {
     "name": "stdout",
     "output_type": "stream",
     "text": [
      "Filling the glass.\n",
      "Glass already full.\n",
      "Emptying the glass.\n",
      "Glass already empty.\n",
      "Filling the glass.\n",
      "You shattered the glass.\n",
      "There's glass all over the floor, and your feet are wet.\n",
      "Can't fill. Your glass is broken.\n",
      "\n",
      "Glass already empty.\n",
      "Filling the glass.\n",
      "Emptying the glass.\n",
      "You shattered the glass.\n",
      "There's glass all over the floor!\n",
      "Can't empty. Your glass is broken.\n"
     ]
    }
   ],
   "source": [
    "class Glass():\n",
    "    \n",
    "    def __init__(self, status=\"empty\"):\n",
    "        self.status = status\n",
    "    \n",
    "    def fill(self):\n",
    "        if self.status == \"empty\":\n",
    "            print(\"Filling the glass.\")\n",
    "            self.status = \"full\"\n",
    "        elif self.status == \"full\":\n",
    "            print(\"Glass already full.\")\n",
    "        else:\n",
    "            print(\"Can't fill. Your glass is broken.\")\n",
    "    \n",
    "    def empty(self):\n",
    "        if self.status == \"full\":\n",
    "            print(\"Emptying the glass.\")\n",
    "            self.status = \"empty\"\n",
    "        elif self.status == \"empty\":\n",
    "            print(\"Glass already empty.\")\n",
    "        else:\n",
    "            print(\"Can't empty. Your glass is broken.\")\n",
    "    \n",
    "    def crush(self):\n",
    "        print(\"You shattered the glass.\")\n",
    "        if self.status == \"empty\":\n",
    "            print(\"There's glass all over the floor!\")\n",
    "        elif self.status == \"full\":\n",
    "            print(\"There's glass all over the floor, and your feet are wet.\")\n",
    "        else:\n",
    "            print(\"Can't break. Your glass is broken.\")\n",
    "        self.status = \"broken\"\n",
    "\n",
    "new = Glass()\n",
    "newer = Glass()\n",
    "\n",
    "new.fill()\n",
    "new.fill()\n",
    "new.empty()\n",
    "new.empty()\n",
    "new.fill()\n",
    "new.crush()\n",
    "new.fill()\n",
    "\n",
    "print()\n",
    "\n",
    "newer.empty()\n",
    "newer.fill()\n",
    "newer.empty()\n",
    "newer.crush()\n",
    "newer.empty()"
   ]
  },
  {
   "cell_type": "markdown",
   "metadata": {},
   "source": [
    "---\n",
    "## 3. Red and blue (*)\n",
    "\n",
    "Create a class that has a property \"red\", and a property \"blue\". Both should be floats, and be able to take any value between 0.0 and 100.0. However, they should be \"linked\" in such a way that the sum of \"red\" and \"blue\" always is 100.0. i.e. if we set the value of \"blue\" to 8.5, and then read the value of \"red\", it should return 91.5"
   ]
  },
  {
   "cell_type": "code",
   "execution_count": 1,
   "metadata": {},
   "outputs": [],
   "source": [
    "# Avvaktar med denna då den har krashat min Kernel flera gånger.\n",
    "\n",
    "# class Balance:\n",
    "    \n",
    "#     def __init__(self, red=50.0, blue=50.0):\n",
    "#         if red != float or blue != float:\n",
    "#             print(\"Please enter a number (float).\")\n",
    "#         else:\n",
    "#             self._red = red\n",
    "#             self._blue = blue\n",
    "    \n",
    "#     @property\n",
    "#     def red(self):\n",
    "#         return self.red\n",
    "    \n",
    "#     @red.setter\n",
    "#     def red(self, value):\n",
    "#         if 0 > value > 100:\n",
    "#             print(\"Please enter a number between 0 and 100.\")\n",
    "#         else:\n",
    "#             if value > self.blue:\n",
    "#                 return self.blue - value\n",
    "#             else:\n",
    "#                 return value - self.blue\n",
    "    \n",
    "#     @property\n",
    "#     def blue(self):\n",
    "#         return self.blue\n",
    "    \n",
    "#     @blue.setter\n",
    "#     def blue(self, value):\n",
    "#         if 0 > value > 100:\n",
    "#             print(\"Please enter a number between 0 and 100.\")\n",
    "#         else:\n",
    "#             if value > self.red:\n",
    "#                 return value - self.red\n",
    "#             else:\n",
    "#                 return self.red - value\n",
    "    \n",
    "# test = Balance()\n",
    "\n",
    "# test.red = 14.4"
   ]
  },
  {
   "cell_type": "markdown",
   "metadata": {},
   "source": [
    "---\n",
    "## 4. One thousand cars (*)\n",
    "\n",
    "Create a class that represents a car. Every car can have a color and a length. When a new car is instantiated it gets a random color, and a random length (between 3 and 5 meters). Instatiate 1000 cars a save them in a list. Then print the sum of the length of all green cars in the list."
   ]
  },
  {
   "cell_type": "code",
   "execution_count": 42,
   "metadata": {},
   "outputs": [
    {
     "name": "stdout",
     "output_type": "stream",
     "text": [
      "539.69\n"
     ]
    }
   ],
   "source": [
    "import random\n",
    "\n",
    "COLORS = [\"red\", \"blue\", \"green\", \"yellow\", \"purple\", \"orange\", \"white\", \"black\"]\n",
    "\n",
    "class Car:\n",
    "    def __init__(self):\n",
    "        self.color = random.choice(COLORS)\n",
    "        self.length = round(random.uniform(3.0, 5.0), 2)\n",
    "        \n",
    "cars = [Car() for car in range(1000)]\n",
    "#print(cars[0].length)\n",
    "\n",
    "green_length = sum([car.length for car in cars if car.color == \"green\"])\n",
    "\n",
    "print(round(green_length, 2))"
   ]
  },
  {
   "cell_type": "markdown",
   "metadata": {},
   "source": [
    "---\n",
    "## 5. Email (**)\n",
    "\n",
    "Create an email class with a property \"address\". When we set this property it should validate that we gave it a proper email address by checking that it contains one or more letter, followed by an at-sign (@), followed by one or more letter, then a dot (.), then at least to letters.\n",
    "\n",
    "We should also be able to provide the address directly, when creating an new instance of the class (it must still be validated).\n",
    "\n",
    "The class should also have the following properties: \"username\", \"domainname\", and \"topdomain\" implemented in such a way that, if we set the address to \"fredrik@everyloop.com\", the username should read \"fredrik\", the domainname should read \"everyloop.com\", and the topdomain should read \"com\".\n",
    "\n",
    "When changing any of the four properties, all the others must be updated accordingly; and the address must always remain valid."
   ]
  },
  {
   "cell_type": "code",
   "execution_count": 82,
   "metadata": {},
   "outputs": [
    {
     "name": "stdout",
     "output_type": "stream",
     "text": [
      "Accepted adress: hej@klop.krix\n",
      "New adress: kalle@klop.krix\n",
      "New adress: kalle@gmail.com\n",
      "New adress: kalle@gmail.se\n",
      "se\n"
     ]
    }
   ],
   "source": [
    "import re\n",
    "\n",
    "# RegularExpression kod från https://uibakery.io/regex-library/email-regex-python (The more complex email regex)\n",
    "EMAIL_PATTERN = r\"^[a-z0-9!#$%&'*+/=?^_`{|}~-]+(?:\\.[a-z0-9!#$%&'*+/=?^_`{|}~-]+)*@(?:[a-z0-9](?:[a-z0-9-]*[a-z0-9])?\\.)+[a-z0-9](?:[a-z0-9-]*[a-z0-9])?$\"\n",
    "\n",
    "class Email:\n",
    "    \n",
    "    def __init__(self, adress):\n",
    "        if re.match(EMAIL_PATTERN, adress):\n",
    "            self.adress = adress\n",
    "            print(f\"Accepted adress: {self.adress}\")\n",
    "        else:\n",
    "            print(\"Invalid email adress.\")\n",
    "    \n",
    "    @property\n",
    "    def username(self):\n",
    "        return self.adress.split(\"@\")[0]\n",
    "    \n",
    "    @username.setter\n",
    "    def username(self, new_username):\n",
    "        if re.match(EMAIL_PATTERN, new_username + \"@\" + self.adress.split(\"@\")[1]):\n",
    "            self.adress = new_username + \"@\" + self.adress.split(\"@\")[1]\n",
    "            print(f\"New adress: {self.adress}\")\n",
    "        else:\n",
    "            print(\"Invalid email adress.\")\n",
    "    \n",
    "    @property\n",
    "    def domain_name(self):\n",
    "        return self.adress.split(\"@\")[1]\n",
    "    \n",
    "    @domain_name.setter\n",
    "    def domain_name(self, new_domain):\n",
    "        if re.match(EMAIL_PATTERN, (self.adress.split(\"@\")[0] + \"@\" + new_domain)):\n",
    "            self.adress = self.adress.split(\"@\")[0] + \"@\" + new_domain\n",
    "            print(f\"New adress: {self.adress}\")\n",
    "        else:\n",
    "            print(\"Invalid email adress.\")\n",
    "    \n",
    "    @property\n",
    "    def top_domain(self):\n",
    "        return self.adress.split(\".\")[-1]\n",
    "    \n",
    "    @top_domain.setter\n",
    "    def top_domain(self, new_top):\n",
    "        if re.match(EMAIL_PATTERN, (self.adress.split(\".\")[-1].join(self.adress.split(\".\")[:-1]) + \".\" + new_top)):\n",
    "            self.adress = self.adress.split(\".\")[-1].join(self.adress.split(\".\")[:-1]) + \".\" + new_top\n",
    "            print(f\"New adress: {self.adress}\")\n",
    "        else:\n",
    "            print(\"Invalid email adress.\")\n",
    "\n",
    "new = Email(\"hej@klop.krix\")\n",
    "new.username = \"kalle\"\n",
    "new.domain_name = \"gmail.com\"\n",
    "new.top_domain = \"se\""
   ]
  },
  {
   "cell_type": "markdown",
   "metadata": {},
   "source": [
    "---\n",
    "\n",
    "Fredrik Johansson\n",
    "\n",
    "[everyloop.com](https://www.everyloop.com)\n",
    "\n",
    "---"
   ]
  }
 ],
 "metadata": {
  "kernelspec": {
   "display_name": "Python 3.9.6 64-bit",
   "language": "python",
   "name": "python3"
  },
  "language_info": {
   "codemirror_mode": {
    "name": "ipython",
    "version": 3
   },
   "file_extension": ".py",
   "mimetype": "text/x-python",
   "name": "python",
   "nbconvert_exporter": "python",
   "pygments_lexer": "ipython3",
   "version": "3.11.5"
  },
  "orig_nbformat": 4,
  "vscode": {
   "interpreter": {
    "hash": "0da836a34428266995a795f1e1e27b816fa1c02f148d9728b3fbbbc5459afca6"
   }
  }
 },
 "nbformat": 4,
 "nbformat_minor": 2
}
