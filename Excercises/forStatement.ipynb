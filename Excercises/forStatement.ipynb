{
 "cells": [
  {
   "attachments": {},
   "cell_type": "markdown",
   "metadata": {},
   "source": [
    "# for-statements\n",
    "## 1. Count numbers"
   ]
  },
  {
   "cell_type": "code",
   "execution_count": 16,
   "metadata": {},
   "outputs": [
    {
     "name": "stdout",
     "output_type": "stream",
     "text": [
      "-10 -9 -8 -7 -6 -5 -4 -3 -2 -1 0 1 2 3 4 5 6 7 8 9 10 \n",
      "\n",
      "-10 -8 -6 -4 -2 0 2 4 6 8 10 "
     ]
    }
   ],
   "source": [
    "# a)\n",
    "for i in range(-10, 11):\n",
    "    print(i, end=\" \")\n",
    "\n",
    "print(\"\\n\")\n",
    "# b)\n",
    "for i in range(-10, 11, 2):\n",
    "    print(i, end=\" \")"
   ]
  },
  {
   "attachments": {},
   "cell_type": "markdown",
   "metadata": {},
   "source": [
    "## 2. Arithmetic sum"
   ]
  },
  {
   "cell_type": "code",
   "execution_count": 21,
   "metadata": {},
   "outputs": [
    {
     "name": "stdout",
     "output_type": "stream",
     "text": [
      "5050\n",
      "2500\n"
     ]
    }
   ],
   "source": [
    "# a)\n",
    "sumA = 0\n",
    "for i in range(0, 101):\n",
    "    sumA += i\n",
    "print(sumA)\n",
    "\n",
    "# b)\n",
    "sumB = 0\n",
    "for i in range(1, 100, 2):\n",
    "    sumB += i\n",
    "print(sumB)"
   ]
  },
  {
   "attachments": {},
   "cell_type": "markdown",
   "metadata": {},
   "source": [
    "## 3. Multiplication table"
   ]
  },
  {
   "cell_type": "code",
   "execution_count": 25,
   "metadata": {},
   "outputs": [
    {
     "name": "stdout",
     "output_type": "stream",
     "text": [
      "0 times 0 is 0.\n",
      "0 times 1 is 0.\n",
      "0 times 2 is 0.\n",
      "0 times 3 is 0.\n",
      "0 times 4 is 0.\n",
      "0 times 5 is 0.\n",
      "0 times 6 is 0.\n",
      "0 times 7 is 0.\n",
      "0 times 8 is 0.\n",
      "0 times 9 is 0.\n",
      "0 times 10 is 0.\n",
      "1 times 0 is 0.\n",
      "1 times 1 is 1.\n",
      "1 times 2 is 2.\n",
      "1 times 3 is 3.\n",
      "1 times 4 is 4.\n",
      "1 times 5 is 5.\n",
      "1 times 6 is 6.\n",
      "1 times 7 is 7.\n",
      "1 times 8 is 8.\n",
      "1 times 9 is 9.\n",
      "1 times 10 is 10.\n",
      "2 times 0 is 0.\n",
      "2 times 1 is 2.\n",
      "2 times 2 is 4.\n",
      "2 times 3 is 6.\n",
      "2 times 4 is 8.\n",
      "2 times 5 is 10.\n",
      "2 times 6 is 12.\n",
      "2 times 7 is 14.\n",
      "2 times 8 is 16.\n",
      "2 times 9 is 18.\n",
      "2 times 10 is 20.\n",
      "3 times 0 is 0.\n",
      "3 times 1 is 3.\n",
      "3 times 2 is 6.\n",
      "3 times 3 is 9.\n",
      "3 times 4 is 12.\n",
      "3 times 5 is 15.\n",
      "3 times 6 is 18.\n",
      "3 times 7 is 21.\n",
      "3 times 8 is 24.\n",
      "3 times 9 is 27.\n",
      "3 times 10 is 30.\n",
      "4 times 0 is 0.\n",
      "4 times 1 is 4.\n",
      "4 times 2 is 8.\n",
      "4 times 3 is 12.\n",
      "4 times 4 is 16.\n",
      "4 times 5 is 20.\n",
      "4 times 6 is 24.\n",
      "4 times 7 is 28.\n",
      "4 times 8 is 32.\n",
      "4 times 9 is 36.\n",
      "4 times 10 is 40.\n",
      "5 times 0 is 0.\n",
      "5 times 1 is 5.\n",
      "5 times 2 is 10.\n",
      "5 times 3 is 15.\n",
      "5 times 4 is 20.\n",
      "5 times 5 is 25.\n",
      "5 times 6 is 30.\n",
      "5 times 7 is 35.\n",
      "5 times 8 is 40.\n",
      "5 times 9 is 45.\n",
      "5 times 10 is 50.\n",
      "6 times 0 is 0.\n",
      "6 times 1 is 6.\n",
      "6 times 2 is 12.\n",
      "6 times 3 is 18.\n",
      "6 times 4 is 24.\n",
      "6 times 5 is 30.\n",
      "6 times 6 is 36.\n",
      "6 times 7 is 42.\n",
      "6 times 8 is 48.\n",
      "6 times 9 is 54.\n",
      "6 times 10 is 60.\n",
      "7 times 0 is 0.\n",
      "7 times 1 is 7.\n",
      "7 times 2 is 14.\n",
      "7 times 3 is 21.\n",
      "7 times 4 is 28.\n",
      "7 times 5 is 35.\n",
      "7 times 6 is 42.\n",
      "7 times 7 is 49.\n",
      "7 times 8 is 56.\n",
      "7 times 9 is 63.\n",
      "7 times 10 is 70.\n",
      "8 times 0 is 0.\n",
      "8 times 1 is 8.\n",
      "8 times 2 is 16.\n",
      "8 times 3 is 24.\n",
      "8 times 4 is 32.\n",
      "8 times 5 is 40.\n",
      "8 times 6 is 48.\n",
      "8 times 7 is 56.\n",
      "8 times 8 is 64.\n",
      "8 times 9 is 72.\n",
      "8 times 10 is 80.\n",
      "9 times 0 is 0.\n",
      "9 times 1 is 9.\n",
      "9 times 2 is 18.\n",
      "9 times 3 is 27.\n",
      "9 times 4 is 36.\n",
      "9 times 5 is 45.\n",
      "9 times 6 is 54.\n",
      "9 times 7 is 63.\n",
      "9 times 8 is 72.\n",
      "9 times 9 is 81.\n",
      "9 times 10 is 90.\n",
      "10 times 0 is 0.\n",
      "10 times 1 is 10.\n",
      "10 times 2 is 20.\n",
      "10 times 3 is 30.\n",
      "10 times 4 is 40.\n",
      "10 times 5 is 50.\n",
      "10 times 6 is 60.\n",
      "10 times 7 is 70.\n",
      "10 times 8 is 80.\n",
      "10 times 9 is 90.\n",
      "10 times 10 is 100.\n"
     ]
    }
   ],
   "source": [
    "# a)\n",
    "for i in range(0, 11):\n",
    "    print(f\"{i} times 6 is {i*6}.\")\n",
    "\n",
    "# # b)\n",
    "try:\n",
    "    table = int(input(\"Hi! What multiplication-table would you like to see?\"))\n",
    "    start = int(input(\"Between which factors? Insert starting factor:  \"))\n",
    "    end = int(input(\"And please input the end factor: \"))\n",
    "    if start < end:\n",
    "        for i in range(start, end+1):\n",
    "            print(f\"{i} times {table} is {i*table}.\")\n",
    "    else:\n",
    "        print(\"Starting value needs to be bigger than end value. Program closing.\")\n",
    "except:\n",
    "    print(\"Please input only integers. Program closing.\")\n",
    "\n",
    "# c)\n",
    "for i in range(0, 11):\n",
    "    for j in range(0, 11):\n",
    "        print(f\"{i} times {j} is {i*j}.\")"
   ]
  },
  {
   "attachments": {},
   "cell_type": "markdown",
   "metadata": {},
   "source": [
    "## 4. Faculty"
   ]
  },
  {
   "cell_type": "code",
   "execution_count": 28,
   "metadata": {},
   "outputs": [
    {
     "name": "stdout",
     "output_type": "stream",
     "text": [
      "if n is 34 then our sum of n! = 1 *(n-1) * n = 20230\n"
     ]
    }
   ],
   "source": [
    "n = int(input(\"Please enter the faculty value of N: \"))\n",
    "sum = 0\n",
    "for i in range(1, n+1):\n",
    "    sum += n*i\n",
    "print(f\"if n is {n} then our sum of n! = 1 *(n-1) * n = {sum}\")"
   ]
  },
  {
   "attachments": {},
   "cell_type": "markdown",
   "metadata": {},
   "source": [
    "## 5. Guess the number"
   ]
  },
  {
   "cell_type": "code",
   "execution_count": 39,
   "metadata": {},
   "outputs": [
    {
     "name": "stdout",
     "output_type": "stream",
     "text": [
      "Found it! It was 6966.\n"
     ]
    }
   ],
   "source": [
    "import random\n",
    "\n",
    "number = random.randint(1000, 9999)\n",
    "for i in range(1000, 10000):\n",
    "    if i == number:\n",
    "        print(f\"Found it! It was {i}.\")"
   ]
  },
  {
   "attachments": {},
   "cell_type": "markdown",
   "metadata": {},
   "source": [
    "## 6. Rice on chessboard"
   ]
  },
  {
   "cell_type": "code",
   "execution_count": 58,
   "metadata": {},
   "outputs": [
    {
     "name": "stdout",
     "output_type": "stream",
     "text": [
      "18446744073709551615\n",
      "There is 18446744073709551615 number of grains on the chess board.\n"
     ]
    }
   ],
   "source": [
    "# hihi\n",
    "answer = 2**64-1 # -1 för att här räknas alla **\n",
    "print(answer)\n",
    "\n",
    "sum = 0\n",
    "for i in range(1, 64): # +1 för att här räknas alla utom sista **\n",
    "    sum += 2 ** i\n",
    "print(f\"There is {sum+1} number of grains on the chess board.\")"
   ]
  }
 ],
 "metadata": {
  "kernelspec": {
   "display_name": "Python 3",
   "language": "python",
   "name": "python3"
  },
  "language_info": {
   "codemirror_mode": {
    "name": "ipython",
    "version": 3
   },
   "file_extension": ".py",
   "mimetype": "text/x-python",
   "name": "python",
   "nbconvert_exporter": "python",
   "pygments_lexer": "ipython3",
   "version": "3.11.5"
  },
  "orig_nbformat": 4
 },
 "nbformat": 4,
 "nbformat_minor": 2
}
