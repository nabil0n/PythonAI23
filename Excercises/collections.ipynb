{
 "cells": [
  {
   "cell_type": "markdown",
   "metadata": {},
   "source": [
    "\n",
    "<a href=\"https://colab.research.google.com/github/kokchun/Python-course-AI22/blob/main/Exercises/06-functions-exericse.ipynb\" target=\"_parent\"><img align=\"left\" src=\"https://colab.research.google.com/assets/colab-badge.svg\" alt=\"Open In Colab\"/></a> &nbsp; to see hints and answers."
   ]
  },
  {
   "cell_type": "markdown",
   "metadata": {},
   "source": [
    "# Collections exercises\n",
    "\n",
    "---\n",
    "These are introductory exercises in Python with focus on **Collections** (list, dictionary, set).\n",
    "\n",
    "<p class = \"alert alert-info\" role=\"alert\"><b>List</b> is a collection of items which are ordered and changeable. Allows duplicate members.</p>\n",
    "\n",
    "<p class = \"alert alert-info\" role=\"alert\"><b>Dictionary</b> is a collection of key-value-pairs which are ordered and changeable. No duplicate keys.</p>\n",
    "\n",
    "<p class = \"alert alert-info\" role=\"alert\"><b>Set</b> is a collection of items which is unordered, unchangeable*, and unindexed. No duplicate members.</p>\n",
    "\n",
    "The number of stars (\\*), (\\*\\*), (\\*\\*\\*) denotes the difficulty level of the task\n",
    "\n",
    "---"
   ]
  },
  {
   "cell_type": "markdown",
   "metadata": {},
   "source": [
    "## 1. Print inputed values in reverse (*)\n",
    "\n",
    "Create a loop that keeps asking for user input until the user inputs an empty string, then print all inputs in reverse order."
   ]
  },
  {
   "cell_type": "code",
   "execution_count": 11,
   "metadata": {},
   "outputs": [
    {
     "name": "stdout",
     "output_type": "stream",
     "text": [
      "Please input random shit: \n",
      "Here's your shit backwards.\n",
      "\n",
      "d\n",
      "s\n",
      "a\n"
     ]
    }
   ],
   "source": [
    "print(\"Please input random things: \")\n",
    "\n",
    "stuff = []\n",
    "while True:\n",
    "    thing = input()\n",
    "    stuff.append(thing)\n",
    "    if thing == \"\":\n",
    "        break\n",
    "\n",
    "print(\"Here's your things backwards.\")\n",
    "\n",
    "for item in stuff[::-1]:\n",
    "    print(item)\n"
   ]
  },
  {
   "cell_type": "markdown",
   "metadata": {},
   "source": [
    "---\n",
    "\n",
    "## 2. Print a given number using words. (*)\n",
    "\n",
    "Create a dictionary with 10 key-value pairs: {\"0\": \"Zero\", \"1\": \"One\", ..., \"9\": \"Nine\"}\n",
    "\n",
    "Make the program ask the user to input a number, then print the word for each number in sequence;\n",
    "\n",
    "<details>\n",
    "\n",
    "<summary>Example</summary>\n",
    "\n",
    "```\n",
    "Input: 34507\n",
    "Output: Three-Four-Five-Zero-Seven\n",
    "```\n",
    "\n",
    "</details>\n"
   ]
  },
  {
   "cell_type": "code",
   "execution_count": 41,
   "metadata": {},
   "outputs": [
    {
     "name": "stdout",
     "output_type": "stream",
     "text": [
      "Let me print out a number for you.\n"
     ]
    },
    {
     "ename": "TypeError",
     "evalue": "'int' object is not subscriptable",
     "output_type": "error",
     "traceback": [
      "\u001b[1;31m---------------------------------------------------------------------------\u001b[0m",
      "\u001b[1;31mTypeError\u001b[0m                                 Traceback (most recent call last)",
      "\u001b[1;32mc:\\CodeProd\\ITHS\\python-programmering-Isak-Andersson\\Excercises\\collections.ipynb Cell 6\u001b[0m line \u001b[0;36m2\n\u001b[0;32m     <a href='vscode-notebook-cell:/c%3A/CodeProd/ITHS/python-programmering-Isak-Andersson/Excercises/collections.ipynb#W5sZmlsZQ%3D%3D?line=18'>19</a>\u001b[0m \u001b[39mfor\u001b[39;00m index \u001b[39min\u001b[39;00m \u001b[39mrange\u001b[39m(\u001b[39mlen\u001b[39m(user_input)):\n\u001b[0;32m     <a href='vscode-notebook-cell:/c%3A/CodeProd/ITHS/python-programmering-Isak-Andersson/Excercises/collections.ipynb#W5sZmlsZQ%3D%3D?line=19'>20</a>\u001b[0m     \u001b[39mfor\u001b[39;00m key \u001b[39min\u001b[39;00m NUMBERS:\n\u001b[1;32m---> <a href='vscode-notebook-cell:/c%3A/CodeProd/ITHS/python-programmering-Isak-Andersson/Excercises/collections.ipynb#W5sZmlsZQ%3D%3D?line=20'>21</a>\u001b[0m         \u001b[39mif\u001b[39;00m \u001b[39mint\u001b[39m(user_input[index]) \u001b[39m==\u001b[39m key[index]:\n\u001b[0;32m     <a href='vscode-notebook-cell:/c%3A/CodeProd/ITHS/python-programmering-Isak-Andersson/Excercises/collections.ipynb#W5sZmlsZQ%3D%3D?line=21'>22</a>\u001b[0m             return_string \u001b[39m+\u001b[39m\u001b[39m=\u001b[39m NUMBERS[index]\u001b[39m.\u001b[39mvalues() \u001b[39m+\u001b[39m \u001b[39m\"\u001b[39m\u001b[39m-\u001b[39m\u001b[39m\"\u001b[39m\n\u001b[0;32m     <a href='vscode-notebook-cell:/c%3A/CodeProd/ITHS/python-programmering-Isak-Andersson/Excercises/collections.ipynb#W5sZmlsZQ%3D%3D?line=23'>24</a>\u001b[0m \u001b[39mprint\u001b[39m(return_string)\n",
      "\u001b[1;31mTypeError\u001b[0m: 'int' object is not subscriptable"
     ]
    }
   ],
   "source": [
    "NUMBERS = {\n",
    "    0: \"Zero\",\n",
    "    1: \"One\",\n",
    "    2: \"Two\",\n",
    "    3: \"Three\",\n",
    "    4: \"Four\",\n",
    "    5: \"Five\",\n",
    "    6: \"Six\",\n",
    "    7: \"Seven\",\n",
    "    8: \"Eight\",\n",
    "    9: \"Nine\",\n",
    "}\n",
    "\n",
    "print(\"Let me print out a number for you.\")\n",
    "\n",
    "user_input = \"5213098\" #input(\"Please enter any integer above 0: \")\n",
    "\n",
    "return_string = \"\"\n",
    "for index in range(len(user_input)):\n",
    "    for key in NUMBERS:\n",
    "        if int(user_input[index]) == key[index]:\n",
    "            return_string += NUMBERS[index].values() + \"-\"\n",
    "\n",
    "print(return_string)"
   ]
  },
  {
   "cell_type": "markdown",
   "metadata": {},
   "source": [
    "---\n",
    "## 3. Glossary training program (*)\n",
    "\n",
    "Create a glossary training program, where the user can test their skills on translating the names of english colors to swedish:\n",
    "\n",
    "- The program should ask the user to write a color in swedish (eg. \"Type the Swedish word for 'red': )\n",
    "\n",
    "- Then let the user know if it was correct (and if not, show them the correct translation)\n",
    "\n",
    "- Keep asking to translate random colors until the user inputs an blank answer (\"\")\n",
    "\n",
    "- Lastly let the user know how many of their translations where correct, how many they guess in total, and the ratio of correct answer (eg. \"You got 3 out of 5 correct answers. That is 60%\")\n"
   ]
  },
  {
   "cell_type": "code",
   "execution_count": null,
   "metadata": {},
   "outputs": [],
   "source": []
  },
  {
   "cell_type": "markdown",
   "metadata": {},
   "source": [
    "---\n",
    "## 4. Find common values between two inputs (*)\n",
    "\n",
    "Ask the user to input items on a comma-seperated list (1 input string)\n",
    "\n",
    "Then ask the user to input a new string of comma seperated items.\n",
    "\n",
    "Lastly, print all the items that appeared in both lists.\n",
    "\n",
    "<details>\n",
    "\n",
    "<summary>Example</summary>\n",
    "\n",
    "```\n",
    "Input A: green, red, yellow, purple, blue\n",
    "Input B: red, blue, black, white, brown\n",
    "Output: red, blue\n",
    "```\n",
    "\n",
    "</details>"
   ]
  },
  {
   "cell_type": "code",
   "execution_count": null,
   "metadata": {},
   "outputs": [],
   "source": []
  },
  {
   "cell_type": "markdown",
   "metadata": {},
   "source": [
    "---\n",
    "\n",
    "## 5. Print a given number using words (version 2). (**)\n",
    "\n",
    "Make the program ask the user to input any number from 0 to 99999.\n",
    "\n",
    "The program should then print out the full sequence of words for the number.\n",
    "\n",
    "<details>\n",
    "\n",
    "<summary>Example</summary>\n",
    "\n",
    "```\n",
    "Input: 34507\n",
    "Output: Thirtyfour thousand five hundred and seven\n",
    "```\n",
    "\n",
    "</details>\n"
   ]
  },
  {
   "cell_type": "code",
   "execution_count": null,
   "metadata": {},
   "outputs": [],
   "source": []
  },
  {
   "cell_type": "markdown",
   "metadata": {},
   "source": [
    "---\n",
    "\n",
    "Fredrik Johansson\n",
    "\n",
    "Github: https://github.com/everyloop\n",
    "\n",
    "---"
   ]
  }
 ],
 "metadata": {
  "kernelspec": {
   "display_name": "Python 3.9.6 64-bit",
   "language": "python",
   "name": "python3"
  },
  "language_info": {
   "codemirror_mode": {
    "name": "ipython",
    "version": 3
   },
   "file_extension": ".py",
   "mimetype": "text/x-python",
   "name": "python",
   "nbconvert_exporter": "python",
   "pygments_lexer": "ipython3",
   "version": "3.11.5"
  },
  "orig_nbformat": 4,
  "vscode": {
   "interpreter": {
    "hash": "0da836a34428266995a795f1e1e27b816fa1c02f148d9728b3fbbbc5459afca6"
   }
  }
 },
 "nbformat": 4,
 "nbformat_minor": 2
}
