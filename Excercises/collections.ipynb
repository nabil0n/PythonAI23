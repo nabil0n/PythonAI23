{
 "cells": [
  {
   "cell_type": "markdown",
   "metadata": {},
   "source": [
    "\n",
    "<a href=\"https://colab.research.google.com/github/kokchun/Python-course-AI22/blob/main/Exercises/06-functions-exericse.ipynb\" target=\"_parent\"><img align=\"left\" src=\"https://colab.research.google.com/assets/colab-badge.svg\" alt=\"Open In Colab\"/></a> &nbsp; to see hints and answers."
   ]
  },
  {
   "cell_type": "markdown",
   "metadata": {},
   "source": [
    "# Collections exercises\n",
    "\n",
    "---\n",
    "These are introductory exercises in Python with focus on **Collections** (list, dictionary, set).\n",
    "\n",
    "<p class = \"alert alert-info\" role=\"alert\"><b>List</b> is a collection of items which are ordered and changeable. Allows duplicate members.</p>\n",
    "\n",
    "<p class = \"alert alert-info\" role=\"alert\"><b>Dictionary</b> is a collection of key-value-pairs which are ordered and changeable. No duplicate keys.</p>\n",
    "\n",
    "<p class = \"alert alert-info\" role=\"alert\"><b>Set</b> is a collection of items which is unordered, unchangeable*, and unindexed. No duplicate members.</p>\n",
    "\n",
    "The number of stars (\\*), (\\*\\*), (\\*\\*\\*) denotes the difficulty level of the task\n",
    "\n",
    "---"
   ]
  },
  {
   "cell_type": "markdown",
   "metadata": {},
   "source": [
    "## 1. Print inputed values in reverse (*)\n",
    "\n",
    "Create a loop that keeps asking for user input until the user inputs an empty string, then print all inputs in reverse order."
   ]
  },
  {
   "cell_type": "code",
   "execution_count": 11,
   "metadata": {},
   "outputs": [
    {
     "name": "stdout",
     "output_type": "stream",
     "text": [
      "Please input random shit: \n",
      "Here's your shit backwards.\n",
      "\n",
      "d\n",
      "s\n",
      "a\n"
     ]
    }
   ],
   "source": [
    "print(\"Please input random things: \")\n",
    "\n",
    "stuff = []\n",
    "while True:\n",
    "    thing = input()\n",
    "    stuff.append(thing)\n",
    "    if thing == \"\":\n",
    "        break\n",
    "\n",
    "print(\"Here's your things backwards.\")\n",
    "\n",
    "for item in stuff[::-1]:\n",
    "    print(item)\n"
   ]
  },
  {
   "cell_type": "markdown",
   "metadata": {},
   "source": [
    "---\n",
    "\n",
    "## 2. Print a given number using words. (*)\n",
    "\n",
    "Create a dictionary with 10 key-value pairs: {\"0\": \"Zero\", \"1\": \"One\", ..., \"9\": \"Nine\"}\n",
    "\n",
    "Make the program ask the user to input a number, then print the word for each number in sequence;\n",
    "\n",
    "<details>\n",
    "\n",
    "<summary>Example</summary>\n",
    "\n",
    "```\n",
    "Input: 34507\n",
    "Output: Three-Four-Five-Zero-Seven\n",
    "```\n",
    "\n",
    "</details>\n"
   ]
  },
  {
   "cell_type": "code",
   "execution_count": 4,
   "metadata": {},
   "outputs": [
    {
     "name": "stdout",
     "output_type": "stream",
     "text": [
      "Let me print out a number for you.\n",
      "One-Two-Three\n"
     ]
    }
   ],
   "source": [
    "NUMBERS = {\n",
    "    0: \"Zero\",\n",
    "    1: \"One\",\n",
    "    2: \"Two\",\n",
    "    3: \"Three\",\n",
    "    4: \"Four\",\n",
    "    5: \"Five\",\n",
    "    6: \"Six\",\n",
    "    7: \"Seven\",\n",
    "    8: \"Eight\",\n",
    "    9: \"Nine\",\n",
    "}\n",
    "\n",
    "print(\"Let me print out a number for you.\")\n",
    "\n",
    "user_input = input(\"Please enter any integer above 0: \")\n",
    "\n",
    "return_string = \"\"\n",
    "for key, value in NUMBERS.items():\n",
    "    for digit in user_input:\n",
    "        if int(digit) == key:\n",
    "            return_string += value + (\"-\" if digit != user_input[-1] else \"\")\n",
    "\n",
    "print(return_string)"
   ]
  },
  {
   "cell_type": "markdown",
   "metadata": {},
   "source": [
    "---\n",
    "## 3. Glossary training program (*)\n",
    "\n",
    "Create a glossary training program, where the user can test their skills on translating the names of english colors to swedish:\n",
    "\n",
    "- The program should ask the user to write a color in swedish (eg. \"Type the Swedish word for 'red': )\n",
    "\n",
    "- Then let the user know if it was correct (and if not, show them the correct translation)\n",
    "\n",
    "- Keep asking to translate random colors until the user inputs an blank answer (\"\")\n",
    "\n",
    "- Lastly let the user know how many of their translations where correct, how many they guess in total, and the ratio of correct answer (eg. \"You got 3 out of 5 correct answers. That is 60%\")\n"
   ]
  },
  {
   "cell_type": "code",
   "execution_count": 10,
   "metadata": {},
   "outputs": [
    {
     "name": "stdout",
     "output_type": "stream",
     "text": [
      "Correct!\n",
      "Correct!\n",
      "Correct!\n",
      "Correct!\n",
      "Correct!\n",
      "You got 5 points out of 5 rounds. That's 100.0%!\n"
     ]
    }
   ],
   "source": [
    "import random\n",
    "\n",
    "COLORS = {\"red\": \"röd\", \n",
    "        \"blue\": \"blå\", \n",
    "        \"green\": \"grön\", \n",
    "        \"yellow\": \"gul\", \n",
    "        \"orange\": \"orange\", \n",
    "        \"purple\": \"lila\", \n",
    "        \"pink\": \"rosa\", \n",
    "        \"brown\": \"brun\", \n",
    "        \"black\": \"svart\", \n",
    "        \"white\": \"vit\",\n",
    "}\n",
    "\n",
    "points = 0\n",
    "rounds = 0\n",
    "\n",
    "while True:\n",
    "    color = random.choice(list(COLORS.keys()))\n",
    "    user_input = input(f\"Type the swedish word for {color}: \")\n",
    "\n",
    "    if user_input == \"\":\n",
    "        print(f\"You got {points} points out of {rounds} rounds. That's {points/rounds*100}%!\")\n",
    "        break\n",
    "    \n",
    "    elif user_input.lower() == COLORS[color]:\n",
    "        print(\"Correct!\")\n",
    "        points += 1\n",
    "        rounds += 1\n",
    "    \n",
    "    else:\n",
    "        print(\"Sorry, that was wrong. Try again!\")\n",
    "        rounds += 1"
   ]
  },
  {
   "cell_type": "markdown",
   "metadata": {},
   "source": [
    "---\n",
    "## 4. Find common values between two inputs (*)\n",
    "\n",
    "Ask the user to input items on a comma-seperated list (1 input string)\n",
    "\n",
    "Then ask the user to input a new string of comma seperated items.\n",
    "\n",
    "Lastly, print all the items that appeared in both lists.\n",
    "\n",
    "<details>\n",
    "\n",
    "<summary>Example</summary>\n",
    "\n",
    "```\n",
    "Input A: green, red, yellow, purple, blue\n",
    "Input B: red, blue, black, white, brown\n",
    "Output: red, blue\n",
    "```\n",
    "\n",
    "</details>"
   ]
  },
  {
   "cell_type": "code",
   "execution_count": 13,
   "metadata": {},
   "outputs": [
    {
     "name": "stdout",
     "output_type": "stream",
     "text": [
      "asd\n",
      "asd\n",
      "g\n",
      "e\n"
     ]
    }
   ],
   "source": [
    "input_a = []\n",
    "\n",
    "while True:\n",
    "    user_input = input(\"Enter a thing: \")\n",
    "    if user_input == \"\":\n",
    "        break\n",
    "    \n",
    "    else:\n",
    "        input_a.append(user_input)\n",
    "\n",
    "input_b = []\n",
    "\n",
    "while True:\n",
    "    user_input = input(\"Enter another thing: \")\n",
    "    if user_input == \"\":\n",
    "        break\n",
    "    \n",
    "    else:\n",
    "        input_b.append(user_input)\n",
    "\n",
    "for item in input_a:\n",
    "    if item in input_b:\n",
    "        print(f\"{item} is in both lists.\")"
   ]
  },
  {
   "cell_type": "markdown",
   "metadata": {},
   "source": [
    "---\n",
    "\n",
    "## 5. Print a given number using words (version 2). (**)\n",
    "\n",
    "Make the program ask the user to input any number from 0 to 99999.\n",
    "\n",
    "The program should then print out the full sequence of words for the number.\n",
    "\n",
    "<details>\n",
    "\n",
    "<summary>Example</summary>\n",
    "\n",
    "```\n",
    "Input: 34507\n",
    "Output: Thirtyfour thousand five hundred and seven\n",
    "```\n",
    "\n",
    "</details>\n"
   ]
  },
  {
   "cell_type": "code",
   "execution_count": 4,
   "metadata": {},
   "outputs": [
    {
     "data": {
      "text/plain": [
       "''"
      ]
     },
     "execution_count": 4,
     "metadata": {},
     "output_type": "execute_result"
    }
   ],
   "source": [
    "PHONETICS = {1000: \"thousand\",\n",
    "            100: \"hundred\", \n",
    "            90: \"ninety\", \n",
    "            80: \"eighty\", \n",
    "            70: \"seventy\", \n",
    "            60: \"sixty\", \n",
    "            50: \"fifty\", \n",
    "            40: \"forty\", \n",
    "            30: \"thirty\", \n",
    "            20: \"twenty\", \n",
    "            19: \"nineteen\", \n",
    "            18: \"eighteen\", \n",
    "            17: \"seventeen\", \n",
    "            16: \"sixteen\", \n",
    "            15: \"fifteen\", \n",
    "            14: \"fourteen\", \n",
    "            13: \"thirteen\", \n",
    "            12: \"twelve\", \n",
    "            11: \"eleven\", \n",
    "            10: \"ten\",\n",
    "            9: \"nine\", \n",
    "            8: \"eight\", \n",
    "            7: \"seven\", \n",
    "            6: \"six\", \n",
    "            5: \"five\", \n",
    "            4: \"four\", \n",
    "            3: \"three\", \n",
    "            2: \"two\", \n",
    "            1: \"one\",\n",
    "}\n",
    "\n",
    "def numbers_to_words(number):\n",
    "    \n",
    "    big_part = \"\"\n",
    "    medium_part = \"\"\n",
    "    small_part = \"\"\n",
    "    \n",
    "    for key, value in PHONETICS.items():\n",
    "        \n",
    "        if key == number:\n",
    "            small_part += value\n",
    "            \n",
    "        \n",
    "    \n",
    "    return (f\"{(big_part+medium_part+small_part).capitalize()}\")\n",
    "\n",
    "numbers_to_words(49)"
   ]
  },
  {
   "cell_type": "markdown",
   "metadata": {},
   "source": [
    "---\n",
    "\n",
    "Fredrik Johansson\n",
    "\n",
    "Github: https://github.com/everyloop\n",
    "\n",
    "---"
   ]
  }
 ],
 "metadata": {
  "kernelspec": {
   "display_name": "Python 3.9.6 64-bit",
   "language": "python",
   "name": "python3"
  },
  "language_info": {
   "codemirror_mode": {
    "name": "ipython",
    "version": 3
   },
   "file_extension": ".py",
   "mimetype": "text/x-python",
   "name": "python",
   "nbconvert_exporter": "python",
   "pygments_lexer": "ipython3",
   "version": "3.11.5"
  },
  "orig_nbformat": 4,
  "vscode": {
   "interpreter": {
    "hash": "0da836a34428266995a795f1e1e27b816fa1c02f148d9728b3fbbbc5459afca6"
   }
  }
 },
 "nbformat": 4,
 "nbformat_minor": 2
}
