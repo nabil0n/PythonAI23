{
 "cells": [
  {
   "attachments": {},
   "cell_type": "markdown",
   "metadata": {},
   "source": [
    "# If statements\n",
    "## Isak Andersson AI23\n",
    "---\n",
    "### 1. Check sign"
   ]
  },
  {
   "cell_type": "code",
   "execution_count": 35,
   "metadata": {},
   "outputs": [
    {
     "name": "stdout",
     "output_type": "stream",
     "text": [
      "0 is zero!\n"
     ]
    }
   ],
   "source": [
    "userinput1 = input(\"Please input an integer: \")\n",
    "while True:\n",
    "    try:\n",
    "        if int(userinput1) > 0:\n",
    "            print(f\"{int(userinput1)} is positive!\")\n",
    "        elif int(userinput1) < 0:\n",
    "            print(f\"{int(userinput1)} is negative!\")\n",
    "        else:\n",
    "            print(f\"{int(userinput1)} is zero!\")\n",
    "        break\n",
    "    except:\n",
    "        print(f\"{userinput1} is not an integer! Try again!\")\n",
    "        userinput1 = input(\"Please input an integer: \")\n"
   ]
  },
  {
   "attachments": {},
   "cell_type": "markdown",
   "metadata": {},
   "source": [
    "### 2. Smallest"
   ]
  },
  {
   "cell_type": "code",
   "execution_count": 39,
   "metadata": {},
   "outputs": [
    {
     "name": "stdout",
     "output_type": "stream",
     "text": [
      "You have to enter two integers! Let's start over.\n",
      "You have to enter two integers! Let's start over.\n",
      "Your second numeber, 3, is the smallest of the two inputed numbers.\n"
     ]
    }
   ],
   "source": [
    "userinput2a = input(\"Please input an integer: \")\n",
    "userinput2b = input(\"Now, please input another integer: \")\n",
    "\n",
    "while True:\n",
    "    try:\n",
    "        if int(userinput2a) < int(userinput2b):\n",
    "            print(f\"Your first numeber, {userinput2a}, is the smallest of the two inputed numbers.\")\n",
    "        else:\n",
    "            print(f\"Your second numeber, {userinput2b}, is the smallest of the two inputed numbers.\")\n",
    "        break\n",
    "    except:\n",
    "        print(\"You have to enter two integers! Let's start over.\")\n",
    "        userinput2a = input(\"Please input an integer: \")\n",
    "        userinput2b = input(\"Now, please input another integer: \")\n",
    "\n",
    "## Något gör att Jupyter inte läser alla inputs, vad är fel? Både i detta och förra."
   ]
  },
  {
   "attachments": {},
   "cell_type": "markdown",
   "metadata": {},
   "source": [
    "### 3. Right Angle"
   ]
  },
  {
   "cell_type": "code",
   "execution_count": 1,
   "metadata": {},
   "outputs": [
    {
     "name": "stdout",
     "output_type": "stream",
     "text": [
      "This program only accepts integers, try again.\n",
      "The triangle has a right angle!\n"
     ]
    }
   ],
   "source": [
    "\n",
    "while True:\n",
    "    try:\n",
    "        input3a = int(input(\"Enter three angles (with a total sum of 180 degrees) to see if one is a right angle: \"))\n",
    "        input3b = int(input())\n",
    "        input3c = int(input())\n",
    "        sum3 = input3a + input3b + input3c\n",
    "        sum3a = input3a + input3b\n",
    "        sum3b = input3b + input3c\n",
    "        sum3c = input3c + input3a\n",
    "        if 180 <= sum3a or 180 <= sum3b or 180 <= sum3c:\n",
    "            print(\"Your angles are too big!!\")\n",
    "        elif sum3 != 180:\n",
    "            print(f\"Your sum of angles equals {sum3}, it needs to be 180. Try again.\")\n",
    "        elif input3a == 90 or input3b == 90 or input3c == 90:\n",
    "            print(\"The triangle has a right angle!\")\n",
    "        else:\n",
    "            print(f\"Your triangle does not have a right angle, since none of {input3a}, {input3b} or {input3c} were 90 degrees.\")\n",
    "        break\n",
    "    except:\n",
    "        print(\"This program only accepts integers, try again.\")\n"
   ]
  },
  {
   "attachments": {},
   "cell_type": "markdown",
   "metadata": {},
   "source": [
    "### 4. Medicine"
   ]
  },
  {
   "cell_type": "code",
   "execution_count": 1,
   "metadata": {},
   "outputs": [
    {
     "name": "stdout",
     "output_type": "stream",
     "text": [
      "Please input only integers, try again.\n",
      "Child under the age of 3, please do not medicate!\n"
     ]
    }
   ],
   "source": [
    "while True:\n",
    "    try:\n",
    "        age = int(input(\"Please input age: \"))\n",
    "        weight = int(input(\"Please input weight: \"))\n",
    "        if 15<=weight<25 or 3<=age<7:\n",
    "            print(\"Recommended amount of pills: 1/2\")\n",
    "        elif 26<=weight<40 or 7<=age<12:\n",
    "            print(\"Recommended amount of pills: 1/2 - 1\")\n",
    "        elif weight>=40 or age>12:\n",
    "            print(\"Recommended amount of pills: 1 - 2\")\n",
    "        else:\n",
    "            print(\"Child under the age of 3, please do not medicate!\")\n",
    "        break\n",
    "    except:\n",
    "        print(\"Please input only integers, try again.\")"
   ]
  },
  {
   "attachments": {},
   "cell_type": "markdown",
   "metadata": {},
   "source": [
    "### 5. Divisible"
   ]
  },
  {
   "cell_type": "code",
   "execution_count": 7,
   "metadata": {},
   "outputs": [
    {
     "name": "stdout",
     "output_type": "stream",
     "text": [
      "Let's see if a number is \n",
      "A: even or odd.\n",
      "B: is divisible by 5.\n",
      "C: is both of the above.\n",
      "\n",
      "Please enter an integer.\n",
      "\n",
      "Let's see if a number is \n",
      "A: even or odd.\n",
      "B: is divisible by 5.\n",
      "C: is both of the above.\n",
      "\n",
      "Please enter an integer.\n",
      "\n",
      "Let's see if a number is \n",
      "A: even or odd.\n",
      "B: is divisible by 5.\n",
      "C: is both of the above.\n",
      "\n",
      "23 is B: odd!\n"
     ]
    }
   ],
   "source": [
    "while True:\n",
    "    try:\n",
    "        print(\"Let's see if a number is \\nA: even or odd.\\nB: is divisible by 5.\\nC: is both of the above.\\n\")\n",
    "        input5 = int(input(\"Enter a number: \"))\n",
    "        if input5 % 5 == 0 and input5 % 2 != 0:\n",
    "            print(f\"{input5} is C: both of the above!\")\n",
    "        elif input5 % 5 == 0:\n",
    "            print(f\"{input5} is A: divisible by 5!\")\n",
    "        elif input5 % 2 != 0:\n",
    "            print(f\"{input5} is B: odd!\")\n",
    "        break\n",
    "    except:\n",
    "        print(\"Please enter an integer.\\n\")"
   ]
  },
  {
   "attachments": {},
   "cell_type": "markdown",
   "metadata": {},
   "source": [
    "### 6. Luggage size"
   ]
  },
  {
   "cell_type": "code",
   "execution_count": 10,
   "metadata": {},
   "outputs": [
    {
     "name": "stdout",
     "output_type": "stream",
     "text": [
      "Welcome to Kokchun Airlines! Please allow us to calculate your allowed baggage.\n",
      "Please input only integers. Thank you.\n",
      "Welcome to Kokchun Airlines! Please allow us to calculate your allowed baggage.\n",
      "Thank you! Your baggage size was 5Kg and 12167cm^3 which is within our limits. Have a safe flight!\n"
     ]
    }
   ],
   "source": [
    "# Version 1. Denna kan frakta väääääldigt långa paket.\n",
    "\n",
    "while True:\n",
    "    try:\n",
    "        print(\"Welcome to Kokchun Airlines! Please allow us to calculate your allowed baggage.\")\n",
    "        weight = int(input(\"Please, input your baggage weight (in Kg): \"))\n",
    "        dim1 = int(input(\"Please, input your baggage height, width and lenght in no particular order, (seperate by pressing ENTER): \"))\n",
    "        dim2 = int(input())\n",
    "        dim3 = int(input())\n",
    "        userdim = dim1*dim2*dim3\n",
    "        maxdim = 55*40*23\n",
    "        if weight>8 or userdim>maxdim:\n",
    "            print(f\"We're sorry, your baggage size was {weight}Kg and {userdim}cm^3, we only allow bags under 8Kgs and {maxdim}cm^3. Please pack a smaller bag.\")\n",
    "        else:\n",
    "            print(f\"Thank you! Your baggage size was {weight}Kg and {userdim}cm^3 which is within our limits. Have a safe flight!\")\n",
    "        break\n",
    "    except:\n",
    "        print(\"Please input only integers. Thank you.\")"
   ]
  },
  {
   "cell_type": "code",
   "execution_count": 11,
   "metadata": {},
   "outputs": [
    {
     "name": "stdout",
     "output_type": "stream",
     "text": [
      "Welcome to Kokchun Airlines! Please allow us to calculate your allowed baggage.\n",
      "We're sorry, your baggage size was 54Kg, we only allow bags under 8Kgs and \n",
      "55x40x23 (LxWxH) in dimensions. Please pack a smaller bag.\n"
     ]
    }
   ],
   "source": [
    "# Version 2. Denna kanske är mer användbar.\n",
    "\n",
    "while True:\n",
    "    try:\n",
    "        print(\"Welcome to Kokchun Airlines! Please allow us to calculate your allowed baggage.\")\n",
    "        weight = int(input(\"Please, input your baggage weight (in Kg): \"))\n",
    "        length = int(input(\"Please, input your baggage length: \"))\n",
    "        width = int(input(\"Please, input your baggage width: \"))\n",
    "        height = int(input(\"Please, input your baggage height: \"))\n",
    "        maxlength = 55\n",
    "        maxwidth = 40\n",
    "        maxheight = 23\n",
    "        maxweight = 8\n",
    "        if weight>maxweight or length>maxlength or width>maxwidth or height>maxheight:\n",
    "            print(f\"We're sorry, your baggage size was {weight}Kg, we only allow bags under 8Kgs and \\n{maxlength}x{maxwidth}x{maxheight} (LxWxH) in dimensions. Please pack a smaller bag.\")\n",
    "        else:\n",
    "            print(f\"Thank you! Your baggage size was within our weight limit with {weight}Kg and within our size limits. Have a safe flight!\")\n",
    "        break\n",
    "    except:\n",
    "        print(\"Please input only integers. Thank you.\")"
   ]
  }
 ],
 "metadata": {
  "kernelspec": {
   "display_name": "Python 3",
   "language": "python",
   "name": "python3"
  },
  "language_info": {
   "codemirror_mode": {
    "name": "ipython",
    "version": 3
   },
   "file_extension": ".py",
   "mimetype": "text/x-python",
   "name": "python",
   "nbconvert_exporter": "python",
   "pygments_lexer": "ipython3",
   "version": "3.11.5"
  },
  "orig_nbformat": 4
 },
 "nbformat": 4,
 "nbformat_minor": 2
}
