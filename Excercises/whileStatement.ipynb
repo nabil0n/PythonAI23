{
 "cells": [
  {
   "attachments": {},
   "cell_type": "markdown",
   "metadata": {},
   "source": [
    "# While statement exercises\n",
    "\n",
    "## 1. Count numbers"
   ]
  },
  {
   "cell_type": "code",
   "execution_count": 5,
   "metadata": {},
   "outputs": [
    {
     "name": "stdout",
     "output_type": "stream",
     "text": [
      "-10, -9, -8, -7, -6, -5, -4, -3, -2, -1, 0, 1, 2, 3, 4, 5, 6, 7, 8, 9, 10, "
     ]
    }
   ],
   "source": [
    "count = -10\n",
    "\n",
    "while count <= 10:\n",
    "    print(count, end=\", \")\n",
    "    count += 1"
   ]
  },
  {
   "attachments": {},
   "cell_type": "markdown",
   "metadata": {},
   "source": [
    "## 2. Arithmetic sum"
   ]
  },
  {
   "cell_type": "code",
   "execution_count": 35,
   "metadata": {},
   "outputs": [
    {
     "name": "stdout",
     "output_type": "stream",
     "text": [
      "5050\n",
      "2500\n"
     ]
    }
   ],
   "source": [
    "# a)\n",
    "count = 0\n",
    "sum = 0\n",
    "while count <= 100:\n",
    "    sum += count\n",
    "    count += 1\n",
    "print(sum)\n",
    "\n",
    "# b)\n",
    "count = 0\n",
    "sum = 0\n",
    "while (count <= 100):\n",
    "    if count % 2 != 0:\n",
    "        sum += count\n",
    "    count += 1\n",
    "print(sum)"
   ]
  },
  {
   "attachments": {},
   "cell_type": "markdown",
   "metadata": {},
   "source": [
    "## 3. Guess number game"
   ]
  },
  {
   "cell_type": "code",
   "execution_count": 7,
   "metadata": {},
   "outputs": [
    {
     "name": "stdout",
     "output_type": "stream",
     "text": [
      "ANSWER 62\n",
      "I guessed 87 (0).\n",
      "hej\n",
      "I guessed 88 (87).\n",
      "I guessed 78 (88).\n",
      "I guessed 68 (78).\n",
      "I guessed 58 (68).\n",
      "I guessed 65 (58).\n",
      "I guessed 55 (65).\n",
      "I guessed 62 (55).\n",
      "Found it! It was 62.\n"
     ]
    }
   ],
   "source": [
    "import random\n",
    "\n",
    "# a)\n",
    "# print(\"Welcome to the guessing game! Guess what number between 1 - 100 I generated!\")\n",
    "number = random.randint(1, 100)\n",
    "print(f\"ANSWER {number}\")\n",
    "try:\n",
    "    guess = int(input())\n",
    "    while guess != number:\n",
    "        print(\"WRONG! Guess again!\")\n",
    "        if guess > number:\n",
    "            print(\"Tip: It's lower...\")\n",
    "        elif guess < number:\n",
    "            print(\"Tip: It's higher...\")\n",
    "        guess = int(input())\n",
    "    if guess == number:\n",
    "        print(\"You are correct!\")\n",
    "except:\n",
    "    print(\"Please input only an integer! Restart program.\")\n",
    "\n",
    "# b) (med samma hint från a) (ser lustigt ut pga testar lösningar)\n",
    "def guesser(x, y):\n",
    "    print(f\"I guessed {x} ({y}).\")\n",
    "    if x == number:\n",
    "        return print(f\"Found it! It was {x}.\")\n",
    "    elif x > 115:\n",
    "        return print(\"error\")\n",
    "    else:\n",
    "        if x != number:\n",
    "            if x - y < x - 5 and x < number:\n",
    "                y = x\n",
    "                guesser(x+7, y)\n",
    "            elif x - y < x - 2 and x > number:\n",
    "                y = x\n",
    "                guesser(x-10, y)\n",
    "            else:\n",
    "                y = x\n",
    "                #print(\"test\")\n",
    "                guesser(x+1, y)\n",
    "\n",
    "\n",
    "guesser(50, 0)"
   ]
  },
  {
   "attachments": {},
   "cell_type": "markdown",
   "metadata": {},
   "source": [
    "## 4. Multiplication game"
   ]
  },
  {
   "cell_type": "code",
   "execution_count": 220,
   "metadata": {},
   "outputs": [
    {
     "name": "stdout",
     "output_type": "stream",
     "text": [
      "| | | | | Welcome to the multiplication game! | | | | |\n",
      "\n",
      "\n",
      "Ok, Isak, do you wanna try hard-more?\n",
      "(You can only pick numbers over 30 and numbers not divisible by 2)\n",
      "That's correct! Your score is now 1.\n",
      "Alright, let's go!\n",
      "Ey, cheater! You picked hardmode! Program closing, I wanna play with honest people...\n"
     ]
    }
   ],
   "source": [
    "# a) \n",
    "\n",
    "print(\"| | | | | Welcome to the multiplication game! | | | | |\\n\\n\")\n",
    "name = input(\"Enter your name: \\n\")\n",
    "print(f\"Ok, {name}, do you wanna try hard-more?\\n(You can only pick numbers over 30 and numbers not divisible by 2)\")\n",
    "difficulty = input(\"Y/N): \")\n",
    "score = 0 \n",
    "try:\n",
    "    while True:\n",
    "        x = int(input(f\"Alright {name}, enter an integer: \"))\n",
    "        y = int(input(\"And now input another integer: \"))\n",
    "        if difficulty == \"Y\" and x < 30 or y < 30 or x % 2 == 0 or y % 2 == 0:\n",
    "            print(\"Ey, cheater! You picked hardmode! Program closing, I wanna play with honest people...\")\n",
    "            break\n",
    "        elif int(input(f\"What is {x} times {y}? \")) == x*y:\n",
    "            score += 1\n",
    "            print(f\"That's correct! Your score is now {score}.\")\n",
    "        else:\n",
    "            print(f\"Sorry, the correct answer is {x*y}.\\nYour score is now {score}.\")\n",
    "\n",
    "        if input(\"Do you want to go again?\\n(Enter Q to quit, anything else restarts the game.): \") == \"Q\":\n",
    "            print(f\"Ok, thanks for playing {name}! Your score this round was {score}.\")\n",
    "            break\n",
    "        else:\n",
    "            print(\"Alright, let's go!\")\n",
    "except:\n",
    "    print(\"Please enter a valid integer. Exiting game.\")\n",
    "\n",
    "#b) Lägg till en meny med svårighetsgradsväljare.\n",
    "\n",
    "#c) Extra funktionalitet: Namn\n"
   ]
  },
  {
   "attachments": {},
   "cell_type": "markdown",
   "metadata": {},
   "source": [
    "## 5. Check convergence"
   ]
  },
  {
   "cell_type": "code",
   "execution_count": 260,
   "metadata": {},
   "outputs": [
    {
     "name": "stdout",
     "output_type": "stream",
     "text": [
      "1.9999990463256836\n",
      "Det ska närma sig 2.\n"
     ]
    }
   ],
   "source": [
    "# a)\n",
    "\n",
    "from fractions import Fraction\n",
    "\n",
    "def conv1(n):\n",
    "    count = 0\n",
    "    sum = 1\n",
    "    x = 1\n",
    "    while count < n:\n",
    "        sum += x/2\n",
    "        x /= 2\n",
    "        count += 1\n",
    "    return(sum)\n",
    "\n",
    "print(conv1(20))\n",
    "print(\"Det ska närma sig 2.\")"
   ]
  },
  {
   "cell_type": "code",
   "execution_count": 265,
   "metadata": {},
   "outputs": [
    {
     "name": "stdout",
     "output_type": "stream",
     "text": [
      "0.7851481634599485\n",
      "Det bör bli något närmre 0.785\n"
     ]
    }
   ],
   "source": [
    "# b)\n",
    "\n",
    "def conv2(n):\n",
    "    count = 0\n",
    "    sum = 0\n",
    "    x = 1\n",
    "    while count < n:\n",
    "        if count % 2 == 0:\n",
    "            sum += 1/x\n",
    "            x += 2\n",
    "            count += 1\n",
    "        else:\n",
    "            sum -= 1/x\n",
    "            x += 2\n",
    "            count += 1\n",
    "    return(sum)\n",
    "\n",
    "print(conv2(1000))\n",
    "print(f\"Det bör bli något närmre {3.14/4}\")"
   ]
  }
 ],
 "metadata": {
  "kernelspec": {
   "display_name": "Python 3",
   "language": "python",
   "name": "python3"
  },
  "language_info": {
   "codemirror_mode": {
    "name": "ipython",
    "version": 3
   },
   "file_extension": ".py",
   "mimetype": "text/x-python",
   "name": "python",
   "nbconvert_exporter": "python",
   "pygments_lexer": "ipython3",
   "version": "3.11.4"
  },
  "orig_nbformat": 4
 },
 "nbformat": 4,
 "nbformat_minor": 2
}
